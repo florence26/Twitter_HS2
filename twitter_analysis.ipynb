{
 "cells": [
  {
   "cell_type": "markdown",
   "metadata": {},
   "source": [
    "# HS2 Tweets\n",
    "### Importing Packages"
   ]
  },
  {
   "cell_type": "code",
   "execution_count": 2,
   "metadata": {},
   "outputs": [],
   "source": [
    "import tweepy as tw\n",
    "import pprint\n",
    "import numpy as np\n",
    "import nltk\n",
    "import bokeh\n",
    "import pandas as pd\n",
    "import matplotlib.pyplot as plt\n",
    "import seaborn as sns\n",
    "import random\n",
    "import re\n",
    "\n",
    "from collections import Counter\n",
    "\n",
    "from wordcloud import WordCloud\n",
    "\n",
    "from bokeh.io import output_notebook, show, reset_output\n",
    "from bokeh.plotting import figure\n",
    "from bokeh.models import HoverTool\n",
    "from bokeh.models import ColumnDataSource\n",
    "from bokeh.palettes import Plasma256\n",
    "from bokeh.models import Range1d\n",
    "\n",
    "from nltk.corpus import stopwords\n",
    "from nltk.stem import WordNetLemmatizer\n",
    "from nltk.tokenize import RegexpTokenizer\n",
    "from nltk.tokenize import word_tokenize\n",
    "\n",
    "from textblob import Word, TextBlob"
   ]
  },
  {
   "cell_type": "markdown",
   "metadata": {},
   "source": [
    "### Twitter API Access & Set-Up"
   ]
  },
  {
   "cell_type": "code",
   "execution_count": 3,
   "metadata": {},
   "outputs": [],
   "source": [
    "file = open(r\"C:\\Users\\yeungf8452\\OneDrive - ARCADIS\\HS2 (Data Science)\\HS2 Twitter\\twitter_api.txt\", \"r\").readlines()\n",
    "\n",
    "api = file[0].strip('\\n')\n",
    "api_secret = file[1].strip('\\n')\n",
    "bearer_token = file[2].strip('\\n')\n",
    "access_token = file[3].strip('\\n')\n",
    "access_token_secret = file[4].strip('\\n')"
   ]
  },
  {
   "cell_type": "code",
   "execution_count": 4,
   "metadata": {},
   "outputs": [],
   "source": [
    "auth = tw.OAuthHandler(api, api_secret)\n",
    "auth.set_access_token(access_token, access_token_secret)\n",
    "api_app = tw.API(auth, wait_on_rate_limit = True)"
   ]
  },
  {
   "cell_type": "markdown",
   "metadata": {},
   "source": [
    "### Query"
   ]
  },
  {
   "cell_type": "code",
   "execution_count": 1,
   "metadata": {},
   "outputs": [
    {
     "ename": "NameError",
     "evalue": "name 'tw' is not defined",
     "output_type": "error",
     "traceback": [
      "\u001b[1;31m---------------------------------------------------------------------------\u001b[0m",
      "\u001b[1;31mNameError\u001b[0m                                 Traceback (most recent call last)",
      "\u001b[1;32m<ipython-input-1-ae9688af6ccc>\u001b[0m in \u001b[0;36m<module>\u001b[1;34m\u001b[0m\n\u001b[1;32m----> 1\u001b[1;33m \u001b[0mclient\u001b[0m \u001b[1;33m=\u001b[0m \u001b[0mtw\u001b[0m\u001b[1;33m.\u001b[0m\u001b[0mClient\u001b[0m\u001b[1;33m(\u001b[0m\u001b[0mbearer_token\u001b[0m\u001b[1;33m)\u001b[0m\u001b[1;33m\u001b[0m\u001b[1;33m\u001b[0m\u001b[0m\n\u001b[0m\u001b[0;32m      2\u001b[0m \u001b[1;33m\u001b[0m\u001b[0m\n\u001b[0;32m      3\u001b[0m \u001b[0mhashtag\u001b[0m \u001b[1;33m=\u001b[0m \u001b[1;34m\"#HS2 OR #hs2 lang:en\"\u001b[0m\u001b[1;33m\u001b[0m\u001b[1;33m\u001b[0m\u001b[0m\n\u001b[0;32m      4\u001b[0m \u001b[0mtweet_fields\u001b[0m\u001b[1;33m=\u001b[0m\u001b[1;33m[\u001b[0m\u001b[1;34m'context_annotations'\u001b[0m\u001b[1;33m,\u001b[0m \u001b[1;34m'created_at'\u001b[0m\u001b[1;33m,\u001b[0m \u001b[1;34m'entities'\u001b[0m\u001b[1;33m,\u001b[0m \u001b[1;34m'geo'\u001b[0m\u001b[1;33m,\u001b[0m \u001b[1;34m'public_metrics'\u001b[0m\u001b[1;33m,\u001b[0m \u001b[1;34m'referenced_tweets'\u001b[0m\u001b[1;33m]\u001b[0m\u001b[1;33m\u001b[0m\u001b[1;33m\u001b[0m\u001b[0m\n\u001b[0;32m      5\u001b[0m \u001b[0muser_fields\u001b[0m \u001b[1;33m=\u001b[0m \u001b[1;33m[\u001b[0m\u001b[1;34m'location'\u001b[0m\u001b[1;33m,\u001b[0m \u001b[1;34m'public_metrics'\u001b[0m\u001b[1;33m]\u001b[0m\u001b[1;33m\u001b[0m\u001b[1;33m\u001b[0m\u001b[0m\n",
      "\u001b[1;31mNameError\u001b[0m: name 'tw' is not defined"
     ]
    }
   ],
   "source": [
    "client = tw.Client(bearer_token)\n",
    "\n",
    "hashtag = \"#HS2 OR #hs2 lang:en\"\n",
    "tweet_fields=['context_annotations', 'created_at', 'entities', 'geo', 'public_metrics', 'referenced_tweets']\n",
    "user_fields = ['location', 'public_metrics']\n",
    "# user fields: https://developer.twitter.com/en/docs/twitter-api/data-dictionary/object-model/user\n",
    "expansions=['geo.place_id', 'author_id', 'referenced_tweets.id']\n",
    "place_fields=['name', 'geo']\n",
    "max_results = 10\n",
    "# place fields: https://developer.twitter.com/en/docs/twitter-api/data-dictionary/object-model/place\n",
    "\n",
    "# For search options: https://developer.twitter.com/en/docs/twitter-api/tweets/search/integrate/build-a-query\n",
    "# Only can use operators that are \"core\"\n",
    "# More examples: https://github.com/twitterdev/getting-started-with-the-twitter-api-v2-for-academic-research/blob/main/modules/5-how-to-write-search-queries.md\n",
    "\n",
    "# Use pagination if need more than 100 tweets\n",
    "# query = tw.Paginator(client.search_recent_tweets, \"HS2\", max_results=10, limit=3)\n",
    "# Use .flatten when looking through data if using paginator\n",
    "# https://docs.tweepy.org/en/stable/pagination.html\n",
    "# https://developer.twitter.com/en/docs/twitter-api/pagination\n",
    "\n",
    "query = client.search_recent_tweets(query=hashtag, tweet_fields = tweet_fields, user_fields = user_fields, expansions = expansions, place_fields = place_fields, max_results=max_results)\n",
    "\n",
    "# fields are necessary in queries to get details"
   ]
  },
  {
   "cell_type": "markdown",
   "metadata": {},
   "source": [
    "### Tweet Information"
   ]
  },
  {
   "cell_type": "code",
   "execution_count": 188,
   "metadata": {},
   "outputs": [],
   "source": [
    "tweets = [{'Author ID' : tweet.author_id, 'Tweet' : tweet.text, 'Time Created': tweet.created_at, 'Tweet_ID': tweet.id, 'Auto Context Annotations':tweet.context_annotations, 'Entities': tweet.entities, \n",
    "'Location':tweet.geo, 'Metrics':tweet.public_metrics, 'Ref Tweets':tweet.referenced_tweets} for tweet in query.data]\n",
    "\n",
    "tweets_df = pd.DataFrame(tweets)"
   ]
  },
  {
   "cell_type": "code",
   "execution_count": 189,
   "metadata": {},
   "outputs": [],
   "source": [
    "tweets_df['Auto Context Annotations Entity'] = np.empty((len(tweets_df), 0)).tolist()\n",
    "\n",
    "for k, i in enumerate(tweets_df['Auto Context Annotations']):\n",
    "    for j in range(len(i)):\n",
    "        entity = i[j]['entity']['name']\n",
    "        tweets_df.loc[k, 'Auto Context Annotations Entity'].append(entity)"
   ]
  },
  {
   "cell_type": "code",
   "execution_count": 190,
   "metadata": {},
   "outputs": [],
   "source": [
    "entity_types = {'annotations':'normalized_text', 'cashtags': 'tag', 'hashtags': 'tag', 'mentions': 'username', 'urls': 'url'}\n",
    "for i in entity_types.keys():\n",
    "    tweets_df[i] = np.empty((len(tweets_df), 0)).tolist()\n",
    "    entity_list = []\n",
    "    for j, k in enumerate(tweets_df['Entities']):\n",
    "        try:\n",
    "            list_of_dicts = k[i]\n",
    "            entity_list.append([a_dict[entity_types[i]] for a_dict in k[i]])\n",
    "        except KeyError:\n",
    "            entity_list.append([])\n",
    "    tweets_df[i] = entity_list"
   ]
  },
  {
   "cell_type": "code",
   "execution_count": 191,
   "metadata": {},
   "outputs": [],
   "source": [
    "metric_types = [\"retweet_count\", \"reply_count\", \"like_count\", \"quote_count\"]\n",
    "\n",
    "for i in metric_types:\n",
    "    tweets_df[i] = np.empty((len(tweets_df), 0)).tolist()\n",
    "    metric_list = []\n",
    "    for j in (tweets_df['Metrics']):\n",
    "        metric_list.append(j[i])\n",
    "    tweets_df[i] = metric_list"
   ]
  },
  {
   "cell_type": "code",
   "execution_count": 192,
   "metadata": {},
   "outputs": [],
   "source": [
    "ref_tweet_id = []\n",
    "ref_tweet_type = []\n",
    "for i in tweets_df['Ref Tweets']:\n",
    "    try:\n",
    "        ref_tweet_id.append(i[0].id)\n",
    "        ref_tweet_type.append(i[0].type)\n",
    "    except:\n",
    "        ref_tweet_id.append(0)\n",
    "        ref_tweet_type.append(np.nan)\n",
    "tweets_df['ref_tweet_id'] = (ref_tweet_id)\n",
    "tweets_df['ref_tweet_type'] = ref_tweet_type\n"
   ]
  },
  {
   "cell_type": "markdown",
   "metadata": {},
   "source": [
    "## User, Geographical and Reference Tweet"
   ]
  },
  {
   "cell_type": "code",
   "execution_count": 193,
   "metadata": {},
   "outputs": [],
   "source": [
    "user_geo_reftweet = {}\n",
    "for i in ['users','places','tweets']:\n",
    "    try:\n",
    "        parameter = query.includes[i]\n",
    "        user_geo_reftweet[i] = {u for u in parameter}\n",
    "    except KeyError:\n",
    "        continue\n",
    "\n",
    "users_df = pd.DataFrame(user_geo_reftweet['users'])\n",
    "ref_tweet_df = pd.DataFrame(user_geo_reftweet['tweets'])"
   ]
  },
  {
   "cell_type": "markdown",
   "metadata": {},
   "source": [
    "### User Information"
   ]
  },
  {
   "cell_type": "code",
   "execution_count": 194,
   "metadata": {},
   "outputs": [],
   "source": [
    "users_pub_metrics = [\"followers_count\",\"following_count\",\"tweet_count\",\"listed_count\"]\n",
    "\n",
    "for i in users_pub_metrics:\n",
    "    users_df[i] = np.empty((len(users_df), 0)).tolist()\n",
    "    metric_list = []\n",
    "    for j in (users_df['public_metrics']):\n",
    "        metric_list.append(j[i])\n",
    "    users_df[i] = metric_list"
   ]
  },
  {
   "cell_type": "markdown",
   "metadata": {},
   "source": [
    "### Referenced Tweet Information"
   ]
  },
  {
   "cell_type": "code",
   "execution_count": 195,
   "metadata": {},
   "outputs": [],
   "source": [
    "entity_types = {'annotations':'normalized_text', 'cashtags': 'tag', 'hashtags': 'tag', 'mentions': 'username', 'urls': 'url'}\n",
    "for i in entity_types.keys():\n",
    "    ref_tweet_df[i] = np.empty((len(ref_tweet_df), 0)).tolist()\n",
    "    entity_list = []\n",
    "    for j, k in enumerate(ref_tweet_df['entities']):\n",
    "        try:\n",
    "            list_of_dicts = k[i]\n",
    "            entity_list.append([a_dict[entity_types[i]] for a_dict in k[i]])\n",
    "        except KeyError:\n",
    "            entity_list.append([])\n",
    "    ref_tweet_df[i] = entity_list"
   ]
  },
  {
   "cell_type": "code",
   "execution_count": 196,
   "metadata": {},
   "outputs": [],
   "source": [
    "metric_types = [\"retweet_count\", \"reply_count\", \"like_count\", \"quote_count\"]\n",
    "\n",
    "for i in metric_types:\n",
    "    ref_tweet_df[i] = np.empty((len(ref_tweet_df), 0)).tolist()\n",
    "    metric_list = []\n",
    "    for j in (ref_tweet_df['public_metrics']):\n",
    "        metric_list.append(j[i])\n",
    "    ref_tweet_df[i] = metric_list"
   ]
  },
  {
   "cell_type": "code",
   "execution_count": 156,
   "metadata": {},
   "outputs": [],
   "source": [
    "# id_list = []\n",
    "# for i, j in enumerate(ref_tweet_df['referenced_tweets']):\n",
    "#     ref_tweet_df['ref_id'] = np.empty((len(ref_tweet_df), 0)).tolist()\n",
    "#     try:\n",
    "#         id_list.append(j[0].id)\n",
    "#     except TypeError:\n",
    "#         id_list.append(0)\n",
    "# ref_tweet_df['ref_id'] = id_list"
   ]
  },
  {
   "cell_type": "markdown",
   "metadata": {},
   "source": [
    "### Tweet, User, Geography and Referenced Tweet Information Merged"
   ]
  },
  {
   "cell_type": "code",
   "execution_count": 218,
   "metadata": {},
   "outputs": [],
   "source": [
    "tweets_clean_df = tweets_df.drop(columns = ['Entities', 'Metrics', 'Ref Tweets', 'Auto Context Annotations'])\n",
    "users_clean_df = users_df.drop(columns = ['public_metrics'])\n",
    "ref_tweet_clean_df = ref_tweet_df.drop(columns = ['entities', 'public_metrics', 'context_annotations'])"
   ]
  },
  {
   "cell_type": "code",
   "execution_count": 217,
   "metadata": {},
   "outputs": [
    {
     "data": {
      "text/html": [
       "<div>\n",
       "<style scoped>\n",
       "    .dataframe tbody tr th:only-of-type {\n",
       "        vertical-align: middle;\n",
       "    }\n",
       "\n",
       "    .dataframe tbody tr th {\n",
       "        vertical-align: top;\n",
       "    }\n",
       "\n",
       "    .dataframe thead th {\n",
       "        text-align: right;\n",
       "    }\n",
       "</style>\n",
       "<table border=\"1\" class=\"dataframe\">\n",
       "  <thead>\n",
       "    <tr style=\"text-align: right;\">\n",
       "      <th></th>\n",
       "      <th>author_id</th>\n",
       "      <th>context_annotations</th>\n",
       "      <th>created_at</th>\n",
       "      <th>id</th>\n",
       "      <th>text</th>\n",
       "      <th>annotations</th>\n",
       "      <th>cashtags</th>\n",
       "      <th>hashtags</th>\n",
       "      <th>mentions</th>\n",
       "      <th>urls</th>\n",
       "      <th>retweet_count</th>\n",
       "      <th>reply_count</th>\n",
       "      <th>like_count</th>\n",
       "      <th>quote_count</th>\n",
       "    </tr>\n",
       "  </thead>\n",
       "  <tbody>\n",
       "    <tr>\n",
       "      <th>0</th>\n",
       "      <td>706747004</td>\n",
       "      <td>[{'domain': {'id': '10', 'name': 'Person', 'de...</td>\n",
       "      <td>2021-10-25 13:27:32+00:00</td>\n",
       "      <td>1452627891494207490</td>\n",
       "      <td>Air quality is a matter of social justice, all...</td>\n",
       "      <td>[London]</td>\n",
       "      <td>[]</td>\n",
       "      <td>[]</td>\n",
       "      <td>[SadiqKhan, BBCPolitics]</td>\n",
       "      <td>[https://t.co/wnxhNfh8cL]</td>\n",
       "      <td>3</td>\n",
       "      <td>11</td>\n",
       "      <td>25</td>\n",
       "      <td>1</td>\n",
       "    </tr>\n",
       "    <tr>\n",
       "      <th>1</th>\n",
       "      <td>1153265544877019136</td>\n",
       "      <td>[{'domain': {'id': '45', 'name': 'Brand Vertic...</td>\n",
       "      <td>2021-10-18 22:09:10+00:00</td>\n",
       "      <td>1450222447911972869</td>\n",
       "      <td>Legacy Centre of Excellence and @LegacyImpactU...</td>\n",
       "      <td>[]</td>\n",
       "      <td>[]</td>\n",
       "      <td>[business, businessowner, diversity, construct...</td>\n",
       "      <td>[LegacyImpactUK, HS2ltd]</td>\n",
       "      <td>[https://t.co/wGzTLGU7uF, https://t.co/hzx9PYJ...</td>\n",
       "      <td>5</td>\n",
       "      <td>0</td>\n",
       "      <td>10</td>\n",
       "      <td>1</td>\n",
       "    </tr>\n",
       "    <tr>\n",
       "      <th>2</th>\n",
       "      <td>1046748134683148289</td>\n",
       "      <td>NaN</td>\n",
       "      <td>2021-10-25 14:30:05+00:00</td>\n",
       "      <td>1452643632024981510</td>\n",
       "      <td>#ROADWORKS\\n\\n🚧⛔ Overnight full closures for #...</td>\n",
       "      <td>[]</td>\n",
       "      <td>[]</td>\n",
       "      <td>[ROADWORKS, HS2, M42, M6SouthLink, M6, Coleshill]</td>\n",
       "      <td>[HighwaysWMIDS]</td>\n",
       "      <td>[https://t.co/9NwExj5RO2, https://t.co/KM09OrV...</td>\n",
       "      <td>1</td>\n",
       "      <td>0</td>\n",
       "      <td>0</td>\n",
       "      <td>0</td>\n",
       "    </tr>\n",
       "    <tr>\n",
       "      <th>3</th>\n",
       "      <td>1166333571574960128</td>\n",
       "      <td>[{'domain': {'id': '47', 'name': 'Brand', 'des...</td>\n",
       "      <td>2021-10-22 18:14:06+00:00</td>\n",
       "      <td>1451612843690889223</td>\n",
       "      <td>Speculation on why the govts Integrated Rail P...</td>\n",
       "      <td>[Midlands]</td>\n",
       "      <td>[]</td>\n",
       "      <td>[HS2, NPR]</td>\n",
       "      <td>[theipaper, BorisJohnson]</td>\n",
       "      <td>[https://t.co/iJTeSIqztD]</td>\n",
       "      <td>3</td>\n",
       "      <td>1</td>\n",
       "      <td>8</td>\n",
       "      <td>1</td>\n",
       "    </tr>\n",
       "    <tr>\n",
       "      <th>4</th>\n",
       "      <td>1166333571574960128</td>\n",
       "      <td>[{'domain': {'id': '10', 'name': 'Person', 'de...</td>\n",
       "      <td>2021-10-24 13:55:29+00:00</td>\n",
       "      <td>1452272539149942793</td>\n",
       "      <td>Highlights from @MayorOfWY @TracyBrabin on @Ri...</td>\n",
       "      <td>[]</td>\n",
       "      <td>[]</td>\n",
       "      <td>[HS2, NPR]</td>\n",
       "      <td>[MayorOfWY, TracyBrabin, RidgeOnSunday]</td>\n",
       "      <td>[https://t.co/by0rFWQi3W]</td>\n",
       "      <td>9</td>\n",
       "      <td>5</td>\n",
       "      <td>36</td>\n",
       "      <td>1</td>\n",
       "    </tr>\n",
       "    <tr>\n",
       "      <th>5</th>\n",
       "      <td>1151206672527962112</td>\n",
       "      <td>NaN</td>\n",
       "      <td>2021-10-25 14:22:21+00:00</td>\n",
       "      <td>1452641684890730506</td>\n",
       "      <td>The reduction in domestic aviation achievable ...</td>\n",
       "      <td>[UK]</td>\n",
       "      <td>[]</td>\n",
       "      <td>[hs2]</td>\n",
       "      <td>[]</td>\n",
       "      <td>[https://t.co/dFtgFpbpth]</td>\n",
       "      <td>0</td>\n",
       "      <td>1</td>\n",
       "      <td>0</td>\n",
       "      <td>0</td>\n",
       "    </tr>\n",
       "    <tr>\n",
       "      <th>6</th>\n",
       "      <td>270869723</td>\n",
       "      <td>NaN</td>\n",
       "      <td>2021-10-25 14:00:22+00:00</td>\n",
       "      <td>1452636154248011794</td>\n",
       "      <td>At Meet The Contractor 2021 find out how to gr...</td>\n",
       "      <td>[]</td>\n",
       "      <td>[]</td>\n",
       "      <td>[procurement, SupplyChain, HS2]</td>\n",
       "      <td>[]</td>\n",
       "      <td>[https://t.co/P1zC2H2GSs, https://t.co/a4NTeej...</td>\n",
       "      <td>1</td>\n",
       "      <td>0</td>\n",
       "      <td>3</td>\n",
       "      <td>0</td>\n",
       "    </tr>\n",
       "  </tbody>\n",
       "</table>\n",
       "</div>"
      ],
      "text/plain": [
       "             author_id                                context_annotations  \\\n",
       "0            706747004  [{'domain': {'id': '10', 'name': 'Person', 'de...   \n",
       "1  1153265544877019136  [{'domain': {'id': '45', 'name': 'Brand Vertic...   \n",
       "2  1046748134683148289                                                NaN   \n",
       "3  1166333571574960128  [{'domain': {'id': '47', 'name': 'Brand', 'des...   \n",
       "4  1166333571574960128  [{'domain': {'id': '10', 'name': 'Person', 'de...   \n",
       "5  1151206672527962112                                                NaN   \n",
       "6            270869723                                                NaN   \n",
       "\n",
       "                 created_at                   id  \\\n",
       "0 2021-10-25 13:27:32+00:00  1452627891494207490   \n",
       "1 2021-10-18 22:09:10+00:00  1450222447911972869   \n",
       "2 2021-10-25 14:30:05+00:00  1452643632024981510   \n",
       "3 2021-10-22 18:14:06+00:00  1451612843690889223   \n",
       "4 2021-10-24 13:55:29+00:00  1452272539149942793   \n",
       "5 2021-10-25 14:22:21+00:00  1452641684890730506   \n",
       "6 2021-10-25 14:00:22+00:00  1452636154248011794   \n",
       "\n",
       "                                                text annotations cashtags  \\\n",
       "0  Air quality is a matter of social justice, all...    [London]       []   \n",
       "1  Legacy Centre of Excellence and @LegacyImpactU...          []       []   \n",
       "2  #ROADWORKS\\n\\n🚧⛔ Overnight full closures for #...          []       []   \n",
       "3  Speculation on why the govts Integrated Rail P...  [Midlands]       []   \n",
       "4  Highlights from @MayorOfWY @TracyBrabin on @Ri...          []       []   \n",
       "5  The reduction in domestic aviation achievable ...        [UK]       []   \n",
       "6  At Meet The Contractor 2021 find out how to gr...          []       []   \n",
       "\n",
       "                                            hashtags  \\\n",
       "0                                                 []   \n",
       "1  [business, businessowner, diversity, construct...   \n",
       "2  [ROADWORKS, HS2, M42, M6SouthLink, M6, Coleshill]   \n",
       "3                                         [HS2, NPR]   \n",
       "4                                         [HS2, NPR]   \n",
       "5                                              [hs2]   \n",
       "6                    [procurement, SupplyChain, HS2]   \n",
       "\n",
       "                                  mentions  \\\n",
       "0                 [SadiqKhan, BBCPolitics]   \n",
       "1                 [LegacyImpactUK, HS2ltd]   \n",
       "2                          [HighwaysWMIDS]   \n",
       "3                [theipaper, BorisJohnson]   \n",
       "4  [MayorOfWY, TracyBrabin, RidgeOnSunday]   \n",
       "5                                       []   \n",
       "6                                       []   \n",
       "\n",
       "                                                urls  retweet_count  \\\n",
       "0                          [https://t.co/wnxhNfh8cL]              3   \n",
       "1  [https://t.co/wGzTLGU7uF, https://t.co/hzx9PYJ...              5   \n",
       "2  [https://t.co/9NwExj5RO2, https://t.co/KM09OrV...              1   \n",
       "3                          [https://t.co/iJTeSIqztD]              3   \n",
       "4                          [https://t.co/by0rFWQi3W]              9   \n",
       "5                          [https://t.co/dFtgFpbpth]              0   \n",
       "6  [https://t.co/P1zC2H2GSs, https://t.co/a4NTeej...              1   \n",
       "\n",
       "   reply_count  like_count  quote_count  \n",
       "0           11          25            1  \n",
       "1            0          10            1  \n",
       "2            0           0            0  \n",
       "3            1           8            1  \n",
       "4            5          36            1  \n",
       "5            1           0            0  \n",
       "6            0           3            0  "
      ]
     },
     "execution_count": 217,
     "metadata": {},
     "output_type": "execute_result"
    }
   ],
   "source": [
    "ref_tweet_clean_df"
   ]
  },
  {
   "cell_type": "code",
   "execution_count": 219,
   "metadata": {},
   "outputs": [],
   "source": [
    "tweets_users_df = tweets_clean_df.merge(users_clean_df, left_on = 'Author ID', right_on = 'id', how = 'outer')\n",
    "tweets_all = tweets_users_df.merge(ref_tweet_clean_df, left_on = 'ref_tweet_id', right_on = 'id', how = 'outer', suffixes=(\"_og\", \"_ref\"))"
   ]
  },
  {
   "cell_type": "code",
   "execution_count": 266,
   "metadata": {},
   "outputs": [],
   "source": [
    "just_tweets = [j if j is not np.nan else tweets_all['Tweet'][i] for i, j in enumerate(tweets_all['text'])]"
   ]
  },
  {
   "cell_type": "markdown",
   "metadata": {},
   "source": [
    "### Text Preprocessing"
   ]
  },
  {
   "cell_type": "code",
   "execution_count": 268,
   "metadata": {},
   "outputs": [],
   "source": [
    "stop_words = stopwords.words('english')\n",
    "other_words = ['rt']\n",
    "stop_words.extend(other_words)\n",
    "tokenizer = RegexpTokenizer(r'\\w+')"
   ]
  },
  {
   "cell_type": "code",
   "execution_count": 269,
   "metadata": {},
   "outputs": [],
   "source": [
    "def deEmojify(text):\n",
    "    regrex_pattern = re.compile(pattern = \"[\"\n",
    "                                u\"\\U0001F1E0-\\U0001F1FF\"  # flags (iOS)\n",
    "                                u\"\\U0001F300-\\U0001F5FF\"  # symbols & pictographs\n",
    "                                u\"\\U0001F600-\\U0001F64F\"  # emoticons\n",
    "                                u\"\\U0001F680-\\U0001F6FF\"  # transport & map symbols\n",
    "                                u\"\\U0001F700-\\U0001F77F\"  # alchemical symbols\n",
    "                                u\"\\U0001F780-\\U0001F7FF\"  # Geometric Shapes Extended\n",
    "                                u\"\\U0001F800-\\U0001F8FF\"  # Supplemental Arrows-C\n",
    "                                u\"\\U0001F900-\\U0001F9FF\"  # Supplemental Symbols and Pictographs\n",
    "                                u\"\\U0001FA00-\\U0001FA6F\"  # Chess Symbols\n",
    "                                u\"\\U0001FA70-\\U0001FAFF\"  # Symbols and Pictographs Extended-A\n",
    "                                u\"\\U00002702-\\U000027B0\"  # Dingbats\n",
    "                                u\"\\U000024C2-\\U0001F251\" \n",
    "                                \"]+\" , flags = re.UNICODE)\n",
    "    return regrex_pattern.sub(r'', text)"
   ]
  },
  {
   "cell_type": "code",
   "execution_count": 270,
   "metadata": {},
   "outputs": [],
   "source": [
    "def preprocessing_tweets(tweets):\n",
    "    processed_tweets = []\n",
    "    for i in tweets:\n",
    "\n",
    "        #removing all emojis\n",
    "        deemojified = deEmojify(i)\n",
    "        \n",
    "        # splitting with spaces\n",
    "        tokenized = deemojified.split()\n",
    "        each_tweet = []\n",
    "        for i in tokenized:\n",
    "            #lowercase all words\n",
    "            lowered = i.lower()\n",
    "            \n",
    "            #removing all non-word characters\n",
    "            lowered = re.sub('[^\\w\\@\\']', '', lowered)\n",
    "            \n",
    "            #remove all links, stopwords and retweet handles\n",
    "            # lemmatize all values\n",
    "            if not('http' in lowered) and not(lowered in stop_words) and not('@' in lowered) and not ('nauguration' in lowered):\n",
    "                each_tweet.append(Word(lowered).lemmatize())\n",
    "                \n",
    "        processed_tweets.append(\" \".join(each_tweet))\n",
    "    return(processed_tweets)\n",
    "\n",
    "def hashtag(tweets):\n",
    "    hashtags = [re.sub('#', '', j) for i in tweets for j in i.split() if (('#' in j) and ('HS2' not in j) and ('hs2' not in j))]\n",
    "    return(hashtags)"
   ]
  },
  {
   "cell_type": "code",
   "execution_count": 241,
   "metadata": {},
   "outputs": [],
   "source": [
    "polarity = []\n",
    "subjectivity = []\n",
    "for i in preprocessing_tweets(just_tweets):\n",
    "    polarity.append(TextBlob(i).sentiment[0])\n",
    "    subjectivity.append(TextBlob(i).sentiment[1])"
   ]
  },
  {
   "cell_type": "code",
   "execution_count": 271,
   "metadata": {},
   "outputs": [
    {
     "name": "stdout",
     "output_type": "stream",
     "text": [
      "Polarity of Hashtags: 0.0\n",
      "Subjectivity of Hashtags: 0.0\n"
     ]
    }
   ],
   "source": [
    "hashtag_polarity = np.mean([TextBlob(i).sentiment[0] for i in hashtag(just_tweets)])\n",
    "hashtag_subjectivity = np.mean([TextBlob(i).sentiment[1] for i in hashtag(just_tweets)])\n",
    "\n",
    "print(\"Polarity of Hashtags: \" + str(round(hashtag_polarity, 4)))\n",
    "print(\"Subjectivity of Hashtags: \" + str(round(hashtag_subjectivity,4)))"
   ]
  },
  {
   "cell_type": "code",
   "execution_count": 272,
   "metadata": {},
   "outputs": [
    {
     "name": "stdout",
     "output_type": "stream",
     "text": [
      "Polarity of Hashtags: 0.0\n",
      "Subjectivity of Hashtags: 0.0\n"
     ]
    }
   ],
   "source": [
    "# Polarity of 1 means positive, -1 means negative\n",
    "# Subjectivity of 1 means very subjective, 0 means non-subjective\n",
    "\n",
    "polarity = []\n",
    "subjectivity = []\n",
    "for i in preprocessing_tweets(just_tweets):\n",
    "    polarity.append(TextBlob(i).sentiment[0])\n",
    "    subjectivity.append(TextBlob(i).sentiment[1])\n",
    "\n",
    "hashtag_polarity = np.mean([TextBlob(i).sentiment[0] for i in hashtag(just_tweets)])\n",
    "hashtag_subjectivity = np.mean([TextBlob(i).sentiment[1] for i in hashtag(just_tweets)])\n",
    "\n",
    "print(\"Polarity of Hashtags: \" + str(round(hashtag_polarity, 4)))\n",
    "print(\"Subjectivity of Hashtags: \" + str(round(hashtag_subjectivity,4)))"
   ]
  },
  {
   "cell_type": "code",
   "execution_count": 273,
   "metadata": {},
   "outputs": [
    {
     "data": {
      "text/html": [
       "\n",
       "    <div class=\"bk-root\">\n",
       "        <a href=\"https://bokeh.org\" target=\"_blank\" class=\"bk-logo bk-logo-small bk-logo-notebook\"></a>\n",
       "        <span id=\"1473\">Loading BokehJS ...</span>\n",
       "    </div>"
      ]
     },
     "metadata": {},
     "output_type": "display_data"
    },
    {
     "data": {
      "application/javascript": "\n(function(root) {\n  function now() {\n    return new Date();\n  }\n\n  var force = true;\n\n  if (typeof root._bokeh_onload_callbacks === \"undefined\" || force === true) {\n    root._bokeh_onload_callbacks = [];\n    root._bokeh_is_loading = undefined;\n  }\n\n  var JS_MIME_TYPE = 'application/javascript';\n  var HTML_MIME_TYPE = 'text/html';\n  var EXEC_MIME_TYPE = 'application/vnd.bokehjs_exec.v0+json';\n  var CLASS_NAME = 'output_bokeh rendered_html';\n\n  /**\n   * Render data to the DOM node\n   */\n  function render(props, node) {\n    var script = document.createElement(\"script\");\n    node.appendChild(script);\n  }\n\n  /**\n   * Handle when an output is cleared or removed\n   */\n  function handleClearOutput(event, handle) {\n    var cell = handle.cell;\n\n    var id = cell.output_area._bokeh_element_id;\n    var server_id = cell.output_area._bokeh_server_id;\n    // Clean up Bokeh references\n    if (id != null && id in Bokeh.index) {\n      Bokeh.index[id].model.document.clear();\n      delete Bokeh.index[id];\n    }\n\n    if (server_id !== undefined) {\n      // Clean up Bokeh references\n      var cmd = \"from bokeh.io.state import curstate; print(curstate().uuid_to_server['\" + server_id + \"'].get_sessions()[0].document.roots[0]._id)\";\n      cell.notebook.kernel.execute(cmd, {\n        iopub: {\n          output: function(msg) {\n            var id = msg.content.text.trim();\n            if (id in Bokeh.index) {\n              Bokeh.index[id].model.document.clear();\n              delete Bokeh.index[id];\n            }\n          }\n        }\n      });\n      // Destroy server and session\n      var cmd = \"import bokeh.io.notebook as ion; ion.destroy_server('\" + server_id + \"')\";\n      cell.notebook.kernel.execute(cmd);\n    }\n  }\n\n  /**\n   * Handle when a new output is added\n   */\n  function handleAddOutput(event, handle) {\n    var output_area = handle.output_area;\n    var output = handle.output;\n\n    // limit handleAddOutput to display_data with EXEC_MIME_TYPE content only\n    if ((output.output_type != \"display_data\") || (!output.data.hasOwnProperty(EXEC_MIME_TYPE))) {\n      return\n    }\n\n    var toinsert = output_area.element.find(\".\" + CLASS_NAME.split(' ')[0]);\n\n    if (output.metadata[EXEC_MIME_TYPE][\"id\"] !== undefined) {\n      toinsert[toinsert.length - 1].firstChild.textContent = output.data[JS_MIME_TYPE];\n      // store reference to embed id on output_area\n      output_area._bokeh_element_id = output.metadata[EXEC_MIME_TYPE][\"id\"];\n    }\n    if (output.metadata[EXEC_MIME_TYPE][\"server_id\"] !== undefined) {\n      var bk_div = document.createElement(\"div\");\n      bk_div.innerHTML = output.data[HTML_MIME_TYPE];\n      var script_attrs = bk_div.children[0].attributes;\n      for (var i = 0; i < script_attrs.length; i++) {\n        toinsert[toinsert.length - 1].firstChild.setAttribute(script_attrs[i].name, script_attrs[i].value);\n      }\n      // store reference to server id on output_area\n      output_area._bokeh_server_id = output.metadata[EXEC_MIME_TYPE][\"server_id\"];\n    }\n  }\n\n  function register_renderer(events, OutputArea) {\n\n    function append_mime(data, metadata, element) {\n      // create a DOM node to render to\n      var toinsert = this.create_output_subarea(\n        metadata,\n        CLASS_NAME,\n        EXEC_MIME_TYPE\n      );\n      this.keyboard_manager.register_events(toinsert);\n      // Render to node\n      var props = {data: data, metadata: metadata[EXEC_MIME_TYPE]};\n      render(props, toinsert[toinsert.length - 1]);\n      element.append(toinsert);\n      return toinsert\n    }\n\n    /* Handle when an output is cleared or removed */\n    events.on('clear_output.CodeCell', handleClearOutput);\n    events.on('delete.Cell', handleClearOutput);\n\n    /* Handle when a new output is added */\n    events.on('output_added.OutputArea', handleAddOutput);\n\n    /**\n     * Register the mime type and append_mime function with output_area\n     */\n    OutputArea.prototype.register_mime_type(EXEC_MIME_TYPE, append_mime, {\n      /* Is output safe? */\n      safe: true,\n      /* Index of renderer in `output_area.display_order` */\n      index: 0\n    });\n  }\n\n  // register the mime type if in Jupyter Notebook environment and previously unregistered\n  if (root.Jupyter !== undefined) {\n    var events = require('base/js/events');\n    var OutputArea = require('notebook/js/outputarea').OutputArea;\n\n    if (OutputArea.prototype.mime_types().indexOf(EXEC_MIME_TYPE) == -1) {\n      register_renderer(events, OutputArea);\n    }\n  }\n\n  \n  if (typeof (root._bokeh_timeout) === \"undefined\" || force === true) {\n    root._bokeh_timeout = Date.now() + 5000;\n    root._bokeh_failed_load = false;\n  }\n\n  var NB_LOAD_WARNING = {'data': {'text/html':\n     \"<div style='background-color: #fdd'>\\n\"+\n     \"<p>\\n\"+\n     \"BokehJS does not appear to have successfully loaded. If loading BokehJS from CDN, this \\n\"+\n     \"may be due to a slow or bad network connection. Possible fixes:\\n\"+\n     \"</p>\\n\"+\n     \"<ul>\\n\"+\n     \"<li>re-rerun `output_notebook()` to attempt to load from CDN again, or</li>\\n\"+\n     \"<li>use INLINE resources instead, as so:</li>\\n\"+\n     \"</ul>\\n\"+\n     \"<code>\\n\"+\n     \"from bokeh.resources import INLINE\\n\"+\n     \"output_notebook(resources=INLINE)\\n\"+\n     \"</code>\\n\"+\n     \"</div>\"}};\n\n  function display_loaded() {\n    var el = document.getElementById(\"1473\");\n    if (el != null) {\n      el.textContent = \"BokehJS is loading...\";\n    }\n    if (root.Bokeh !== undefined) {\n      if (el != null) {\n        el.textContent = \"BokehJS \" + root.Bokeh.version + \" successfully loaded.\";\n      }\n    } else if (Date.now() < root._bokeh_timeout) {\n      setTimeout(display_loaded, 100)\n    }\n  }\n\n\n  function run_callbacks() {\n    try {\n      root._bokeh_onload_callbacks.forEach(function(callback) {\n        if (callback != null)\n          callback();\n      });\n    } finally {\n      delete root._bokeh_onload_callbacks\n    }\n    console.debug(\"Bokeh: all callbacks have finished\");\n  }\n\n  function load_libs(css_urls, js_urls, callback) {\n    if (css_urls == null) css_urls = [];\n    if (js_urls == null) js_urls = [];\n\n    root._bokeh_onload_callbacks.push(callback);\n    if (root._bokeh_is_loading > 0) {\n      console.debug(\"Bokeh: BokehJS is being loaded, scheduling callback at\", now());\n      return null;\n    }\n    if (js_urls == null || js_urls.length === 0) {\n      run_callbacks();\n      return null;\n    }\n    console.debug(\"Bokeh: BokehJS not loaded, scheduling load and callback at\", now());\n    root._bokeh_is_loading = css_urls.length + js_urls.length;\n\n    function on_load() {\n      root._bokeh_is_loading--;\n      if (root._bokeh_is_loading === 0) {\n        console.debug(\"Bokeh: all BokehJS libraries/stylesheets loaded\");\n        run_callbacks()\n      }\n    }\n\n    function on_error() {\n      console.error(\"failed to load \" + url);\n    }\n\n    for (var i = 0; i < css_urls.length; i++) {\n      var url = css_urls[i];\n      const element = document.createElement(\"link\");\n      element.onload = on_load;\n      element.onerror = on_error;\n      element.rel = \"stylesheet\";\n      element.type = \"text/css\";\n      element.href = url;\n      console.debug(\"Bokeh: injecting link tag for BokehJS stylesheet: \", url);\n      document.body.appendChild(element);\n    }\n\n    for (var i = 0; i < js_urls.length; i++) {\n      var url = js_urls[i];\n      var element = document.createElement('script');\n      element.onload = on_load;\n      element.onerror = on_error;\n      element.async = false;\n      element.src = url;\n      console.debug(\"Bokeh: injecting script tag for BokehJS library: \", url);\n      document.head.appendChild(element);\n    }\n  };var element = document.getElementById(\"1473\");\n  if (element == null) {\n    console.error(\"Bokeh: ERROR: autoload.js configured with elementid '1473' but no matching script tag was found. \")\n    return false;\n  }\n\n  function inject_raw_css(css) {\n    const element = document.createElement(\"style\");\n    element.appendChild(document.createTextNode(css));\n    document.body.appendChild(element);\n  }\n\n  \n  var js_urls = [\"https://cdn.pydata.org/bokeh/release/bokeh-1.4.0.min.js\", \"https://cdn.pydata.org/bokeh/release/bokeh-widgets-1.4.0.min.js\", \"https://cdn.pydata.org/bokeh/release/bokeh-tables-1.4.0.min.js\", \"https://cdn.pydata.org/bokeh/release/bokeh-gl-1.4.0.min.js\"];\n  var css_urls = [];\n  \n\n  var inline_js = [\n    function(Bokeh) {\n      Bokeh.set_log_level(\"info\");\n    },\n    function(Bokeh) {\n    \n    \n    }\n  ];\n\n  function run_inline_js() {\n    \n    if (root.Bokeh !== undefined || force === true) {\n      \n    for (var i = 0; i < inline_js.length; i++) {\n      inline_js[i].call(root, root.Bokeh);\n    }\n    if (force === true) {\n        display_loaded();\n      }} else if (Date.now() < root._bokeh_timeout) {\n      setTimeout(run_inline_js, 100);\n    } else if (!root._bokeh_failed_load) {\n      console.log(\"Bokeh: BokehJS failed to load within specified timeout.\");\n      root._bokeh_failed_load = true;\n    } else if (force !== true) {\n      var cell = $(document.getElementById(\"1473\")).parents('.cell').data().cell;\n      cell.output_area.append_execute_result(NB_LOAD_WARNING)\n    }\n\n  }\n\n  if (root._bokeh_is_loading === 0) {\n    console.debug(\"Bokeh: BokehJS loaded, going straight to plotting\");\n    run_inline_js();\n  } else {\n    load_libs(css_urls, js_urls, function() {\n      console.debug(\"Bokeh: BokehJS plotting callback run at\", now());\n      run_inline_js();\n    });\n  }\n}(window));",
      "application/vnd.bokehjs_load.v0+json": ""
     },
     "metadata": {},
     "output_type": "display_data"
    },
    {
     "data": {
      "text/html": [
       "\n",
       "\n",
       "\n",
       "\n",
       "\n",
       "\n",
       "  <div class=\"bk-root\" id=\"daa51081-d4f9-4802-8f6c-0bdd01168fc1\" data-root-id=\"1474\"></div>\n"
      ]
     },
     "metadata": {},
     "output_type": "display_data"
    },
    {
     "data": {
      "application/javascript": "(function(root) {\n  function embed_document(root) {\n    \n  var docs_json = {\"ac866aea-9d53-4106-83d1-3178cddf8024\":{\"roots\":{\"references\":[{\"attributes\":{\"below\":[{\"id\":\"1483\",\"type\":\"LinearAxis\"}],\"center\":[{\"id\":\"1487\",\"type\":\"Grid\"},{\"id\":\"1492\",\"type\":\"Grid\"}],\"left\":[{\"id\":\"1488\",\"type\":\"LinearAxis\"}],\"plot_height\":300,\"plot_width\":500,\"renderers\":[{\"id\":\"1509\",\"type\":\"GlyphRenderer\"}],\"title\":{\"id\":\"1550\",\"type\":\"Title\"},\"toolbar\":{\"id\":\"1499\",\"type\":\"Toolbar\"},\"x_range\":{\"id\":\"1475\",\"type\":\"DataRange1d\"},\"x_scale\":{\"id\":\"1479\",\"type\":\"LinearScale\"},\"y_range\":{\"id\":\"1477\",\"type\":\"DataRange1d\"},\"y_scale\":{\"id\":\"1481\",\"type\":\"LinearScale\"}},\"id\":\"1474\",\"subtype\":\"Figure\",\"type\":\"Plot\"},{\"attributes\":{},\"id\":\"1493\",\"type\":\"PanTool\"},{\"attributes\":{},\"id\":\"1494\",\"type\":\"WheelZoomTool\"},{\"attributes\":{\"callback\":null},\"id\":\"1475\",\"type\":\"DataRange1d\"},{\"attributes\":{},\"id\":\"1481\",\"type\":\"LinearScale\"},{\"attributes\":{},\"id\":\"1497\",\"type\":\"ResetTool\"},{\"attributes\":{},\"id\":\"1556\",\"type\":\"UnionRenderers\"},{\"attributes\":{\"callback\":null,\"data\":{\"x\":[0.225,0.35,0.35,0.0,0.3,0.0,0.0,0.3,0.0,0.22857142857142856],\"y\":[0.31666666666666665,0.55,0.55,0.4000000000000001,0.65,0.4000000000000001,0.0,0.65,0.0,0.43412698412698414]},\"selected\":{\"id\":\"1555\",\"type\":\"Selection\"},\"selection_policy\":{\"id\":\"1556\",\"type\":\"UnionRenderers\"}},\"id\":\"1506\",\"type\":\"ColumnDataSource\"},{\"attributes\":{},\"id\":\"1554\",\"type\":\"BasicTickFormatter\"},{\"attributes\":{\"axis_label\":\"Polarity\",\"formatter\":{\"id\":\"1552\",\"type\":\"BasicTickFormatter\"},\"ticker\":{\"id\":\"1484\",\"type\":\"BasicTicker\"}},\"id\":\"1483\",\"type\":\"LinearAxis\"},{\"attributes\":{},\"id\":\"1479\",\"type\":\"LinearScale\"},{\"attributes\":{},\"id\":\"1555\",\"type\":\"Selection\"},{\"attributes\":{\"source\":{\"id\":\"1506\",\"type\":\"ColumnDataSource\"}},\"id\":\"1510\",\"type\":\"CDSView\"},{\"attributes\":{},\"id\":\"1496\",\"type\":\"SaveTool\"},{\"attributes\":{\"fill_alpha\":{\"value\":0.5},\"line_color\":{\"value\":\"navy\"},\"size\":{\"units\":\"screen\",\"value\":5},\"x\":{\"field\":\"x\"},\"y\":{\"field\":\"y\"}},\"id\":\"1507\",\"type\":\"Circle\"},{\"attributes\":{\"callback\":null},\"id\":\"1477\",\"type\":\"DataRange1d\"},{\"attributes\":{\"active_drag\":\"auto\",\"active_inspect\":\"auto\",\"active_multi\":null,\"active_scroll\":\"auto\",\"active_tap\":\"auto\",\"tools\":[{\"id\":\"1493\",\"type\":\"PanTool\"},{\"id\":\"1494\",\"type\":\"WheelZoomTool\"},{\"id\":\"1495\",\"type\":\"BoxZoomTool\"},{\"id\":\"1496\",\"type\":\"SaveTool\"},{\"id\":\"1497\",\"type\":\"ResetTool\"},{\"id\":\"1498\",\"type\":\"HelpTool\"},{\"id\":\"1511\",\"type\":\"HoverTool\"}]},\"id\":\"1499\",\"type\":\"Toolbar\"},{\"attributes\":{\"data_source\":{\"id\":\"1506\",\"type\":\"ColumnDataSource\"},\"glyph\":{\"id\":\"1507\",\"type\":\"Circle\"},\"hover_glyph\":null,\"muted_glyph\":null,\"nonselection_glyph\":{\"id\":\"1508\",\"type\":\"Circle\"},\"selection_glyph\":null,\"view\":{\"id\":\"1510\",\"type\":\"CDSView\"}},\"id\":\"1509\",\"type\":\"GlyphRenderer\"},{\"attributes\":{\"dimension\":1,\"ticker\":{\"id\":\"1489\",\"type\":\"BasicTicker\"}},\"id\":\"1492\",\"type\":\"Grid\"},{\"attributes\":{\"axis_label\":\"Subjectivity\",\"formatter\":{\"id\":\"1554\",\"type\":\"BasicTickFormatter\"},\"ticker\":{\"id\":\"1489\",\"type\":\"BasicTicker\"}},\"id\":\"1488\",\"type\":\"LinearAxis\"},{\"attributes\":{\"overlay\":{\"id\":\"1557\",\"type\":\"BoxAnnotation\"}},\"id\":\"1495\",\"type\":\"BoxZoomTool\"},{\"attributes\":{},\"id\":\"1552\",\"type\":\"BasicTickFormatter\"},{\"attributes\":{},\"id\":\"1498\",\"type\":\"HelpTool\"},{\"attributes\":{\"bottom_units\":\"screen\",\"fill_alpha\":{\"value\":0.5},\"fill_color\":{\"value\":\"lightgrey\"},\"left_units\":\"screen\",\"level\":\"overlay\",\"line_alpha\":{\"value\":1.0},\"line_color\":{\"value\":\"black\"},\"line_dash\":[4,4],\"line_width\":{\"value\":2},\"render_mode\":\"css\",\"right_units\":\"screen\",\"top_units\":\"screen\"},\"id\":\"1557\",\"type\":\"BoxAnnotation\"},{\"attributes\":{\"ticker\":{\"id\":\"1484\",\"type\":\"BasicTicker\"}},\"id\":\"1487\",\"type\":\"Grid\"},{\"attributes\":{\"fill_alpha\":{\"value\":0.1},\"fill_color\":{\"value\":\"#1f77b4\"},\"line_alpha\":{\"value\":0.1},\"line_color\":{\"value\":\"#1f77b4\"},\"size\":{\"units\":\"screen\",\"value\":5},\"x\":{\"field\":\"x\"},\"y\":{\"field\":\"y\"}},\"id\":\"1508\",\"type\":\"Circle\"},{\"attributes\":{\"callback\":null},\"id\":\"1511\",\"type\":\"HoverTool\"},{\"attributes\":{},\"id\":\"1489\",\"type\":\"BasicTicker\"},{\"attributes\":{},\"id\":\"1484\",\"type\":\"BasicTicker\"},{\"attributes\":{\"text\":\"\"},\"id\":\"1550\",\"type\":\"Title\"}],\"root_ids\":[\"1474\"]},\"title\":\"Bokeh Application\",\"version\":\"1.4.0\"}};\n  var render_items = [{\"docid\":\"ac866aea-9d53-4106-83d1-3178cddf8024\",\"roots\":{\"1474\":\"daa51081-d4f9-4802-8f6c-0bdd01168fc1\"}}];\n  root.Bokeh.embed.embed_items_notebook(docs_json, render_items);\n\n  }\n  if (root.Bokeh !== undefined) {\n    embed_document(root);\n  } else {\n    var attempts = 0;\n    var timer = setInterval(function(root) {\n      if (root.Bokeh !== undefined) {\n        clearInterval(timer);\n        embed_document(root);\n      } else {\n        attempts++;\n        if (attempts > 100) {\n          clearInterval(timer);\n          console.log(\"Bokeh: ERROR: Unable to run BokehJS code because BokehJS library is missing\");\n        }\n      }\n    }, 10, root)\n  }\n})(window);",
      "application/vnd.bokehjs_exec.v0+json": ""
     },
     "metadata": {
      "application/vnd.bokehjs_exec.v0+json": {
       "id": "1474"
      }
     },
     "output_type": "display_data"
    }
   ],
   "source": [
    "output_notebook()\n",
    "\n",
    "x_scatter = polarity\n",
    "y_scatter = subjectivity\n",
    "\n",
    "# plot \n",
    "scatter_plot = figure(plot_width=500, plot_height=300, x_axis_label='Polarity', y_axis_label='Subjectivity')\n",
    "scatter_plot.circle(x_scatter, y_scatter, size=5, line_color='navy', fill_color='gray', fill_alpha=0.5)\n",
    "scatter_plot.add_tools(HoverTool())\n",
    "show(scatter_plot)"
   ]
  },
  {
   "cell_type": "code",
   "execution_count": 274,
   "metadata": {},
   "outputs": [],
   "source": [
    "words = []\n",
    "for i in preprocessing_tweets(just_tweets):\n",
    "    words.extend(i.split())\n",
    "    \n",
    "words_df = pd.DataFrame()\n",
    "words_df['word'] = list(dict(Counter(words)).keys())\n",
    "words_df['count'] = list(dict(Counter(words)).values())\n",
    "words_df = words_df.sort_values(by=['count'], ascending = False)"
   ]
  },
  {
   "cell_type": "code",
   "execution_count": 275,
   "metadata": {},
   "outputs": [
    {
     "data": {
      "text/html": [
       "\n",
       "\n",
       "\n",
       "\n",
       "\n",
       "\n",
       "  <div class=\"bk-root\" id=\"268d2db7-aa45-488c-a813-498dcf40f28c\" data-root-id=\"1612\"></div>\n"
      ]
     },
     "metadata": {},
     "output_type": "display_data"
    },
    {
     "data": {
      "application/javascript": "(function(root) {\n  function embed_document(root) {\n    \n  var docs_json = {\"1fff41d2-1711-4387-bb37-ff4409dba807\":{\"roots\":{\"references\":[{\"attributes\":{\"below\":[{\"id\":\"1621\",\"type\":\"CategoricalAxis\"}],\"center\":[{\"id\":\"1624\",\"type\":\"Grid\"},{\"id\":\"1629\",\"type\":\"Grid\"}],\"left\":[{\"id\":\"1625\",\"type\":\"LinearAxis\"}],\"plot_height\":350,\"renderers\":[{\"id\":\"1646\",\"type\":\"GlyphRenderer\"}],\"title\":{\"id\":\"1651\",\"type\":\"Title\"},\"toolbar\":{\"id\":\"1636\",\"type\":\"Toolbar\"},\"x_range\":{\"id\":\"1613\",\"type\":\"FactorRange\"},\"x_scale\":{\"id\":\"1617\",\"type\":\"CategoricalScale\"},\"y_range\":{\"id\":\"1650\",\"type\":\"Range1d\"},\"y_scale\":{\"id\":\"1619\",\"type\":\"LinearScale\"}},\"id\":\"1612\",\"subtype\":\"Figure\",\"type\":\"Plot\"},{\"attributes\":{\"dimension\":1,\"ticker\":{\"id\":\"1626\",\"type\":\"BasicTicker\"}},\"id\":\"1629\",\"type\":\"Grid\"},{\"attributes\":{\"callback\":null,\"factors\":[\"hs2\",\"amp\",\"domestic\",\"exit\",\"air\",\"register\",\"business\",\"dfths2\",\"review\",\"oakervee\",\"presented\",\"paper\",\"briefing\",\"11'\",\"according\",\"majority\",\"'up\",\"achievable\",\"aviation\",\"reduction\",\"\\u2139\",\"night\",\"vast\",\"contractor\",\"uk\",\"pipeline\",\"event\",\"virtual\",\"supplychain\",\"part\"]},\"id\":\"1613\",\"type\":\"FactorRange\"},{\"attributes\":{},\"id\":\"1704\",\"type\":\"BasicTickFormatter\"},{\"attributes\":{\"data_source\":{\"id\":\"1643\",\"type\":\"ColumnDataSource\"},\"glyph\":{\"id\":\"1644\",\"type\":\"VBar\"},\"hover_glyph\":null,\"muted_glyph\":null,\"nonselection_glyph\":{\"id\":\"1645\",\"type\":\"VBar\"},\"selection_glyph\":null,\"view\":{\"id\":\"1647\",\"type\":\"CDSView\"}},\"id\":\"1646\",\"type\":\"GlyphRenderer\"},{\"attributes\":{\"callback\":null,\"data\":{\"fill_color\":[\"#E87059\",\"#FCAC32\",\"#E87158\",\"#6D00A8\",\"#FBD324\",\"#C8447A\",\"#7801A8\",\"#1D068D\",\"#C43F7E\",\"#D14F71\",\"#E76E5A\",\"#FA9C3B\",\"#4A02A0\",\"#8104A7\",\"#A51F97\",\"#BD3784\",\"#F0804D\",\"#E56C5B\",\"#D7576B\",\"#E3685E\",\"#F48947\",\"#F79341\",\"#49029F\",\"#FDB62D\",\"#6100A6\",\"#380499\",\"#CB4777\",\"#D04D73\",\"#6700A7\",\"#F2F026\"],\"top\":[14,5,4,4,3,3,3,2,2,2,2,2,2,2,2,2,2,2,2,2,2,2,2,2,2,2,2,2,2,2],\"x\":[\"hs2\",\"amp\",\"domestic\",\"exit\",\"air\",\"register\",\"business\",\"dfths2\",\"review\",\"oakervee\",\"presented\",\"paper\",\"briefing\",\"11'\",\"according\",\"majority\",\"'up\",\"achievable\",\"aviation\",\"reduction\",\"\\u2139\",\"night\",\"vast\",\"contractor\",\"uk\",\"pipeline\",\"event\",\"virtual\",\"supplychain\",\"part\"]},\"selected\":{\"id\":\"1705\",\"type\":\"Selection\"},\"selection_policy\":{\"id\":\"1706\",\"type\":\"UnionRenderers\"}},\"id\":\"1643\",\"type\":\"ColumnDataSource\"},{\"attributes\":{\"source\":{\"id\":\"1643\",\"type\":\"ColumnDataSource\"}},\"id\":\"1647\",\"type\":\"CDSView\"},{\"attributes\":{},\"id\":\"1630\",\"type\":\"PanTool\"},{\"attributes\":{},\"id\":\"1631\",\"type\":\"WheelZoomTool\"},{\"attributes\":{\"overlay\":{\"id\":\"1707\",\"type\":\"BoxAnnotation\"}},\"id\":\"1632\",\"type\":\"BoxZoomTool\"},{\"attributes\":{\"axis_label\":\"Word\",\"formatter\":{\"id\":\"1702\",\"type\":\"CategoricalTickFormatter\"},\"major_label_orientation\":\"vertical\",\"ticker\":{\"id\":\"1622\",\"type\":\"CategoricalTicker\"}},\"id\":\"1621\",\"type\":\"CategoricalAxis\"},{\"attributes\":{},\"id\":\"1633\",\"type\":\"SaveTool\"},{\"attributes\":{},\"id\":\"1635\",\"type\":\"HelpTool\"},{\"attributes\":{},\"id\":\"1617\",\"type\":\"CategoricalScale\"},{\"attributes\":{\"fill_color\":{\"field\":\"fill_color\"},\"line_color\":{\"value\":\"white\"},\"top\":{\"field\":\"top\"},\"width\":{\"value\":0.9},\"x\":{\"field\":\"x\"}},\"id\":\"1644\",\"type\":\"VBar\"},{\"attributes\":{},\"id\":\"1634\",\"type\":\"ResetTool\"},{\"attributes\":{},\"id\":\"1706\",\"type\":\"UnionRenderers\"},{\"attributes\":{},\"id\":\"1619\",\"type\":\"LinearScale\"},{\"attributes\":{\"callback\":null},\"id\":\"1648\",\"type\":\"HoverTool\"},{\"attributes\":{\"ticker\":{\"id\":\"1622\",\"type\":\"CategoricalTicker\"}},\"id\":\"1624\",\"type\":\"Grid\"},{\"attributes\":{},\"id\":\"1622\",\"type\":\"CategoricalTicker\"},{\"attributes\":{\"bottom_units\":\"screen\",\"fill_alpha\":{\"value\":0.5},\"fill_color\":{\"value\":\"lightgrey\"},\"left_units\":\"screen\",\"level\":\"overlay\",\"line_alpha\":{\"value\":1.0},\"line_color\":{\"value\":\"black\"},\"line_dash\":[4,4],\"line_width\":{\"value\":2},\"render_mode\":\"css\",\"right_units\":\"screen\",\"top_units\":\"screen\"},\"id\":\"1707\",\"type\":\"BoxAnnotation\"},{\"attributes\":{\"callback\":null,\"end\":15},\"id\":\"1650\",\"type\":\"Range1d\"},{\"attributes\":{\"axis_label\":\"Count\",\"formatter\":{\"id\":\"1704\",\"type\":\"BasicTickFormatter\"},\"ticker\":{\"id\":\"1626\",\"type\":\"BasicTicker\"}},\"id\":\"1625\",\"type\":\"LinearAxis\"},{\"attributes\":{},\"id\":\"1626\",\"type\":\"BasicTicker\"},{\"attributes\":{},\"id\":\"1705\",\"type\":\"Selection\"},{\"attributes\":{\"active_drag\":\"auto\",\"active_inspect\":\"auto\",\"active_multi\":null,\"active_scroll\":\"auto\",\"active_tap\":\"auto\",\"tools\":[{\"id\":\"1630\",\"type\":\"PanTool\"},{\"id\":\"1631\",\"type\":\"WheelZoomTool\"},{\"id\":\"1632\",\"type\":\"BoxZoomTool\"},{\"id\":\"1633\",\"type\":\"SaveTool\"},{\"id\":\"1634\",\"type\":\"ResetTool\"},{\"id\":\"1635\",\"type\":\"HelpTool\"},{\"id\":\"1648\",\"type\":\"HoverTool\"}]},\"id\":\"1636\",\"type\":\"Toolbar\"},{\"attributes\":{\"align\":\"center\",\"text\":\"Word Counts\",\"text_font_size\":{\"value\":\"25px\"}},\"id\":\"1651\",\"type\":\"Title\"},{\"attributes\":{\"fill_alpha\":{\"value\":0.1},\"fill_color\":{\"value\":\"#1f77b4\"},\"line_alpha\":{\"value\":0.1},\"line_color\":{\"value\":\"#1f77b4\"},\"top\":{\"field\":\"top\"},\"width\":{\"value\":0.9},\"x\":{\"field\":\"x\"}},\"id\":\"1645\",\"type\":\"VBar\"},{\"attributes\":{},\"id\":\"1702\",\"type\":\"CategoricalTickFormatter\"}],\"root_ids\":[\"1612\"]},\"title\":\"Bokeh Application\",\"version\":\"1.4.0\"}};\n  var render_items = [{\"docid\":\"1fff41d2-1711-4387-bb37-ff4409dba807\",\"roots\":{\"1612\":\"268d2db7-aa45-488c-a813-498dcf40f28c\"}}];\n  root.Bokeh.embed.embed_items_notebook(docs_json, render_items);\n\n  }\n  if (root.Bokeh !== undefined) {\n    embed_document(root);\n  } else {\n    var attempts = 0;\n    var timer = setInterval(function(root) {\n      if (root.Bokeh !== undefined) {\n        clearInterval(timer);\n        embed_document(root);\n      } else {\n        attempts++;\n        if (attempts > 100) {\n          clearInterval(timer);\n          console.log(\"Bokeh: ERROR: Unable to run BokehJS code because BokehJS library is missing\");\n        }\n      }\n    }, 10, root)\n  }\n})(window);",
      "application/vnd.bokehjs_exec.v0+json": ""
     },
     "metadata": {
      "application/vnd.bokehjs_exec.v0+json": {
       "id": "1612"
      }
     },
     "output_type": "display_data"
    }
   ],
   "source": [
    "p = figure(x_range=list(words_df.head(30)['word']), plot_height=350)\n",
    "\n",
    "p.vbar(x =words_df['word'].head(30), top=words_df['count'].head(30), \\\n",
    "       width=0.9, line_color='white', \\\n",
    "       fill_color = random.sample(Plasma256,30))\n",
    "\n",
    "p.xaxis.major_label_orientation = \"vertical\"\n",
    "p.add_tools(HoverTool())\n",
    "p.y_range=Range1d(0, 15)\n",
    "p.title.text=\"Word Counts\"\n",
    "p.title.text_font_size = \"25px\"\n",
    "p.title.align = 'center'\n",
    "p.xaxis.axis_label = 'Word'\n",
    "p.yaxis.axis_label = 'Count'\n",
    "\n",
    "show(p)"
   ]
  },
  {
   "cell_type": "markdown",
   "metadata": {},
   "source": [
    "## DistilBERT"
   ]
  },
  {
   "cell_type": "code",
   "execution_count": 253,
   "metadata": {},
   "outputs": [],
   "source": [
    "#pip install git+https://github.com/huggingface/transformers.git"
   ]
  },
  {
   "cell_type": "code",
   "execution_count": 276,
   "metadata": {},
   "outputs": [
    {
     "name": "stderr",
     "output_type": "stream",
     "text": [
      "No model was supplied, defaulted to distilbert-base-uncased-finetuned-sst-2-english (https://huggingface.co/distilbert-base-uncased-finetuned-sst-2-english)\n",
      "Some layers from the model checkpoint at distilbert-base-uncased-finetuned-sst-2-english were not used when initializing TFDistilBertForSequenceClassification: ['dropout_19']\n",
      "- This IS expected if you are initializing TFDistilBertForSequenceClassification from the checkpoint of a model trained on another task or with another architecture (e.g. initializing a BertForSequenceClassification model from a BertForPreTraining model).\n",
      "- This IS NOT expected if you are initializing TFDistilBertForSequenceClassification from the checkpoint of a model that you expect to be exactly identical (initializing a BertForSequenceClassification model from a BertForSequenceClassification model).\n",
      "Some layers of TFDistilBertForSequenceClassification were not initialized from the model checkpoint at distilbert-base-uncased-finetuned-sst-2-english and are newly initialized: ['dropout_39']\n",
      "You should probably TRAIN this model on a down-stream task to be able to use it for predictions and inference.\n"
     ]
    }
   ],
   "source": [
    "from transformers import pipeline\n",
    "\n",
    "# Defaults to distilBERT\n",
    "# Light version of BERT\n",
    "classifier = pipeline('sentiment-analysis')"
   ]
  },
  {
   "cell_type": "code",
   "execution_count": 284,
   "metadata": {},
   "outputs": [],
   "source": [
    "db_label = []\n",
    "db_score = []\n",
    "\n",
    "for i, j in enumerate(preprocessing_tweets(just_tweets)):\n",
    "    db_label.append(classifier(j)[0]['label'])\n",
    "    db_score.append(classifier(j)[0]['score'])\n",
    "\n",
    "distilbert_sentiment = pd.DataFrame(just_tweets)\n",
    "distilbert_sentiment['Label'] = db_label\n",
    "distilbert_sentiment['Score'] = db_score"
   ]
  },
  {
   "cell_type": "code",
   "execution_count": 287,
   "metadata": {},
   "outputs": [
    {
     "data": {
      "text/plain": [
       "'At Meet The Contractor 2021 find out how to grow your business with HS2. Get the latest on our #procurement pipelines and how you can become a vital part of the HS2 #SupplyChain. \\nRegister now for the virtual event: https://t.co/P1zC2H2GSs #HS2 https://t.co/a4NTeejQJ4'"
      ]
     },
     "execution_count": 287,
     "metadata": {},
     "output_type": "execute_result"
    }
   ],
   "source": [
    "distilbert_sentiment.iloc[7,0]   "
   ]
  },
  {
   "cell_type": "markdown",
   "metadata": {},
   "source": [
    "# Resources\n",
    "https://dev.to/twitterdev/a-comprehensive-guide-for-using-the-twitter-api-v2-using-tweepy-in-python-15d9"
   ]
  },
  {
   "cell_type": "code",
   "execution_count": null,
   "metadata": {},
   "outputs": [],
   "source": [
    "# user_geo_reftweet = {}\n",
    "# for j in ['users','places','tweets']:\n",
    "#     # since we cannot extract geographical location yet, 'places' is unavailable \n",
    "\n",
    "#     try:\n",
    "#         parameter = query.includes[j]\n",
    "#     except:\n",
    "#         continue\n",
    "#     else:\n",
    "#         ref_tweet_df = []\n",
    "#         og_author_list = []\n",
    "#         for i in range(max_results):\n",
    "#             try:\n",
    "#                 parameter = query.includes[j][i]\n",
    "#                 ref_tweet_df.append(parameter)\n",
    "#             except IndexError:\n",
    "#                 continue\n",
    "#             else:\n",
    "#                 og_author_list.append(query.data[i]['author_id'])\n",
    "#     user_geo_reftweet[j] = [ref_tweet_df, og_author_list]\n",
    "        "
   ]
  },
  {
   "cell_type": "code",
   "execution_count": null,
   "metadata": {},
   "outputs": [],
   "source": [
    "# users_df = pd.DataFrame(user_geo_reftweet['users'][0])\n",
    "# users_df['og_author_id'] = user_geo_reftweet['users'][1]\n",
    "\n",
    "# ref_tweet_df = pd.DataFrame(user_geo_reftweet['tweets'][0])\n",
    "# ref_tweet_df['og_author_id'] = user_geo_reftweet['tweets'][1]"
   ]
  }
 ],
 "metadata": {
  "interpreter": {
   "hash": "b3ba2566441a7c06988d0923437866b63cedc61552a5af99d1f4fb67d367b25f"
  },
  "kernelspec": {
   "display_name": "Python 3.7.6 64-bit ('base': conda)",
   "name": "python3"
  },
  "language_info": {
   "codemirror_mode": {
    "name": "ipython",
    "version": 3
   },
   "file_extension": ".py",
   "mimetype": "text/x-python",
   "name": "python",
   "nbconvert_exporter": "python",
   "pygments_lexer": "ipython3",
   "version": "3.7.6"
  },
  "orig_nbformat": 4
 },
 "nbformat": 4,
 "nbformat_minor": 2
}
