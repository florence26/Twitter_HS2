{
 "cells": [
  {
   "cell_type": "markdown",
   "metadata": {},
   "source": [
    "# HS2 Tweets\n",
    "### Importing Packages"
   ]
  },
  {
   "cell_type": "code",
   "execution_count": 1,
   "metadata": {},
   "outputs": [],
   "source": [
    "import tweepy as tw\n",
    "import pprint\n",
    "import numpy as np\n",
    "import nltk\n",
    "import bokeh\n",
    "import pandas as pd\n",
    "import matplotlib.pyplot as plt\n",
    "import seaborn as sns\n",
    "import random\n",
    "import re\n",
    "\n",
    "from collections import Counter\n",
    "\n",
    "from wordcloud import WordCloud\n",
    "\n",
    "from bokeh.io import output_notebook, show, reset_output\n",
    "from bokeh.plotting import figure\n",
    "from bokeh.models import HoverTool\n",
    "from bokeh.models import ColumnDataSource\n",
    "from bokeh.palettes import Plasma256\n",
    "from bokeh.models import Range1d\n",
    "\n",
    "from nltk.corpus import stopwords\n",
    "from nltk.stem import WordNetLemmatizer\n",
    "from nltk.tokenize import RegexpTokenizer\n",
    "from nltk.tokenize import word_tokenize\n",
    "\n",
    "from textblob import Word, TextBlob"
   ]
  },
  {
   "cell_type": "markdown",
   "metadata": {},
   "source": [
    "### Twitter API Access & Set-Up"
   ]
  },
  {
   "cell_type": "code",
   "execution_count": 2,
   "metadata": {},
   "outputs": [],
   "source": [
    "file = open(r\"C:\\Users\\yeungf8452\\OneDrive - ARCADIS\\HS2 (Data Science)\\HS2 Twitter\\twitter_api.txt\", \"r\").readlines()\n",
    "\n",
    "api = file[0].strip('\\n')\n",
    "api_secret = file[1].strip('\\n')\n",
    "bearer_token = file[2].strip('\\n')\n",
    "access_token = file[3].strip('\\n')\n",
    "access_token_secret = file[4].strip('\\n')"
   ]
  },
  {
   "cell_type": "code",
   "execution_count": 3,
   "metadata": {},
   "outputs": [],
   "source": [
    "auth = tw.OAuthHandler(api, api_secret)\n",
    "auth.set_access_token(access_token, access_token_secret)\n",
    "api_app = tw.API(auth, wait_on_rate_limit = True)"
   ]
  },
  {
   "cell_type": "markdown",
   "metadata": {},
   "source": [
    "### Query"
   ]
  },
  {
   "cell_type": "code",
   "execution_count": 4,
   "metadata": {},
   "outputs": [],
   "source": [
    "client = tw.Client(bearer_token)\n",
    "\n",
    "hashtag = \"#HS2 OR #hs2 lang:en\"\n",
    "tweet_fields=['context_annotations', 'created_at', 'entities', 'geo', 'public_metrics', 'referenced_tweets']\n",
    "user_fields = ['location', 'public_metrics']\n",
    "# user fields: https://developer.twitter.com/en/docs/twitter-api/data-dictionary/object-model/user\n",
    "expansions=['geo.place_id', 'author_id', 'referenced_tweets.id']\n",
    "place_fields=['name', 'geo']\n",
    "max_results = 10\n",
    "# place fields: https://developer.twitter.com/en/docs/twitter-api/data-dictionary/object-model/place\n",
    "\n",
    "# For search options: https://developer.twitter.com/en/docs/twitter-api/tweets/search/integrate/build-a-query\n",
    "# Only can use operators that are \"core\"\n",
    "# More examples: https://github.com/twitterdev/getting-started-with-the-twitter-api-v2-for-academic-research/blob/main/modules/5-how-to-write-search-queries.md\n",
    "\n",
    "# Use pagination if need more than 100 tweets\n",
    "# query = tw.Paginator(client.search_recent_tweets, \"HS2\", max_results=10, limit=3)\n",
    "# Use .flatten when looking through data if using paginator\n",
    "# https://docs.tweepy.org/en/stable/pagination.html\n",
    "# https://developer.twitter.com/en/docs/twitter-api/pagination\n",
    "\n",
    "query = client.search_recent_tweets(query=hashtag, tweet_fields = tweet_fields, user_fields = user_fields, expansions = expansions, place_fields = place_fields, max_results=max_results)\n",
    "\n",
    "# fields are necessary in queries to get details"
   ]
  },
  {
   "cell_type": "markdown",
   "metadata": {},
   "source": [
    "### Tweet Information"
   ]
  },
  {
   "cell_type": "code",
   "execution_count": 5,
   "metadata": {},
   "outputs": [],
   "source": [
    "tweets = [{'Author ID' : tweet.author_id, 'Tweet' : tweet.text, 'Time Created': tweet.created_at, 'Tweet_ID': tweet.id, 'Auto Context Annotations':tweet.context_annotations, 'Entities': tweet.entities, \n",
    "'Location':tweet.geo, 'Metrics':tweet.public_metrics, 'Ref Tweets':tweet.referenced_tweets} for tweet in query.data]\n",
    "\n",
    "tweets_df = pd.DataFrame(tweets)"
   ]
  },
  {
   "cell_type": "code",
   "execution_count": 8,
   "metadata": {},
   "outputs": [],
   "source": [
    "tweets_df['Auto Context Annotations Entity'] = np.empty((len(tweets_df), 0)).tolist()\n",
    "\n",
    "for k, i in enumerate(tweets_df['Auto Context Annotations']):\n",
    "    for j in range(len(i)):\n",
    "        entity = i[j]['entity']['name']\n",
    "        tweets_df.loc[k, 'Auto Context Annotations Entity'].append(entity)"
   ]
  },
  {
   "cell_type": "code",
   "execution_count": 9,
   "metadata": {},
   "outputs": [
    {
     "data": {
      "text/html": [
       "<div>\n",
       "<style scoped>\n",
       "    .dataframe tbody tr th:only-of-type {\n",
       "        vertical-align: middle;\n",
       "    }\n",
       "\n",
       "    .dataframe tbody tr th {\n",
       "        vertical-align: top;\n",
       "    }\n",
       "\n",
       "    .dataframe thead th {\n",
       "        text-align: right;\n",
       "    }\n",
       "</style>\n",
       "<table border=\"1\" class=\"dataframe\">\n",
       "  <thead>\n",
       "    <tr style=\"text-align: right;\">\n",
       "      <th></th>\n",
       "      <th>Author ID</th>\n",
       "      <th>Tweet</th>\n",
       "      <th>Time Created</th>\n",
       "      <th>Tweet_ID</th>\n",
       "      <th>Auto Context Annotations</th>\n",
       "      <th>Entities</th>\n",
       "      <th>Location</th>\n",
       "      <th>Metrics</th>\n",
       "      <th>Ref Tweets</th>\n",
       "      <th>Auto Context Annotations Entity</th>\n",
       "    </tr>\n",
       "  </thead>\n",
       "  <tbody>\n",
       "    <tr>\n",
       "      <th>0</th>\n",
       "      <td>4105532853</td>\n",
       "      <td>@Dawn4GBYT Could be a deliberate attempt to de...</td>\n",
       "      <td>2021-11-22 15:11:27+00:00</td>\n",
       "      <td>1462800903409446919</td>\n",
       "      <td>[{'domain': {'id': '10', 'name': 'Person', 'de...</td>\n",
       "      <td>{'urls': [{'start': 283, 'end': 306, 'url': 'h...</td>\n",
       "      <td>None</td>\n",
       "      <td>{'retweet_count': 0, 'reply_count': 0, 'like_c...</td>\n",
       "      <td>[(type, id)]</td>\n",
       "      <td>[Gina Miller]</td>\n",
       "    </tr>\n",
       "    <tr>\n",
       "      <th>1</th>\n",
       "      <td>481108679</td>\n",
       "      <td>@helenhalcrow @LouiseAKennedy @EdwardJDavey @S...</td>\n",
       "      <td>2021-11-22 15:10:31+00:00</td>\n",
       "      <td>1462800667366539268</td>\n",
       "      <td>[]</td>\n",
       "      <td>{'mentions': [{'start': 0, 'end': 13, 'usernam...</td>\n",
       "      <td>None</td>\n",
       "      <td>{'retweet_count': 0, 'reply_count': 0, 'like_c...</td>\n",
       "      <td>[(type, id)]</td>\n",
       "      <td>[]</td>\n",
       "    </tr>\n",
       "    <tr>\n",
       "      <th>2</th>\n",
       "      <td>21776645</td>\n",
       "      <td>RT @CBItweets: “To solve this country’s transp...</td>\n",
       "      <td>2021-11-22 15:08:58+00:00</td>\n",
       "      <td>1462800280173510664</td>\n",
       "      <td>[]</td>\n",
       "      <td>{'mentions': [{'start': 3, 'end': 13, 'usernam...</td>\n",
       "      <td>None</td>\n",
       "      <td>{'retweet_count': 2, 'reply_count': 0, 'like_c...</td>\n",
       "      <td>[(type, id)]</td>\n",
       "      <td>[]</td>\n",
       "    </tr>\n",
       "    <tr>\n",
       "      <th>3</th>\n",
       "      <td>21776645</td>\n",
       "      <td>RT @CBItweets: “Our rail package is fantastic ...</td>\n",
       "      <td>2021-11-22 15:07:23+00:00</td>\n",
       "      <td>1462799880896663557</td>\n",
       "      <td>[{'domain': {'id': '10', 'name': 'Person', 'de...</td>\n",
       "      <td>{'mentions': [{'start': 3, 'end': 13, 'usernam...</td>\n",
       "      <td>None</td>\n",
       "      <td>{'retweet_count': 2, 'reply_count': 0, 'like_c...</td>\n",
       "      <td>[(type, id)]</td>\n",
       "      <td>[Boris Johnson, Boris Johnson]</td>\n",
       "    </tr>\n",
       "    <tr>\n",
       "      <th>4</th>\n",
       "      <td>21776645</td>\n",
       "      <td>RT @CBItweets: “It’s not a row-back – it’s bet...</td>\n",
       "      <td>2021-11-22 15:07:13+00:00</td>\n",
       "      <td>1462799836214816775</td>\n",
       "      <td>[{'domain': {'id': '10', 'name': 'Person', 'de...</td>\n",
       "      <td>{'mentions': [{'start': 3, 'end': 13, 'usernam...</td>\n",
       "      <td>None</td>\n",
       "      <td>{'retweet_count': 2, 'reply_count': 0, 'like_c...</td>\n",
       "      <td>[(type, id)]</td>\n",
       "      <td>[Boris Johnson, Boris Johnson]</td>\n",
       "    </tr>\n",
       "  </tbody>\n",
       "</table>\n",
       "</div>"
      ],
      "text/plain": [
       "    Author ID                                              Tweet  \\\n",
       "0  4105532853  @Dawn4GBYT Could be a deliberate attempt to de...   \n",
       "1   481108679  @helenhalcrow @LouiseAKennedy @EdwardJDavey @S...   \n",
       "2    21776645  RT @CBItweets: “To solve this country’s transp...   \n",
       "3    21776645  RT @CBItweets: “Our rail package is fantastic ...   \n",
       "4    21776645  RT @CBItweets: “It’s not a row-back – it’s bet...   \n",
       "\n",
       "               Time Created             Tweet_ID  \\\n",
       "0 2021-11-22 15:11:27+00:00  1462800903409446919   \n",
       "1 2021-11-22 15:10:31+00:00  1462800667366539268   \n",
       "2 2021-11-22 15:08:58+00:00  1462800280173510664   \n",
       "3 2021-11-22 15:07:23+00:00  1462799880896663557   \n",
       "4 2021-11-22 15:07:13+00:00  1462799836214816775   \n",
       "\n",
       "                            Auto Context Annotations  \\\n",
       "0  [{'domain': {'id': '10', 'name': 'Person', 'de...   \n",
       "1                                                 []   \n",
       "2                                                 []   \n",
       "3  [{'domain': {'id': '10', 'name': 'Person', 'de...   \n",
       "4  [{'domain': {'id': '10', 'name': 'Person', 'de...   \n",
       "\n",
       "                                            Entities Location  \\\n",
       "0  {'urls': [{'start': 283, 'end': 306, 'url': 'h...     None   \n",
       "1  {'mentions': [{'start': 0, 'end': 13, 'usernam...     None   \n",
       "2  {'mentions': [{'start': 3, 'end': 13, 'usernam...     None   \n",
       "3  {'mentions': [{'start': 3, 'end': 13, 'usernam...     None   \n",
       "4  {'mentions': [{'start': 3, 'end': 13, 'usernam...     None   \n",
       "\n",
       "                                             Metrics    Ref Tweets  \\\n",
       "0  {'retweet_count': 0, 'reply_count': 0, 'like_c...  [(type, id)]   \n",
       "1  {'retweet_count': 0, 'reply_count': 0, 'like_c...  [(type, id)]   \n",
       "2  {'retweet_count': 2, 'reply_count': 0, 'like_c...  [(type, id)]   \n",
       "3  {'retweet_count': 2, 'reply_count': 0, 'like_c...  [(type, id)]   \n",
       "4  {'retweet_count': 2, 'reply_count': 0, 'like_c...  [(type, id)]   \n",
       "\n",
       "  Auto Context Annotations Entity  \n",
       "0                   [Gina Miller]  \n",
       "1                              []  \n",
       "2                              []  \n",
       "3  [Boris Johnson, Boris Johnson]  \n",
       "4  [Boris Johnson, Boris Johnson]  "
      ]
     },
     "execution_count": 9,
     "metadata": {},
     "output_type": "execute_result"
    }
   ],
   "source": [
    "tweets_df.head()"
   ]
  },
  {
   "cell_type": "code",
   "execution_count": 10,
   "metadata": {},
   "outputs": [],
   "source": [
    "entity_types = {'annotations':'normalized_text', 'cashtags': 'tag', 'hashtags': 'tag', 'mentions': 'username', 'urls': 'url'}\n",
    "for i in entity_types.keys():\n",
    "    tweets_df[i] = np.empty((len(tweets_df), 0)).tolist()\n",
    "    entity_list = []\n",
    "    for j, k in enumerate(tweets_df['Entities']):\n",
    "        try:\n",
    "            list_of_dicts = k[i]\n",
    "            entity_list.append([a_dict[entity_types[i]] for a_dict in k[i]])\n",
    "        except KeyError:\n",
    "            entity_list.append([])\n",
    "    tweets_df[i] = entity_list"
   ]
  },
  {
   "cell_type": "code",
   "execution_count": 11,
   "metadata": {},
   "outputs": [],
   "source": [
    "metric_types = [\"retweet_count\", \"reply_count\", \"like_count\", \"quote_count\"]\n",
    "\n",
    "for i in metric_types:\n",
    "    tweets_df[i] = np.empty((len(tweets_df), 0)).tolist()\n",
    "    metric_list = []\n",
    "    for j in (tweets_df['Metrics']):\n",
    "        metric_list.append(j[i])\n",
    "    tweets_df[i] = metric_list"
   ]
  },
  {
   "cell_type": "code",
   "execution_count": 12,
   "metadata": {},
   "outputs": [],
   "source": [
    "ref_tweet_id = []\n",
    "ref_tweet_type = []\n",
    "for i in tweets_df['Ref Tweets']:\n",
    "    try:\n",
    "        ref_tweet_id.append(i[0].id)\n",
    "        ref_tweet_type.append(i[0].type)\n",
    "    except:\n",
    "        ref_tweet_id.append(0)\n",
    "        ref_tweet_type.append(np.nan)\n",
    "tweets_df['ref_tweet_id'] = (ref_tweet_id)\n",
    "tweets_df['ref_tweet_type'] = ref_tweet_type\n"
   ]
  },
  {
   "cell_type": "code",
   "execution_count": 13,
   "metadata": {},
   "outputs": [
    {
     "data": {
      "text/html": [
       "<div>\n",
       "<style scoped>\n",
       "    .dataframe tbody tr th:only-of-type {\n",
       "        vertical-align: middle;\n",
       "    }\n",
       "\n",
       "    .dataframe tbody tr th {\n",
       "        vertical-align: top;\n",
       "    }\n",
       "\n",
       "    .dataframe thead th {\n",
       "        text-align: right;\n",
       "    }\n",
       "</style>\n",
       "<table border=\"1\" class=\"dataframe\">\n",
       "  <thead>\n",
       "    <tr style=\"text-align: right;\">\n",
       "      <th></th>\n",
       "      <th>Author ID</th>\n",
       "      <th>Tweet</th>\n",
       "      <th>Time Created</th>\n",
       "      <th>Tweet_ID</th>\n",
       "      <th>Auto Context Annotations</th>\n",
       "      <th>Entities</th>\n",
       "      <th>Location</th>\n",
       "      <th>Metrics</th>\n",
       "      <th>Ref Tweets</th>\n",
       "      <th>Auto Context Annotations Entity</th>\n",
       "      <th>...</th>\n",
       "      <th>cashtags</th>\n",
       "      <th>hashtags</th>\n",
       "      <th>mentions</th>\n",
       "      <th>urls</th>\n",
       "      <th>retweet_count</th>\n",
       "      <th>reply_count</th>\n",
       "      <th>like_count</th>\n",
       "      <th>quote_count</th>\n",
       "      <th>ref_tweet_id</th>\n",
       "      <th>ref_tweet_type</th>\n",
       "    </tr>\n",
       "  </thead>\n",
       "  <tbody>\n",
       "    <tr>\n",
       "      <th>0</th>\n",
       "      <td>4105532853</td>\n",
       "      <td>@Dawn4GBYT Could be a deliberate attempt to de...</td>\n",
       "      <td>2021-11-22 15:11:27+00:00</td>\n",
       "      <td>1462800903409446919</td>\n",
       "      <td>[{'domain': {'id': '10', 'name': 'Person', 'de...</td>\n",
       "      <td>{'urls': [{'start': 283, 'end': 306, 'url': 'h...</td>\n",
       "      <td>None</td>\n",
       "      <td>{'retweet_count': 0, 'reply_count': 0, 'like_c...</td>\n",
       "      <td>[(type, id)]</td>\n",
       "      <td>[Gina Miller]</td>\n",
       "      <td>...</td>\n",
       "      <td>[]</td>\n",
       "      <td>[socialcare, immigration, HS2]</td>\n",
       "      <td>[Dawn4GBYT]</td>\n",
       "      <td>[https://t.co/4QSiNPMkOl]</td>\n",
       "      <td>0</td>\n",
       "      <td>0</td>\n",
       "      <td>0</td>\n",
       "      <td>0</td>\n",
       "      <td>1462798162905776134</td>\n",
       "      <td>quoted</td>\n",
       "    </tr>\n",
       "    <tr>\n",
       "      <th>1</th>\n",
       "      <td>481108679</td>\n",
       "      <td>@helenhalcrow @LouiseAKennedy @EdwardJDavey @S...</td>\n",
       "      <td>2021-11-22 15:10:31+00:00</td>\n",
       "      <td>1462800667366539268</td>\n",
       "      <td>[]</td>\n",
       "      <td>{'mentions': [{'start': 0, 'end': 13, 'usernam...</td>\n",
       "      <td>None</td>\n",
       "      <td>{'retweet_count': 0, 'reply_count': 0, 'like_c...</td>\n",
       "      <td>[(type, id)]</td>\n",
       "      <td>[]</td>\n",
       "      <td>...</td>\n",
       "      <td>[]</td>\n",
       "      <td>[HS2]</td>\n",
       "      <td>[helenhalcrow, LouiseAKennedy, EdwardJDavey, S...</td>\n",
       "      <td>[]</td>\n",
       "      <td>0</td>\n",
       "      <td>0</td>\n",
       "      <td>0</td>\n",
       "      <td>0</td>\n",
       "      <td>1462355628693803020</td>\n",
       "      <td>replied_to</td>\n",
       "    </tr>\n",
       "    <tr>\n",
       "      <th>2</th>\n",
       "      <td>21776645</td>\n",
       "      <td>RT @CBItweets: “To solve this country’s transp...</td>\n",
       "      <td>2021-11-22 15:08:58+00:00</td>\n",
       "      <td>1462800280173510664</td>\n",
       "      <td>[]</td>\n",
       "      <td>{'mentions': [{'start': 3, 'end': 13, 'usernam...</td>\n",
       "      <td>None</td>\n",
       "      <td>{'retweet_count': 2, 'reply_count': 0, 'like_c...</td>\n",
       "      <td>[(type, id)]</td>\n",
       "      <td>[]</td>\n",
       "      <td>...</td>\n",
       "      <td>[]</td>\n",
       "      <td>[]</td>\n",
       "      <td>[CBItweets]</td>\n",
       "      <td>[]</td>\n",
       "      <td>2</td>\n",
       "      <td>0</td>\n",
       "      <td>0</td>\n",
       "      <td>0</td>\n",
       "      <td>1462725466788446210</td>\n",
       "      <td>retweeted</td>\n",
       "    </tr>\n",
       "    <tr>\n",
       "      <th>3</th>\n",
       "      <td>21776645</td>\n",
       "      <td>RT @CBItweets: “Our rail package is fantastic ...</td>\n",
       "      <td>2021-11-22 15:07:23+00:00</td>\n",
       "      <td>1462799880896663557</td>\n",
       "      <td>[{'domain': {'id': '10', 'name': 'Person', 'de...</td>\n",
       "      <td>{'mentions': [{'start': 3, 'end': 13, 'usernam...</td>\n",
       "      <td>None</td>\n",
       "      <td>{'retweet_count': 2, 'reply_count': 0, 'like_c...</td>\n",
       "      <td>[(type, id)]</td>\n",
       "      <td>[Boris Johnson, Boris Johnson]</td>\n",
       "      <td>...</td>\n",
       "      <td>[]</td>\n",
       "      <td>[]</td>\n",
       "      <td>[CBItweets, BorisJohnson]</td>\n",
       "      <td>[]</td>\n",
       "      <td>2</td>\n",
       "      <td>0</td>\n",
       "      <td>0</td>\n",
       "      <td>0</td>\n",
       "      <td>1462731343566098437</td>\n",
       "      <td>retweeted</td>\n",
       "    </tr>\n",
       "    <tr>\n",
       "      <th>4</th>\n",
       "      <td>21776645</td>\n",
       "      <td>RT @CBItweets: “It’s not a row-back – it’s bet...</td>\n",
       "      <td>2021-11-22 15:07:13+00:00</td>\n",
       "      <td>1462799836214816775</td>\n",
       "      <td>[{'domain': {'id': '10', 'name': 'Person', 'de...</td>\n",
       "      <td>{'mentions': [{'start': 3, 'end': 13, 'usernam...</td>\n",
       "      <td>None</td>\n",
       "      <td>{'retweet_count': 2, 'reply_count': 0, 'like_c...</td>\n",
       "      <td>[(type, id)]</td>\n",
       "      <td>[Boris Johnson, Boris Johnson]</td>\n",
       "      <td>...</td>\n",
       "      <td>[]</td>\n",
       "      <td>[HS2]</td>\n",
       "      <td>[CBItweets, BorisJohnson]</td>\n",
       "      <td>[]</td>\n",
       "      <td>2</td>\n",
       "      <td>0</td>\n",
       "      <td>0</td>\n",
       "      <td>0</td>\n",
       "      <td>1462731898317381638</td>\n",
       "      <td>retweeted</td>\n",
       "    </tr>\n",
       "  </tbody>\n",
       "</table>\n",
       "<p>5 rows × 21 columns</p>\n",
       "</div>"
      ],
      "text/plain": [
       "    Author ID                                              Tweet  \\\n",
       "0  4105532853  @Dawn4GBYT Could be a deliberate attempt to de...   \n",
       "1   481108679  @helenhalcrow @LouiseAKennedy @EdwardJDavey @S...   \n",
       "2    21776645  RT @CBItweets: “To solve this country’s transp...   \n",
       "3    21776645  RT @CBItweets: “Our rail package is fantastic ...   \n",
       "4    21776645  RT @CBItweets: “It’s not a row-back – it’s bet...   \n",
       "\n",
       "               Time Created             Tweet_ID  \\\n",
       "0 2021-11-22 15:11:27+00:00  1462800903409446919   \n",
       "1 2021-11-22 15:10:31+00:00  1462800667366539268   \n",
       "2 2021-11-22 15:08:58+00:00  1462800280173510664   \n",
       "3 2021-11-22 15:07:23+00:00  1462799880896663557   \n",
       "4 2021-11-22 15:07:13+00:00  1462799836214816775   \n",
       "\n",
       "                            Auto Context Annotations  \\\n",
       "0  [{'domain': {'id': '10', 'name': 'Person', 'de...   \n",
       "1                                                 []   \n",
       "2                                                 []   \n",
       "3  [{'domain': {'id': '10', 'name': 'Person', 'de...   \n",
       "4  [{'domain': {'id': '10', 'name': 'Person', 'de...   \n",
       "\n",
       "                                            Entities Location  \\\n",
       "0  {'urls': [{'start': 283, 'end': 306, 'url': 'h...     None   \n",
       "1  {'mentions': [{'start': 0, 'end': 13, 'usernam...     None   \n",
       "2  {'mentions': [{'start': 3, 'end': 13, 'usernam...     None   \n",
       "3  {'mentions': [{'start': 3, 'end': 13, 'usernam...     None   \n",
       "4  {'mentions': [{'start': 3, 'end': 13, 'usernam...     None   \n",
       "\n",
       "                                             Metrics    Ref Tweets  \\\n",
       "0  {'retweet_count': 0, 'reply_count': 0, 'like_c...  [(type, id)]   \n",
       "1  {'retweet_count': 0, 'reply_count': 0, 'like_c...  [(type, id)]   \n",
       "2  {'retweet_count': 2, 'reply_count': 0, 'like_c...  [(type, id)]   \n",
       "3  {'retweet_count': 2, 'reply_count': 0, 'like_c...  [(type, id)]   \n",
       "4  {'retweet_count': 2, 'reply_count': 0, 'like_c...  [(type, id)]   \n",
       "\n",
       "  Auto Context Annotations Entity  ... cashtags  \\\n",
       "0                   [Gina Miller]  ...       []   \n",
       "1                              []  ...       []   \n",
       "2                              []  ...       []   \n",
       "3  [Boris Johnson, Boris Johnson]  ...       []   \n",
       "4  [Boris Johnson, Boris Johnson]  ...       []   \n",
       "\n",
       "                         hashtags  \\\n",
       "0  [socialcare, immigration, HS2]   \n",
       "1                           [HS2]   \n",
       "2                              []   \n",
       "3                              []   \n",
       "4                           [HS2]   \n",
       "\n",
       "                                            mentions  \\\n",
       "0                                        [Dawn4GBYT]   \n",
       "1  [helenhalcrow, LouiseAKennedy, EdwardJDavey, S...   \n",
       "2                                        [CBItweets]   \n",
       "3                          [CBItweets, BorisJohnson]   \n",
       "4                          [CBItweets, BorisJohnson]   \n",
       "\n",
       "                        urls retweet_count  reply_count  like_count  \\\n",
       "0  [https://t.co/4QSiNPMkOl]             0            0           0   \n",
       "1                         []             0            0           0   \n",
       "2                         []             2            0           0   \n",
       "3                         []             2            0           0   \n",
       "4                         []             2            0           0   \n",
       "\n",
       "   quote_count         ref_tweet_id  ref_tweet_type  \n",
       "0            0  1462798162905776134          quoted  \n",
       "1            0  1462355628693803020      replied_to  \n",
       "2            0  1462725466788446210       retweeted  \n",
       "3            0  1462731343566098437       retweeted  \n",
       "4            0  1462731898317381638       retweeted  \n",
       "\n",
       "[5 rows x 21 columns]"
      ]
     },
     "execution_count": 13,
     "metadata": {},
     "output_type": "execute_result"
    }
   ],
   "source": [
    "tweets_df.head()"
   ]
  },
  {
   "cell_type": "markdown",
   "metadata": {},
   "source": [
    "## User, Geographical and Reference Tweet"
   ]
  },
  {
   "cell_type": "code",
   "execution_count": 14,
   "metadata": {},
   "outputs": [],
   "source": [
    "user_geo_reftweet = {}\n",
    "for i in ['users','places','tweets']:\n",
    "    try:\n",
    "        parameter = query.includes[i]\n",
    "        user_geo_reftweet[i] = {u for u in parameter}\n",
    "    except KeyError:\n",
    "        continue\n",
    "\n",
    "users_df = pd.DataFrame(user_geo_reftweet['users'])\n",
    "ref_tweet_df = pd.DataFrame(user_geo_reftweet['tweets'])"
   ]
  },
  {
   "cell_type": "markdown",
   "metadata": {},
   "source": [
    "### User Information"
   ]
  },
  {
   "cell_type": "code",
   "execution_count": 15,
   "metadata": {},
   "outputs": [],
   "source": [
    "users_pub_metrics = [\"followers_count\",\"following_count\",\"tweet_count\",\"listed_count\"]\n",
    "\n",
    "for i in users_pub_metrics:\n",
    "    users_df[i] = np.empty((len(users_df), 0)).tolist()\n",
    "    metric_list = []\n",
    "    for j in (users_df['public_metrics']):\n",
    "        metric_list.append(j[i])\n",
    "    users_df[i] = metric_list"
   ]
  },
  {
   "cell_type": "markdown",
   "metadata": {},
   "source": [
    "### Referenced Tweet Information"
   ]
  },
  {
   "cell_type": "code",
   "execution_count": 16,
   "metadata": {},
   "outputs": [],
   "source": [
    "entity_types = {'annotations':'normalized_text', 'cashtags': 'tag', 'hashtags': 'tag', 'mentions': 'username', 'urls': 'url'}\n",
    "for i in entity_types.keys():\n",
    "    ref_tweet_df[i] = np.empty((len(ref_tweet_df), 0)).tolist()\n",
    "    entity_list = []\n",
    "    for j, k in enumerate(ref_tweet_df['entities']):\n",
    "        try:\n",
    "            list_of_dicts = k[i]\n",
    "            entity_list.append([a_dict[entity_types[i]] for a_dict in k[i]])\n",
    "        except KeyError:\n",
    "            entity_list.append([])\n",
    "    ref_tweet_df[i] = entity_list"
   ]
  },
  {
   "cell_type": "code",
   "execution_count": 17,
   "metadata": {},
   "outputs": [],
   "source": [
    "metric_types = [\"retweet_count\", \"reply_count\", \"like_count\", \"quote_count\"]\n",
    "\n",
    "for i in metric_types:\n",
    "    ref_tweet_df[i] = np.empty((len(ref_tweet_df), 0)).tolist()\n",
    "    metric_list = []\n",
    "    for j in (ref_tweet_df['public_metrics']):\n",
    "        metric_list.append(j[i])\n",
    "    ref_tweet_df[i] = metric_list"
   ]
  },
  {
   "cell_type": "code",
   "execution_count": 156,
   "metadata": {},
   "outputs": [],
   "source": [
    "# id_list = []\n",
    "# for i, j in enumerate(ref_tweet_df['referenced_tweets']):\n",
    "#     ref_tweet_df['ref_id'] = np.empty((len(ref_tweet_df), 0)).tolist()\n",
    "#     try:\n",
    "#         id_list.append(j[0].id)\n",
    "#     except TypeError:\n",
    "#         id_list.append(0)\n",
    "# ref_tweet_df['ref_id'] = id_list"
   ]
  },
  {
   "cell_type": "markdown",
   "metadata": {},
   "source": [
    "### Tweet, User, Geography and Referenced Tweet Information Merged"
   ]
  },
  {
   "cell_type": "code",
   "execution_count": 18,
   "metadata": {},
   "outputs": [],
   "source": [
    "tweets_clean_df = tweets_df.drop(columns = ['Entities', 'Metrics', 'Ref Tweets', 'Auto Context Annotations'])\n",
    "users_clean_df = users_df.drop(columns = ['public_metrics'])\n",
    "ref_tweet_clean_df = ref_tweet_df.drop(columns = ['entities', 'public_metrics', 'context_annotations'])"
   ]
  },
  {
   "cell_type": "code",
   "execution_count": 21,
   "metadata": {},
   "outputs": [],
   "source": [
    "tweets_users_df = tweets_clean_df.merge(users_clean_df, left_on = 'Author ID', right_on = 'id', how = 'outer')\n",
    "tweets_all = tweets_users_df.merge(ref_tweet_clean_df, left_on = 'ref_tweet_id', right_on = 'id', how = 'outer', suffixes=(\"_og\", \"_ref\"))"
   ]
  },
  {
   "cell_type": "code",
   "execution_count": 66,
   "metadata": {},
   "outputs": [],
   "source": [
    "just_tweets = [j if j is not np.nan else tweets_all['text'][i] for i, j in enumerate(tweets_all['Tweet'])]"
   ]
  },
  {
   "cell_type": "code",
   "execution_count": 25,
   "metadata": {},
   "outputs": [
    {
     "name": "stdout",
     "output_type": "stream",
     "text": [
      "Index(['Author ID', 'Tweet', 'Time Created', 'Tweet_ID', 'Location',\n",
      "       'Auto Context Annotations Entity', 'annotations_og', 'cashtags_og',\n",
      "       'hashtags_og', 'mentions_og', 'urls_og', 'retweet_count_og',\n",
      "       'reply_count_og', 'like_count_og', 'quote_count_og', 'ref_tweet_id',\n",
      "       'ref_tweet_type', 'id_og', 'location', 'name', 'username',\n",
      "       'followers_count', 'following_count', 'tweet_count', 'listed_count',\n",
      "       'author_id', 'created_at', 'id_ref', 'referenced_tweets', 'text',\n",
      "       'annotations_ref', 'cashtags_ref', 'hashtags_ref', 'mentions_ref',\n",
      "       'urls_ref', 'retweet_count_ref', 'reply_count_ref', 'like_count_ref',\n",
      "       'quote_count_ref'],\n",
      "      dtype='object')\n"
     ]
    }
   ],
   "source": [
    "print(tweets_all.columns)"
   ]
  },
  {
   "cell_type": "markdown",
   "metadata": {},
   "source": [
    "### Text Preprocessing"
   ]
  },
  {
   "cell_type": "code",
   "execution_count": 26,
   "metadata": {},
   "outputs": [],
   "source": [
    "stop_words = stopwords.words('english')\n",
    "other_words = ['rt'] #retweet\n",
    "stop_words.extend(other_words)\n",
    "tokenizer = RegexpTokenizer(r'\\w+')"
   ]
  },
  {
   "cell_type": "code",
   "execution_count": 27,
   "metadata": {},
   "outputs": [],
   "source": [
    "def deEmojify(text):\n",
    "    regrex_pattern = re.compile(pattern = \"[\"\n",
    "                                u\"\\U0001F1E0-\\U0001F1FF\"  # flags (iOS)\n",
    "                                u\"\\U0001F300-\\U0001F5FF\"  # symbols & pictographs\n",
    "                                u\"\\U0001F600-\\U0001F64F\"  # emoticons\n",
    "                                u\"\\U0001F680-\\U0001F6FF\"  # transport & map symbols\n",
    "                                u\"\\U0001F700-\\U0001F77F\"  # alchemical symbols\n",
    "                                u\"\\U0001F780-\\U0001F7FF\"  # Geometric Shapes Extended\n",
    "                                u\"\\U0001F800-\\U0001F8FF\"  # Supplemental Arrows-C\n",
    "                                u\"\\U0001F900-\\U0001F9FF\"  # Supplemental Symbols and Pictographs\n",
    "                                u\"\\U0001FA00-\\U0001FA6F\"  # Chess Symbols\n",
    "                                u\"\\U0001FA70-\\U0001FAFF\"  # Symbols and Pictographs Extended-A\n",
    "                                u\"\\U00002702-\\U000027B0\"  # Dingbats\n",
    "                                u\"\\U000024C2-\\U0001F251\" \n",
    "                                \"]+\" , flags = re.UNICODE)\n",
    "    return regrex_pattern.sub(r'', text)"
   ]
  },
  {
   "cell_type": "code",
   "execution_count": 28,
   "metadata": {},
   "outputs": [],
   "source": [
    "def preprocessing_tweets(tweets):\n",
    "    processed_tweets = []\n",
    "    for i in tweets:\n",
    "\n",
    "        #removing all emojis\n",
    "        deemojified = deEmojify(i)\n",
    "        \n",
    "        # splitting with spaces\n",
    "        tokenized = deemojified.split()\n",
    "        each_tweet = []\n",
    "        for i in tokenized:\n",
    "            #lowercase all words\n",
    "            lowered = i.lower()\n",
    "            \n",
    "            #removing all non-word characters\n",
    "            lowered = re.sub('[^\\w\\@\\']', '', lowered)\n",
    "            \n",
    "            #remove all links, stopwords and retweet handles\n",
    "            # lemmatize all values\n",
    "            if not('http' in lowered) and not(lowered in stop_words) and not('@' in lowered) and not ('nauguration' in lowered):\n",
    "                each_tweet.append(Word(lowered).lemmatize())\n",
    "                \n",
    "        processed_tweets.append(\" \".join(each_tweet))\n",
    "    return(processed_tweets)\n",
    "\n",
    "def hashtag(tweets):\n",
    "    hashtags = [re.sub('#', '', j) for i in tweets for j in i.split() if (('#' in j) and ('HS2' not in j) and ('hs2' not in j))]\n",
    "    return(hashtags)"
   ]
  },
  {
   "cell_type": "code",
   "execution_count": 67,
   "metadata": {},
   "outputs": [
    {
     "data": {
      "text/html": [
       "<div>\n",
       "<style scoped>\n",
       "    .dataframe tbody tr th:only-of-type {\n",
       "        vertical-align: middle;\n",
       "    }\n",
       "\n",
       "    .dataframe tbody tr th {\n",
       "        vertical-align: top;\n",
       "    }\n",
       "\n",
       "    .dataframe thead th {\n",
       "        text-align: right;\n",
       "    }\n",
       "</style>\n",
       "<table border=\"1\" class=\"dataframe\">\n",
       "  <thead>\n",
       "    <tr style=\"text-align: right;\">\n",
       "      <th></th>\n",
       "      <th>Original Tweet</th>\n",
       "      <th>Preprocessed Tweet</th>\n",
       "    </tr>\n",
       "  </thead>\n",
       "  <tbody>\n",
       "    <tr>\n",
       "      <th>0</th>\n",
       "      <td>@Dawn4GBYT Could be a deliberate attempt to de...</td>\n",
       "      <td>could deliberate attempt deflect socialcare bi...</td>\n",
       "    </tr>\n",
       "    <tr>\n",
       "      <th>1</th>\n",
       "      <td>@helenhalcrow @LouiseAKennedy @EdwardJDavey @S...</td>\n",
       "      <td>ed 'i support hs2' davey whose candidate's can...</td>\n",
       "    </tr>\n",
       "    <tr>\n",
       "      <th>2</th>\n",
       "      <td>RT @CBItweets: “To solve this country’s transp...</td>\n",
       "      <td>solve country transport problem cant endlessly...</td>\n",
       "    </tr>\n",
       "    <tr>\n",
       "      <th>3</th>\n",
       "      <td>RT @CBItweets: “Our rail package is fantastic ...</td>\n",
       "      <td>rail package fantastic  96bn improving rail se...</td>\n",
       "    </tr>\n",
       "    <tr>\n",
       "      <th>4</th>\n",
       "      <td>RT @CBItweets: “It’s not a row-back – it’s bet...</td>\n",
       "      <td>rowback  better say prime minister defence rev...</td>\n",
       "    </tr>\n",
       "    <tr>\n",
       "      <th>5</th>\n",
       "      <td>RT @_PaulMonaghan: I recall meeting with #HS2 ...</td>\n",
       "      <td>recall meeting hs2 asked support lobbying effo...</td>\n",
       "    </tr>\n",
       "    <tr>\n",
       "      <th>6</th>\n",
       "      <td>RT @RichardWellings: The cancellation of the e...</td>\n",
       "      <td>cancellation eastern leg hs2 vindicates view d...</td>\n",
       "    </tr>\n",
       "    <tr>\n",
       "      <th>7</th>\n",
       "      <td>RT @mcahs2: They've spent the last two years d...</td>\n",
       "      <td>they've spent last two year ground investigati...</td>\n",
       "    </tr>\n",
       "    <tr>\n",
       "      <th>8</th>\n",
       "      <td>RT @ElRaynerista: LIVE SCENES as The Fat Conma...</td>\n",
       "      <td>live scene fat conman seal thomas hs2 tank eng...</td>\n",
       "    </tr>\n",
       "    <tr>\n",
       "      <th>9</th>\n",
       "      <td>#HS2 boosts job opportunities for young people...</td>\n",
       "      <td>hs2 boost job opportunity young people west mi...</td>\n",
       "    </tr>\n",
       "  </tbody>\n",
       "</table>\n",
       "</div>"
      ],
      "text/plain": [
       "                                      Original Tweet  \\\n",
       "0  @Dawn4GBYT Could be a deliberate attempt to de...   \n",
       "1  @helenhalcrow @LouiseAKennedy @EdwardJDavey @S...   \n",
       "2  RT @CBItweets: “To solve this country’s transp...   \n",
       "3  RT @CBItweets: “Our rail package is fantastic ...   \n",
       "4  RT @CBItweets: “It’s not a row-back – it’s bet...   \n",
       "5  RT @_PaulMonaghan: I recall meeting with #HS2 ...   \n",
       "6  RT @RichardWellings: The cancellation of the e...   \n",
       "7  RT @mcahs2: They've spent the last two years d...   \n",
       "8  RT @ElRaynerista: LIVE SCENES as The Fat Conma...   \n",
       "9  #HS2 boosts job opportunities for young people...   \n",
       "\n",
       "                                  Preprocessed Tweet  \n",
       "0  could deliberate attempt deflect socialcare bi...  \n",
       "1  ed 'i support hs2' davey whose candidate's can...  \n",
       "2  solve country transport problem cant endlessly...  \n",
       "3  rail package fantastic  96bn improving rail se...  \n",
       "4  rowback  better say prime minister defence rev...  \n",
       "5  recall meeting hs2 asked support lobbying effo...  \n",
       "6  cancellation eastern leg hs2 vindicates view d...  \n",
       "7  they've spent last two year ground investigati...  \n",
       "8  live scene fat conman seal thomas hs2 tank eng...  \n",
       "9  hs2 boost job opportunity young people west mi...  "
      ]
     },
     "execution_count": 67,
     "metadata": {},
     "output_type": "execute_result"
    }
   ],
   "source": [
    "# Preprocessed tweets vs Original Tweets\n",
    "pd.DataFrame(list(zip(just_tweets, preprocessing_tweets(just_tweets))), columns = ['Original Tweet', 'Preprocessed Tweet'])"
   ]
  },
  {
   "cell_type": "code",
   "execution_count": 68,
   "metadata": {},
   "outputs": [],
   "source": [
    "# Using the number of followers as a proxy for the importance of the tweet\n",
    "\n",
    "followers_count_normalised = []\n",
    "for i in tweets_all['followers_count']:\n",
    "    followers_count_normalised.append((i - min(tweets_all['followers_count']))/(max(tweets_all['followers_count'] - min(tweets_all['followers_count']))))"
   ]
  },
  {
   "cell_type": "code",
   "execution_count": 69,
   "metadata": {},
   "outputs": [
    {
     "name": "stdout",
     "output_type": "stream",
     "text": [
      "Polarity of Tweet: 0.0606\n",
      "Subjectivity of Tweet: 0.3817\n"
     ]
    }
   ],
   "source": [
    "# Polarity of 1 means positive, -1 means negative\n",
    "# Subjectivity of 1 means very subjective, 0 means non-subjective\n",
    "\n",
    "polarity = []\n",
    "subjectivity = []\n",
    "for i in preprocessing_tweets(just_tweets):\n",
    "    polarity.append(TextBlob(i).sentiment[0])\n",
    "    subjectivity.append(TextBlob(i).sentiment[1])\n",
    "\n",
    "tweet_polarity = np.mean(polarity)\n",
    "tweet_subjectivity = np.mean(subjectivity)\n",
    "\n",
    "print(\"Polarity of Tweet: \" + str(round(tweet_polarity, 4)))\n",
    "print(\"Subjectivity of Tweet: \" + str(round(tweet_subjectivity,4)))\n",
    "\n",
    "# Overall, the polarity and subjectivity appears to be on the positive side, although judging by the raw data, this does not seem to be the case"
   ]
  },
  {
   "cell_type": "code",
   "execution_count": 73,
   "metadata": {},
   "outputs": [
    {
     "name": "stdout",
     "output_type": "stream",
     "text": [
      "Polarity of Tweet (with scaling): -0.033\n",
      "Subjectivity of Tweet (with scaling): 0.0668\n"
     ]
    }
   ],
   "source": [
    "scaled_polarity = [i * j for i, j in zip(followers_count_normalised, polarity)]\n",
    "scaled_subjectivity = [i * j for i, j in zip(followers_count_normalised, subjectivity)]\n",
    "\n",
    "print(\"Polarity of Tweet (with scaling): \" + str(round(np.mean(scaled_polarity), 4)))\n",
    "print(\"Subjectivity of Tweet (with scaling): \" + str(round(np.mean(scaled_subjectivity),4)))"
   ]
  },
  {
   "cell_type": "code",
   "execution_count": 30,
   "metadata": {},
   "outputs": [
    {
     "name": "stdout",
     "output_type": "stream",
     "text": [
      "Polarity of Hashtags: 0.0\n",
      "Subjectivity of Hashtags: 0.0\n"
     ]
    }
   ],
   "source": [
    "# Because hashtags are single words and do not reflect a lot of meaning, the polarity and subjectivity of each hashtag couldn't be identified\n",
    "\n",
    "# Polarity of 1 means positive, -1 means negative\n",
    "# Subjectivity of 1 means very subjective, 0 means non-subjective\n",
    "\n",
    "hashtag_polarity = np.mean([TextBlob(i).sentiment[0] for i in hashtag(just_tweets)])\n",
    "hashtag_subjectivity = np.mean([TextBlob(i).sentiment[1] for i in hashtag(just_tweets)])\n",
    "\n",
    "print(\"Polarity of Hashtags: \" + str(round(hashtag_polarity, 4)))\n",
    "print(\"Subjectivity of Hashtags: \" + str(round(hashtag_subjectivity,4)))"
   ]
  },
  {
   "cell_type": "code",
   "execution_count": 74,
   "metadata": {},
   "outputs": [
    {
     "data": {
      "text/html": [
       "\n",
       "    <div class=\"bk-root\">\n",
       "        <a href=\"https://bokeh.org\" target=\"_blank\" class=\"bk-logo bk-logo-small bk-logo-notebook\"></a>\n",
       "        <span id=\"1218\">Loading BokehJS ...</span>\n",
       "    </div>"
      ]
     },
     "metadata": {},
     "output_type": "display_data"
    },
    {
     "data": {
      "application/javascript": "\n(function(root) {\n  function now() {\n    return new Date();\n  }\n\n  var force = true;\n\n  if (typeof root._bokeh_onload_callbacks === \"undefined\" || force === true) {\n    root._bokeh_onload_callbacks = [];\n    root._bokeh_is_loading = undefined;\n  }\n\n  var JS_MIME_TYPE = 'application/javascript';\n  var HTML_MIME_TYPE = 'text/html';\n  var EXEC_MIME_TYPE = 'application/vnd.bokehjs_exec.v0+json';\n  var CLASS_NAME = 'output_bokeh rendered_html';\n\n  /**\n   * Render data to the DOM node\n   */\n  function render(props, node) {\n    var script = document.createElement(\"script\");\n    node.appendChild(script);\n  }\n\n  /**\n   * Handle when an output is cleared or removed\n   */\n  function handleClearOutput(event, handle) {\n    var cell = handle.cell;\n\n    var id = cell.output_area._bokeh_element_id;\n    var server_id = cell.output_area._bokeh_server_id;\n    // Clean up Bokeh references\n    if (id != null && id in Bokeh.index) {\n      Bokeh.index[id].model.document.clear();\n      delete Bokeh.index[id];\n    }\n\n    if (server_id !== undefined) {\n      // Clean up Bokeh references\n      var cmd = \"from bokeh.io.state import curstate; print(curstate().uuid_to_server['\" + server_id + \"'].get_sessions()[0].document.roots[0]._id)\";\n      cell.notebook.kernel.execute(cmd, {\n        iopub: {\n          output: function(msg) {\n            var id = msg.content.text.trim();\n            if (id in Bokeh.index) {\n              Bokeh.index[id].model.document.clear();\n              delete Bokeh.index[id];\n            }\n          }\n        }\n      });\n      // Destroy server and session\n      var cmd = \"import bokeh.io.notebook as ion; ion.destroy_server('\" + server_id + \"')\";\n      cell.notebook.kernel.execute(cmd);\n    }\n  }\n\n  /**\n   * Handle when a new output is added\n   */\n  function handleAddOutput(event, handle) {\n    var output_area = handle.output_area;\n    var output = handle.output;\n\n    // limit handleAddOutput to display_data with EXEC_MIME_TYPE content only\n    if ((output.output_type != \"display_data\") || (!output.data.hasOwnProperty(EXEC_MIME_TYPE))) {\n      return\n    }\n\n    var toinsert = output_area.element.find(\".\" + CLASS_NAME.split(' ')[0]);\n\n    if (output.metadata[EXEC_MIME_TYPE][\"id\"] !== undefined) {\n      toinsert[toinsert.length - 1].firstChild.textContent = output.data[JS_MIME_TYPE];\n      // store reference to embed id on output_area\n      output_area._bokeh_element_id = output.metadata[EXEC_MIME_TYPE][\"id\"];\n    }\n    if (output.metadata[EXEC_MIME_TYPE][\"server_id\"] !== undefined) {\n      var bk_div = document.createElement(\"div\");\n      bk_div.innerHTML = output.data[HTML_MIME_TYPE];\n      var script_attrs = bk_div.children[0].attributes;\n      for (var i = 0; i < script_attrs.length; i++) {\n        toinsert[toinsert.length - 1].firstChild.setAttribute(script_attrs[i].name, script_attrs[i].value);\n      }\n      // store reference to server id on output_area\n      output_area._bokeh_server_id = output.metadata[EXEC_MIME_TYPE][\"server_id\"];\n    }\n  }\n\n  function register_renderer(events, OutputArea) {\n\n    function append_mime(data, metadata, element) {\n      // create a DOM node to render to\n      var toinsert = this.create_output_subarea(\n        metadata,\n        CLASS_NAME,\n        EXEC_MIME_TYPE\n      );\n      this.keyboard_manager.register_events(toinsert);\n      // Render to node\n      var props = {data: data, metadata: metadata[EXEC_MIME_TYPE]};\n      render(props, toinsert[toinsert.length - 1]);\n      element.append(toinsert);\n      return toinsert\n    }\n\n    /* Handle when an output is cleared or removed */\n    events.on('clear_output.CodeCell', handleClearOutput);\n    events.on('delete.Cell', handleClearOutput);\n\n    /* Handle when a new output is added */\n    events.on('output_added.OutputArea', handleAddOutput);\n\n    /**\n     * Register the mime type and append_mime function with output_area\n     */\n    OutputArea.prototype.register_mime_type(EXEC_MIME_TYPE, append_mime, {\n      /* Is output safe? */\n      safe: true,\n      /* Index of renderer in `output_area.display_order` */\n      index: 0\n    });\n  }\n\n  // register the mime type if in Jupyter Notebook environment and previously unregistered\n  if (root.Jupyter !== undefined) {\n    var events = require('base/js/events');\n    var OutputArea = require('notebook/js/outputarea').OutputArea;\n\n    if (OutputArea.prototype.mime_types().indexOf(EXEC_MIME_TYPE) == -1) {\n      register_renderer(events, OutputArea);\n    }\n  }\n\n  \n  if (typeof (root._bokeh_timeout) === \"undefined\" || force === true) {\n    root._bokeh_timeout = Date.now() + 5000;\n    root._bokeh_failed_load = false;\n  }\n\n  var NB_LOAD_WARNING = {'data': {'text/html':\n     \"<div style='background-color: #fdd'>\\n\"+\n     \"<p>\\n\"+\n     \"BokehJS does not appear to have successfully loaded. If loading BokehJS from CDN, this \\n\"+\n     \"may be due to a slow or bad network connection. Possible fixes:\\n\"+\n     \"</p>\\n\"+\n     \"<ul>\\n\"+\n     \"<li>re-rerun `output_notebook()` to attempt to load from CDN again, or</li>\\n\"+\n     \"<li>use INLINE resources instead, as so:</li>\\n\"+\n     \"</ul>\\n\"+\n     \"<code>\\n\"+\n     \"from bokeh.resources import INLINE\\n\"+\n     \"output_notebook(resources=INLINE)\\n\"+\n     \"</code>\\n\"+\n     \"</div>\"}};\n\n  function display_loaded() {\n    var el = document.getElementById(\"1218\");\n    if (el != null) {\n      el.textContent = \"BokehJS is loading...\";\n    }\n    if (root.Bokeh !== undefined) {\n      if (el != null) {\n        el.textContent = \"BokehJS \" + root.Bokeh.version + \" successfully loaded.\";\n      }\n    } else if (Date.now() < root._bokeh_timeout) {\n      setTimeout(display_loaded, 100)\n    }\n  }\n\n\n  function run_callbacks() {\n    try {\n      root._bokeh_onload_callbacks.forEach(function(callback) {\n        if (callback != null)\n          callback();\n      });\n    } finally {\n      delete root._bokeh_onload_callbacks\n    }\n    console.debug(\"Bokeh: all callbacks have finished\");\n  }\n\n  function load_libs(css_urls, js_urls, callback) {\n    if (css_urls == null) css_urls = [];\n    if (js_urls == null) js_urls = [];\n\n    root._bokeh_onload_callbacks.push(callback);\n    if (root._bokeh_is_loading > 0) {\n      console.debug(\"Bokeh: BokehJS is being loaded, scheduling callback at\", now());\n      return null;\n    }\n    if (js_urls == null || js_urls.length === 0) {\n      run_callbacks();\n      return null;\n    }\n    console.debug(\"Bokeh: BokehJS not loaded, scheduling load and callback at\", now());\n    root._bokeh_is_loading = css_urls.length + js_urls.length;\n\n    function on_load() {\n      root._bokeh_is_loading--;\n      if (root._bokeh_is_loading === 0) {\n        console.debug(\"Bokeh: all BokehJS libraries/stylesheets loaded\");\n        run_callbacks()\n      }\n    }\n\n    function on_error() {\n      console.error(\"failed to load \" + url);\n    }\n\n    for (var i = 0; i < css_urls.length; i++) {\n      var url = css_urls[i];\n      const element = document.createElement(\"link\");\n      element.onload = on_load;\n      element.onerror = on_error;\n      element.rel = \"stylesheet\";\n      element.type = \"text/css\";\n      element.href = url;\n      console.debug(\"Bokeh: injecting link tag for BokehJS stylesheet: \", url);\n      document.body.appendChild(element);\n    }\n\n    for (var i = 0; i < js_urls.length; i++) {\n      var url = js_urls[i];\n      var element = document.createElement('script');\n      element.onload = on_load;\n      element.onerror = on_error;\n      element.async = false;\n      element.src = url;\n      console.debug(\"Bokeh: injecting script tag for BokehJS library: \", url);\n      document.head.appendChild(element);\n    }\n  };var element = document.getElementById(\"1218\");\n  if (element == null) {\n    console.error(\"Bokeh: ERROR: autoload.js configured with elementid '1218' but no matching script tag was found. \")\n    return false;\n  }\n\n  function inject_raw_css(css) {\n    const element = document.createElement(\"style\");\n    element.appendChild(document.createTextNode(css));\n    document.body.appendChild(element);\n  }\n\n  \n  var js_urls = [\"https://cdn.pydata.org/bokeh/release/bokeh-1.4.0.min.js\", \"https://cdn.pydata.org/bokeh/release/bokeh-widgets-1.4.0.min.js\", \"https://cdn.pydata.org/bokeh/release/bokeh-tables-1.4.0.min.js\", \"https://cdn.pydata.org/bokeh/release/bokeh-gl-1.4.0.min.js\"];\n  var css_urls = [];\n  \n\n  var inline_js = [\n    function(Bokeh) {\n      Bokeh.set_log_level(\"info\");\n    },\n    function(Bokeh) {\n    \n    \n    }\n  ];\n\n  function run_inline_js() {\n    \n    if (root.Bokeh !== undefined || force === true) {\n      \n    for (var i = 0; i < inline_js.length; i++) {\n      inline_js[i].call(root, root.Bokeh);\n    }\n    if (force === true) {\n        display_loaded();\n      }} else if (Date.now() < root._bokeh_timeout) {\n      setTimeout(run_inline_js, 100);\n    } else if (!root._bokeh_failed_load) {\n      console.log(\"Bokeh: BokehJS failed to load within specified timeout.\");\n      root._bokeh_failed_load = true;\n    } else if (force !== true) {\n      var cell = $(document.getElementById(\"1218\")).parents('.cell').data().cell;\n      cell.output_area.append_execute_result(NB_LOAD_WARNING)\n    }\n\n  }\n\n  if (root._bokeh_is_loading === 0) {\n    console.debug(\"Bokeh: BokehJS loaded, going straight to plotting\");\n    run_inline_js();\n  } else {\n    load_libs(css_urls, js_urls, function() {\n      console.debug(\"Bokeh: BokehJS plotting callback run at\", now());\n      run_inline_js();\n    });\n  }\n}(window));",
      "application/vnd.bokehjs_load.v0+json": ""
     },
     "metadata": {},
     "output_type": "display_data"
    },
    {
     "data": {
      "text/html": [
       "\n",
       "\n",
       "\n",
       "\n",
       "\n",
       "\n",
       "  <div class=\"bk-root\" id=\"4ea5e8d4-25d2-407b-8336-f2fc68596787\" data-root-id=\"1219\"></div>\n"
      ]
     },
     "metadata": {},
     "output_type": "display_data"
    },
    {
     "data": {
      "application/javascript": "(function(root) {\n  function embed_document(root) {\n    \n  var docs_json = {\"ab71cef8-d554-4a61-ac9b-369a21fa1a80\":{\"roots\":{\"references\":[{\"attributes\":{\"below\":[{\"id\":\"1228\",\"type\":\"LinearAxis\"}],\"center\":[{\"id\":\"1232\",\"type\":\"Grid\"},{\"id\":\"1237\",\"type\":\"Grid\"}],\"left\":[{\"id\":\"1233\",\"type\":\"LinearAxis\"}],\"plot_height\":300,\"plot_width\":500,\"renderers\":[{\"id\":\"1254\",\"type\":\"GlyphRenderer\"}],\"title\":{\"id\":\"1276\",\"type\":\"Title\"},\"toolbar\":{\"id\":\"1244\",\"type\":\"Toolbar\"},\"x_range\":{\"id\":\"1220\",\"type\":\"DataRange1d\"},\"x_scale\":{\"id\":\"1224\",\"type\":\"LinearScale\"},\"y_range\":{\"id\":\"1222\",\"type\":\"DataRange1d\"},\"y_scale\":{\"id\":\"1226\",\"type\":\"LinearScale\"}},\"id\":\"1219\",\"subtype\":\"Figure\",\"type\":\"Plot\"},{\"attributes\":{},\"id\":\"1282\",\"type\":\"UnionRenderers\"},{\"attributes\":{\"fill_alpha\":{\"value\":0.5},\"line_color\":{\"value\":\"navy\"},\"size\":{\"units\":\"screen\",\"value\":5},\"x\":{\"field\":\"x\"},\"y\":{\"field\":\"y\"}},\"id\":\"1252\",\"type\":\"Circle\"},{\"attributes\":{},\"id\":\"1234\",\"type\":\"BasicTicker\"},{\"attributes\":{},\"id\":\"1278\",\"type\":\"BasicTickFormatter\"},{\"attributes\":{\"ticker\":{\"id\":\"1229\",\"type\":\"BasicTicker\"}},\"id\":\"1232\",\"type\":\"Grid\"},{\"attributes\":{\"active_drag\":\"auto\",\"active_inspect\":\"auto\",\"active_multi\":null,\"active_scroll\":\"auto\",\"active_tap\":\"auto\",\"tools\":[{\"id\":\"1238\",\"type\":\"PanTool\"},{\"id\":\"1239\",\"type\":\"WheelZoomTool\"},{\"id\":\"1240\",\"type\":\"BoxZoomTool\"},{\"id\":\"1241\",\"type\":\"SaveTool\"},{\"id\":\"1242\",\"type\":\"ResetTool\"},{\"id\":\"1243\",\"type\":\"HelpTool\"},{\"id\":\"1256\",\"type\":\"HoverTool\"}]},\"id\":\"1244\",\"type\":\"Toolbar\"},{\"attributes\":{},\"id\":\"1243\",\"type\":\"HelpTool\"},{\"attributes\":{\"callback\":null},\"id\":\"1256\",\"type\":\"HoverTool\"},{\"attributes\":{\"axis_label\":\"Subjectivity\",\"formatter\":{\"id\":\"1278\",\"type\":\"BasicTickFormatter\"},\"ticker\":{\"id\":\"1234\",\"type\":\"BasicTicker\"}},\"id\":\"1233\",\"type\":\"LinearAxis\"},{\"attributes\":{\"dimension\":1,\"ticker\":{\"id\":\"1234\",\"type\":\"BasicTicker\"}},\"id\":\"1237\",\"type\":\"Grid\"},{\"attributes\":{\"callback\":null},\"id\":\"1220\",\"type\":\"DataRange1d\"},{\"attributes\":{},\"id\":\"1239\",\"type\":\"WheelZoomTool\"},{\"attributes\":{\"overlay\":{\"id\":\"1284\",\"type\":\"BoxAnnotation\"}},\"id\":\"1240\",\"type\":\"BoxZoomTool\"},{\"attributes\":{},\"id\":\"1229\",\"type\":\"BasicTicker\"},{\"attributes\":{\"fill_alpha\":{\"value\":0.1},\"fill_color\":{\"value\":\"#1f77b4\"},\"line_alpha\":{\"value\":0.1},\"line_color\":{\"value\":\"#1f77b4\"},\"size\":{\"units\":\"screen\",\"value\":5},\"x\":{\"field\":\"x\"},\"y\":{\"field\":\"y\"}},\"id\":\"1253\",\"type\":\"Circle\"},{\"attributes\":{\"text\":\"\"},\"id\":\"1276\",\"type\":\"Title\"},{\"attributes\":{},\"id\":\"1224\",\"type\":\"LinearScale\"},{\"attributes\":{},\"id\":\"1238\",\"type\":\"PanTool\"},{\"attributes\":{\"source\":{\"id\":\"1251\",\"type\":\"ColumnDataSource\"}},\"id\":\"1255\",\"type\":\"CDSView\"},{\"attributes\":{},\"id\":\"1226\",\"type\":\"LinearScale\"},{\"attributes\":{},\"id\":\"1241\",\"type\":\"SaveTool\"},{\"attributes\":{\"axis_label\":\"Polarity\",\"formatter\":{\"id\":\"1280\",\"type\":\"BasicTickFormatter\"},\"ticker\":{\"id\":\"1229\",\"type\":\"BasicTicker\"}},\"id\":\"1228\",\"type\":\"LinearAxis\"},{\"attributes\":{},\"id\":\"1242\",\"type\":\"ResetTool\"},{\"attributes\":{},\"id\":\"1283\",\"type\":\"Selection\"},{\"attributes\":{\"callback\":null},\"id\":\"1222\",\"type\":\"DataRange1d\"},{\"attributes\":{},\"id\":\"1280\",\"type\":\"BasicTickFormatter\"},{\"attributes\":{\"bottom_units\":\"screen\",\"fill_alpha\":{\"value\":0.5},\"fill_color\":{\"value\":\"lightgrey\"},\"left_units\":\"screen\",\"level\":\"overlay\",\"line_alpha\":{\"value\":1.0},\"line_color\":{\"value\":\"black\"},\"line_dash\":[4,4],\"line_width\":{\"value\":2},\"render_mode\":\"css\",\"right_units\":\"screen\",\"top_units\":\"screen\"},\"id\":\"1284\",\"type\":\"BoxAnnotation\"},{\"attributes\":{\"data_source\":{\"id\":\"1251\",\"type\":\"ColumnDataSource\"},\"glyph\":{\"id\":\"1252\",\"type\":\"Circle\"},\"hover_glyph\":null,\"muted_glyph\":null,\"nonselection_glyph\":{\"id\":\"1253\",\"type\":\"Circle\"},\"selection_glyph\":null,\"view\":{\"id\":\"1255\",\"type\":\"CDSView\"}},\"id\":\"1254\",\"type\":\"GlyphRenderer\"},{\"attributes\":{\"callback\":null,\"data\":{\"x\":[-0.3625,0.0,-0.125,0.4,0.5,0.05,0.0,-0.025,0.06818181818181818,0.1],\"y\":[0.5750000000000001,0.0,0.75,0.9,0.5,0.35,0.0,0.06666666666666668,0.275,0.4]},\"selected\":{\"id\":\"1283\",\"type\":\"Selection\"},\"selection_policy\":{\"id\":\"1282\",\"type\":\"UnionRenderers\"}},\"id\":\"1251\",\"type\":\"ColumnDataSource\"}],\"root_ids\":[\"1219\"]},\"title\":\"Bokeh Application\",\"version\":\"1.4.0\"}};\n  var render_items = [{\"docid\":\"ab71cef8-d554-4a61-ac9b-369a21fa1a80\",\"roots\":{\"1219\":\"4ea5e8d4-25d2-407b-8336-f2fc68596787\"}}];\n  root.Bokeh.embed.embed_items_notebook(docs_json, render_items);\n\n  }\n  if (root.Bokeh !== undefined) {\n    embed_document(root);\n  } else {\n    var attempts = 0;\n    var timer = setInterval(function(root) {\n      if (root.Bokeh !== undefined) {\n        clearInterval(timer);\n        embed_document(root);\n      } else {\n        attempts++;\n        if (attempts > 100) {\n          clearInterval(timer);\n          console.log(\"Bokeh: ERROR: Unable to run BokehJS code because BokehJS library is missing\");\n        }\n      }\n    }, 10, root)\n  }\n})(window);",
      "application/vnd.bokehjs_exec.v0+json": ""
     },
     "metadata": {
      "application/vnd.bokehjs_exec.v0+json": {
       "id": "1219"
      }
     },
     "output_type": "display_data"
    }
   ],
   "source": [
    "output_notebook()\n",
    "\n",
    "x_scatter = polarity\n",
    "y_scatter = subjectivity\n",
    "\n",
    "# plot \n",
    "scatter_plot = figure(plot_width=500, plot_height=300, x_axis_label='Polarity', y_axis_label='Subjectivity')\n",
    "scatter_plot.circle(x_scatter, y_scatter, size=5, line_color='navy', fill_color='gray', fill_alpha=0.5)\n",
    "scatter_plot.add_tools(HoverTool())\n",
    "show(scatter_plot)"
   ]
  },
  {
   "cell_type": "code",
   "execution_count": 41,
   "metadata": {},
   "outputs": [],
   "source": [
    "words = []\n",
    "for i in preprocessing_tweets(just_tweets):\n",
    "    words.extend(i.split())\n",
    "    \n",
    "words_df = pd.DataFrame()\n",
    "words_df['word'] = list(dict(Counter(words)).keys())\n",
    "words_df['count'] = list(dict(Counter(words)).values())\n",
    "words_df = words_df.sort_values(by=['count'], ascending = False)"
   ]
  },
  {
   "cell_type": "code",
   "execution_count": 75,
   "metadata": {},
   "outputs": [
    {
     "data": {
      "text/html": [
       "\n",
       "\n",
       "\n",
       "\n",
       "\n",
       "\n",
       "  <div class=\"bk-root\" id=\"e1ba5c8a-1f03-4771-a11f-1fb054bc8b70\" data-root-id=\"1339\"></div>\n"
      ]
     },
     "metadata": {},
     "output_type": "display_data"
    },
    {
     "data": {
      "application/javascript": "(function(root) {\n  function embed_document(root) {\n    \n  var docs_json = {\"a6656fe6-1f3e-4613-a81e-01f426113d29\":{\"roots\":{\"references\":[{\"attributes\":{\"below\":[{\"id\":\"1348\",\"type\":\"CategoricalAxis\"}],\"center\":[{\"id\":\"1351\",\"type\":\"Grid\"},{\"id\":\"1356\",\"type\":\"Grid\"}],\"left\":[{\"id\":\"1352\",\"type\":\"LinearAxis\"}],\"plot_height\":350,\"renderers\":[{\"id\":\"1373\",\"type\":\"GlyphRenderer\"}],\"title\":{\"id\":\"1378\",\"type\":\"Title\"},\"toolbar\":{\"id\":\"1363\",\"type\":\"Toolbar\"},\"x_range\":{\"id\":\"1340\",\"type\":\"FactorRange\"},\"x_scale\":{\"id\":\"1344\",\"type\":\"CategoricalScale\"},\"y_range\":{\"id\":\"1377\",\"type\":\"Range1d\"},\"y_scale\":{\"id\":\"1346\",\"type\":\"LinearScale\"}},\"id\":\"1339\",\"subtype\":\"Figure\",\"type\":\"Plot\"},{\"attributes\":{},\"id\":\"1357\",\"type\":\"PanTool\"},{\"attributes\":{\"axis_label\":\"Word\",\"formatter\":{\"id\":\"1412\",\"type\":\"CategoricalTickFormatter\"},\"major_label_orientation\":\"vertical\",\"ticker\":{\"id\":\"1349\",\"type\":\"CategoricalTicker\"}},\"id\":\"1348\",\"type\":\"CategoricalAxis\"},{\"attributes\":{},\"id\":\"1360\",\"type\":\"SaveTool\"},{\"attributes\":{\"callback\":null,\"factors\":[\"hs2\",\"asked\",\"minister\",\"cbiannualconference2021\",\"prime\",\"people\",\"say\",\"way\",\"rail\",\"problem\",\"country\",\"thurso\",\"government\",\"without\",\"year\",\"two\",\"last\",\"spent\",\"they've\",\"infrastructure\",\"existing\",\"upgrading\",\"impact\",\"environmental\",\"massive\",\"outside\",\"ground\",\"le\",\"west\",\"quickly\"]},\"id\":\"1340\",\"type\":\"FactorRange\"},{\"attributes\":{\"callback\":null},\"id\":\"1375\",\"type\":\"HoverTool\"},{\"attributes\":{\"source\":{\"id\":\"1370\",\"type\":\"ColumnDataSource\"}},\"id\":\"1374\",\"type\":\"CDSView\"},{\"attributes\":{\"callback\":null,\"end\":15},\"id\":\"1377\",\"type\":\"Range1d\"},{\"attributes\":{},\"id\":\"1361\",\"type\":\"ResetTool\"},{\"attributes\":{\"dimension\":1,\"ticker\":{\"id\":\"1353\",\"type\":\"BasicTicker\"}},\"id\":\"1356\",\"type\":\"Grid\"},{\"attributes\":{},\"id\":\"1358\",\"type\":\"WheelZoomTool\"},{\"attributes\":{},\"id\":\"1353\",\"type\":\"BasicTicker\"},{\"attributes\":{\"axis_label\":\"Count\",\"formatter\":{\"id\":\"1410\",\"type\":\"BasicTickFormatter\"},\"ticker\":{\"id\":\"1353\",\"type\":\"BasicTicker\"}},\"id\":\"1352\",\"type\":\"LinearAxis\"},{\"attributes\":{},\"id\":\"1415\",\"type\":\"Selection\"},{\"attributes\":{},\"id\":\"1344\",\"type\":\"CategoricalScale\"},{\"attributes\":{\"fill_color\":{\"field\":\"fill_color\"},\"line_color\":{\"value\":\"white\"},\"top\":{\"field\":\"top\"},\"width\":{\"value\":0.9},\"x\":{\"field\":\"x\"}},\"id\":\"1371\",\"type\":\"VBar\"},{\"attributes\":{},\"id\":\"1412\",\"type\":\"CategoricalTickFormatter\"},{\"attributes\":{\"fill_alpha\":{\"value\":0.1},\"fill_color\":{\"value\":\"#1f77b4\"},\"line_alpha\":{\"value\":0.1},\"line_color\":{\"value\":\"#1f77b4\"},\"top\":{\"field\":\"top\"},\"width\":{\"value\":0.9},\"x\":{\"field\":\"x\"}},\"id\":\"1372\",\"type\":\"VBar\"},{\"attributes\":{},\"id\":\"1410\",\"type\":\"BasicTickFormatter\"},{\"attributes\":{},\"id\":\"1414\",\"type\":\"UnionRenderers\"},{\"attributes\":{\"bottom_units\":\"screen\",\"fill_alpha\":{\"value\":0.5},\"fill_color\":{\"value\":\"lightgrey\"},\"left_units\":\"screen\",\"level\":\"overlay\",\"line_alpha\":{\"value\":1.0},\"line_color\":{\"value\":\"black\"},\"line_dash\":[4,4],\"line_width\":{\"value\":2},\"render_mode\":\"css\",\"right_units\":\"screen\",\"top_units\":\"screen\"},\"id\":\"1416\",\"type\":\"BoxAnnotation\"},{\"attributes\":{\"data_source\":{\"id\":\"1370\",\"type\":\"ColumnDataSource\"},\"glyph\":{\"id\":\"1371\",\"type\":\"VBar\"},\"hover_glyph\":null,\"muted_glyph\":null,\"nonselection_glyph\":{\"id\":\"1372\",\"type\":\"VBar\"},\"selection_glyph\":null,\"view\":{\"id\":\"1374\",\"type\":\"CDSView\"}},\"id\":\"1373\",\"type\":\"GlyphRenderer\"},{\"attributes\":{\"active_drag\":\"auto\",\"active_inspect\":\"auto\",\"active_multi\":null,\"active_scroll\":\"auto\",\"active_tap\":\"auto\",\"tools\":[{\"id\":\"1357\",\"type\":\"PanTool\"},{\"id\":\"1358\",\"type\":\"WheelZoomTool\"},{\"id\":\"1359\",\"type\":\"BoxZoomTool\"},{\"id\":\"1360\",\"type\":\"SaveTool\"},{\"id\":\"1361\",\"type\":\"ResetTool\"},{\"id\":\"1362\",\"type\":\"HelpTool\"},{\"id\":\"1375\",\"type\":\"HoverTool\"}]},\"id\":\"1363\",\"type\":\"Toolbar\"},{\"attributes\":{},\"id\":\"1349\",\"type\":\"CategoricalTicker\"},{\"attributes\":{},\"id\":\"1346\",\"type\":\"LinearScale\"},{\"attributes\":{},\"id\":\"1362\",\"type\":\"HelpTool\"},{\"attributes\":{\"callback\":null,\"data\":{\"fill_color\":[\"#D95969\",\"#5F00A6\",\"#E26660\",\"#EC7853\",\"#47029F\",\"#8908A5\",\"#8C0AA4\",\"#C6417C\",\"#CC4876\",\"#8B09A4\",\"#FDBE29\",\"#AD2692\",\"#F48947\",\"#FDBB2B\",\"#EF7D4F\",\"#5901A4\",\"#15068A\",\"#BE3883\",\"#FCC926\",\"#45039E\",\"#EE7C50\",\"#FCCB25\",\"#CA4678\",\"#C7427B\",\"#D25070\",\"#FAD824\",\"#FBA238\",\"#D04D73\",\"#C13C80\",\"#E3675F\"],\"top\":[11,4,3,3,3,3,3,2,2,2,2,2,2,1,1,1,1,1,1,1,1,1,1,1,1,1,1,1,1,1],\"x\":[\"hs2\",\"asked\",\"minister\",\"cbiannualconference2021\",\"prime\",\"people\",\"say\",\"way\",\"rail\",\"problem\",\"country\",\"thurso\",\"government\",\"without\",\"year\",\"two\",\"last\",\"spent\",\"they've\",\"infrastructure\",\"existing\",\"upgrading\",\"impact\",\"environmental\",\"massive\",\"outside\",\"ground\",\"le\",\"west\",\"quickly\"]},\"selected\":{\"id\":\"1415\",\"type\":\"Selection\"},\"selection_policy\":{\"id\":\"1414\",\"type\":\"UnionRenderers\"}},\"id\":\"1370\",\"type\":\"ColumnDataSource\"},{\"attributes\":{\"ticker\":{\"id\":\"1349\",\"type\":\"CategoricalTicker\"}},\"id\":\"1351\",\"type\":\"Grid\"},{\"attributes\":{\"align\":\"center\",\"text\":\"Word Counts\",\"text_font_size\":{\"value\":\"25px\"}},\"id\":\"1378\",\"type\":\"Title\"},{\"attributes\":{\"overlay\":{\"id\":\"1416\",\"type\":\"BoxAnnotation\"}},\"id\":\"1359\",\"type\":\"BoxZoomTool\"}],\"root_ids\":[\"1339\"]},\"title\":\"Bokeh Application\",\"version\":\"1.4.0\"}};\n  var render_items = [{\"docid\":\"a6656fe6-1f3e-4613-a81e-01f426113d29\",\"roots\":{\"1339\":\"e1ba5c8a-1f03-4771-a11f-1fb054bc8b70\"}}];\n  root.Bokeh.embed.embed_items_notebook(docs_json, render_items);\n\n  }\n  if (root.Bokeh !== undefined) {\n    embed_document(root);\n  } else {\n    var attempts = 0;\n    var timer = setInterval(function(root) {\n      if (root.Bokeh !== undefined) {\n        clearInterval(timer);\n        embed_document(root);\n      } else {\n        attempts++;\n        if (attempts > 100) {\n          clearInterval(timer);\n          console.log(\"Bokeh: ERROR: Unable to run BokehJS code because BokehJS library is missing\");\n        }\n      }\n    }, 10, root)\n  }\n})(window);",
      "application/vnd.bokehjs_exec.v0+json": ""
     },
     "metadata": {
      "application/vnd.bokehjs_exec.v0+json": {
       "id": "1339"
      }
     },
     "output_type": "display_data"
    }
   ],
   "source": [
    "p = figure(x_range=list(words_df.head(30)['word']), plot_height=350)\n",
    "\n",
    "p.vbar(x =words_df['word'].head(30), top=words_df['count'].head(30), \\\n",
    "       width=0.9, line_color='white', \\\n",
    "       fill_color = random.sample(Plasma256,30))\n",
    "\n",
    "p.xaxis.major_label_orientation = \"vertical\"\n",
    "p.add_tools(HoverTool())\n",
    "p.y_range=Range1d(0, 15)\n",
    "p.title.text=\"Word Counts\"\n",
    "p.title.text_font_size = \"25px\"\n",
    "p.title.align = 'center'\n",
    "p.xaxis.axis_label = 'Word'\n",
    "p.yaxis.axis_label = 'Count'\n",
    "\n",
    "show(p)"
   ]
  },
  {
   "cell_type": "markdown",
   "metadata": {},
   "source": [
    "## DistilBERT"
   ]
  },
  {
   "cell_type": "code",
   "execution_count": 253,
   "metadata": {},
   "outputs": [],
   "source": [
    "#pip install git+https://github.com/huggingface/transformers.git"
   ]
  },
  {
   "cell_type": "code",
   "execution_count": 43,
   "metadata": {},
   "outputs": [
    {
     "name": "stderr",
     "output_type": "stream",
     "text": [
      "No model was supplied, defaulted to distilbert-base-uncased-finetuned-sst-2-english (https://huggingface.co/distilbert-base-uncased-finetuned-sst-2-english)\n",
      "All model checkpoint layers were used when initializing TFDistilBertForSequenceClassification.\n",
      "\n",
      "All the layers of TFDistilBertForSequenceClassification were initialized from the model checkpoint at distilbert-base-uncased-finetuned-sst-2-english.\n",
      "If your task is similar to the task the model of the checkpoint was trained on, you can already use TFDistilBertForSequenceClassification for predictions without further training.\n"
     ]
    }
   ],
   "source": [
    "from transformers import pipeline\n",
    "\n",
    "# Defaults to distilBERT\n",
    "# Light version of BERT\n",
    "classifier = pipeline('sentiment-analysis')"
   ]
  },
  {
   "cell_type": "code",
   "execution_count": 76,
   "metadata": {},
   "outputs": [],
   "source": [
    "db_label = []\n",
    "db_score = []\n",
    "\n",
    "for i, j in enumerate(preprocessing_tweets(just_tweets)):\n",
    "    db_label.append(classifier(j)[0]['label'])\n",
    "    db_score.append(classifier(j)[0]['score'])\n",
    "\n",
    "distilbert_sentiment = pd.DataFrame(just_tweets)\n",
    "distilbert_sentiment['Label'] = db_label\n",
    "distilbert_sentiment['Score'] = db_score"
   ]
  },
  {
   "cell_type": "code",
   "execution_count": 77,
   "metadata": {},
   "outputs": [
    {
     "data": {
      "text/html": [
       "<div>\n",
       "<style scoped>\n",
       "    .dataframe tbody tr th:only-of-type {\n",
       "        vertical-align: middle;\n",
       "    }\n",
       "\n",
       "    .dataframe tbody tr th {\n",
       "        vertical-align: top;\n",
       "    }\n",
       "\n",
       "    .dataframe thead th {\n",
       "        text-align: right;\n",
       "    }\n",
       "</style>\n",
       "<table border=\"1\" class=\"dataframe\">\n",
       "  <thead>\n",
       "    <tr style=\"text-align: right;\">\n",
       "      <th></th>\n",
       "      <th>0</th>\n",
       "      <th>Label</th>\n",
       "      <th>Score</th>\n",
       "    </tr>\n",
       "  </thead>\n",
       "  <tbody>\n",
       "    <tr>\n",
       "      <th>0</th>\n",
       "      <td>@Dawn4GBYT Could be a deliberate attempt to de...</td>\n",
       "      <td>NEGATIVE</td>\n",
       "      <td>0.998839</td>\n",
       "    </tr>\n",
       "    <tr>\n",
       "      <th>1</th>\n",
       "      <td>@helenhalcrow @LouiseAKennedy @EdwardJDavey @S...</td>\n",
       "      <td>NEGATIVE</td>\n",
       "      <td>0.990207</td>\n",
       "    </tr>\n",
       "    <tr>\n",
       "      <th>2</th>\n",
       "      <td>RT @CBItweets: “To solve this country’s transp...</td>\n",
       "      <td>NEGATIVE</td>\n",
       "      <td>0.969417</td>\n",
       "    </tr>\n",
       "    <tr>\n",
       "      <th>3</th>\n",
       "      <td>RT @CBItweets: “Our rail package is fantastic ...</td>\n",
       "      <td>POSITIVE</td>\n",
       "      <td>0.999426</td>\n",
       "    </tr>\n",
       "    <tr>\n",
       "      <th>4</th>\n",
       "      <td>RT @CBItweets: “It’s not a row-back – it’s bet...</td>\n",
       "      <td>NEGATIVE</td>\n",
       "      <td>0.993742</td>\n",
       "    </tr>\n",
       "    <tr>\n",
       "      <th>5</th>\n",
       "      <td>RT @_PaulMonaghan: I recall meeting with #HS2 ...</td>\n",
       "      <td>NEGATIVE</td>\n",
       "      <td>0.983938</td>\n",
       "    </tr>\n",
       "    <tr>\n",
       "      <th>6</th>\n",
       "      <td>RT @RichardWellings: The cancellation of the e...</td>\n",
       "      <td>NEGATIVE</td>\n",
       "      <td>0.845511</td>\n",
       "    </tr>\n",
       "    <tr>\n",
       "      <th>7</th>\n",
       "      <td>RT @mcahs2: They've spent the last two years d...</td>\n",
       "      <td>NEGATIVE</td>\n",
       "      <td>0.994045</td>\n",
       "    </tr>\n",
       "    <tr>\n",
       "      <th>8</th>\n",
       "      <td>RT @ElRaynerista: LIVE SCENES as The Fat Conma...</td>\n",
       "      <td>NEGATIVE</td>\n",
       "      <td>0.993588</td>\n",
       "    </tr>\n",
       "    <tr>\n",
       "      <th>9</th>\n",
       "      <td>#HS2 boosts job opportunities for young people...</td>\n",
       "      <td>POSITIVE</td>\n",
       "      <td>0.998989</td>\n",
       "    </tr>\n",
       "  </tbody>\n",
       "</table>\n",
       "</div>"
      ],
      "text/plain": [
       "                                                   0     Label     Score\n",
       "0  @Dawn4GBYT Could be a deliberate attempt to de...  NEGATIVE  0.998839\n",
       "1  @helenhalcrow @LouiseAKennedy @EdwardJDavey @S...  NEGATIVE  0.990207\n",
       "2  RT @CBItweets: “To solve this country’s transp...  NEGATIVE  0.969417\n",
       "3  RT @CBItweets: “Our rail package is fantastic ...  POSITIVE  0.999426\n",
       "4  RT @CBItweets: “It’s not a row-back – it’s bet...  NEGATIVE  0.993742\n",
       "5  RT @_PaulMonaghan: I recall meeting with #HS2 ...  NEGATIVE  0.983938\n",
       "6  RT @RichardWellings: The cancellation of the e...  NEGATIVE  0.845511\n",
       "7  RT @mcahs2: They've spent the last two years d...  NEGATIVE  0.994045\n",
       "8  RT @ElRaynerista: LIVE SCENES as The Fat Conma...  NEGATIVE  0.993588\n",
       "9  #HS2 boosts job opportunities for young people...  POSITIVE  0.998989"
      ]
     },
     "execution_count": 77,
     "metadata": {},
     "output_type": "execute_result"
    }
   ],
   "source": [
    "# Using the Distilbert Sentiment analysis to identify the sentiment of each comment\n",
    "distilbert_sentiment"
   ]
  },
  {
   "cell_type": "markdown",
   "metadata": {},
   "source": [
    "# Resources\n",
    "https://dev.to/twitterdev/a-comprehensive-guide-for-using-the-twitter-api-v2-using-tweepy-in-python-15d9"
   ]
  },
  {
   "cell_type": "code",
   "execution_count": null,
   "metadata": {},
   "outputs": [],
   "source": [
    "# user_geo_reftweet = {}\n",
    "# for j in ['users','places','tweets']:\n",
    "#     # since we cannot extract geographical location yet, 'places' is unavailable \n",
    "\n",
    "#     try:\n",
    "#         parameter = query.includes[j]\n",
    "#     except:\n",
    "#         continue\n",
    "#     else:\n",
    "#         ref_tweet_df = []\n",
    "#         og_author_list = []\n",
    "#         for i in range(max_results):\n",
    "#             try:\n",
    "#                 parameter = query.includes[j][i]\n",
    "#                 ref_tweet_df.append(parameter)\n",
    "#             except IndexError:\n",
    "#                 continue\n",
    "#             else:\n",
    "#                 og_author_list.append(query.data[i]['author_id'])\n",
    "#     user_geo_reftweet[j] = [ref_tweet_df, og_author_list]\n",
    "        "
   ]
  },
  {
   "cell_type": "code",
   "execution_count": null,
   "metadata": {},
   "outputs": [],
   "source": [
    "# users_df = pd.DataFrame(user_geo_reftweet['users'][0])\n",
    "# users_df['og_author_id'] = user_geo_reftweet['users'][1]\n",
    "\n",
    "# ref_tweet_df = pd.DataFrame(user_geo_reftweet['tweets'][0])\n",
    "# ref_tweet_df['og_author_id'] = user_geo_reftweet['tweets'][1]"
   ]
  }
 ],
 "metadata": {
  "interpreter": {
   "hash": "b3ba2566441a7c06988d0923437866b63cedc61552a5af99d1f4fb67d367b25f"
  },
  "kernelspec": {
   "display_name": "Python 3.7.6 64-bit ('base': conda)",
   "name": "python3"
  },
  "language_info": {
   "codemirror_mode": {
    "name": "ipython",
    "version": 3
   },
   "file_extension": ".py",
   "mimetype": "text/x-python",
   "name": "python",
   "nbconvert_exporter": "python",
   "pygments_lexer": "ipython3",
   "version": "3.7.6"
  },
  "orig_nbformat": 4
 },
 "nbformat": 4,
 "nbformat_minor": 2
}
