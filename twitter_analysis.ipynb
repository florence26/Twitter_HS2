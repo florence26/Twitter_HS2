{
 "cells": [
  {
   "cell_type": "markdown",
   "metadata": {},
   "source": [
    "# HS2 Tweets\n",
    "### Importing Packages"
   ]
  },
  {
   "cell_type": "code",
   "execution_count": 2,
   "metadata": {},
   "outputs": [],
   "source": [
    "import tweepy as tw\n",
    "import pprint\n",
    "import numpy as np\n",
    "import nltk\n",
    "import bokeh\n",
    "import pandas as pd\n",
    "import matplotlib.pyplot as plt\n",
    "import seaborn as sns\n",
    "import random\n",
    "import re\n",
    "\n",
    "from collections import Counter\n",
    "\n",
    "from wordcloud import WordCloud\n",
    "\n",
    "from bokeh.io import output_notebook, show, reset_output\n",
    "from bokeh.plotting import figure\n",
    "from bokeh.models import HoverTool\n",
    "from bokeh.models import ColumnDataSource\n",
    "from bokeh.palettes import Plasma256\n",
    "from bokeh.models import Range1d\n",
    "\n",
    "from nltk.corpus import stopwords\n",
    "from nltk.stem import WordNetLemmatizer\n",
    "from nltk.tokenize import RegexpTokenizer\n",
    "from nltk.tokenize import word_tokenize\n",
    "\n",
    "from textblob import Word, TextBlob"
   ]
  },
  {
   "cell_type": "markdown",
   "metadata": {},
   "source": [
    "### Twitter API Access & Set-Up"
   ]
  },
  {
   "cell_type": "code",
   "execution_count": 3,
   "metadata": {},
   "outputs": [],
   "source": [
    "file = open(r\"C:\\Users\\yeungf8452\\OneDrive - ARCADIS\\HS2 (Data Science)\\HS2 Twitter\\twitter_api.txt\", \"r\").readlines()\n",
    "\n",
    "api = file[0].strip('\\n')\n",
    "api_secret = file[1].strip('\\n')\n",
    "bearer_token = file[2].strip('\\n')\n",
    "access_token = file[3].strip('\\n')\n",
    "access_token_secret = file[4].strip('\\n')"
   ]
  },
  {
   "cell_type": "code",
   "execution_count": 4,
   "metadata": {},
   "outputs": [],
   "source": [
    "auth = tw.OAuthHandler(api, api_secret)\n",
    "auth.set_access_token(access_token, access_token_secret)\n",
    "api_app = tw.API(auth, wait_on_rate_limit = True)"
   ]
  },
  {
   "cell_type": "markdown",
   "metadata": {},
   "source": [
    "### Query"
   ]
  },
  {
   "cell_type": "code",
   "execution_count": 5,
   "metadata": {},
   "outputs": [],
   "source": [
    "client = tw.Client(bearer_token)\n",
    "\n",
    "hashtag = \"#HS2 OR #hs2 lang:en\"\n",
    "tweet_fields=['context_annotations', 'created_at', 'entities', 'geo', 'public_metrics']\n",
    "user_fields = ['location', 'public_metrics']\n",
    "# user fields: https://developer.twitter.com/en/docs/twitter-api/data-dictionary/object-model/user\n",
    "expansions=['geo.place_id', 'author_id', 'referenced_tweets.id']\n",
    "place_fields=['name', 'geo']\n",
    "max_results = 10\n",
    "# place fields: https://developer.twitter.com/en/docs/twitter-api/data-dictionary/object-model/place\n",
    "\n",
    "# For search options: https://developer.twitter.com/en/docs/twitter-api/tweets/search/integrate/build-a-query\n",
    "# Only can use operators that are \"core\"\n",
    "# More examples: https://github.com/twitterdev/getting-started-with-the-twitter-api-v2-for-academic-research/blob/main/modules/5-how-to-write-search-queries.md\n",
    "\n",
    "# Use pagination if need more than 100 tweets\n",
    "# query = tw.Paginator(client.search_recent_tweets, \"HS2\", max_results=10, limit=3)\n",
    "# Use .flatten when looking through data if using paginator\n",
    "# https://docs.tweepy.org/en/stable/pagination.html\n",
    "# https://developer.twitter.com/en/docs/twitter-api/pagination\n",
    "\n",
    "query = client.search_recent_tweets(query=hashtag, tweet_fields = tweet_fields, user_fields = user_fields, expansions = expansions, place_fields = place_fields, max_results=max_results)\n",
    "\n",
    "# fields are necessary in queries to get details"
   ]
  },
  {
   "cell_type": "markdown",
   "metadata": {},
   "source": [
    "### Tweet Information"
   ]
  },
  {
   "cell_type": "code",
   "execution_count": 28,
   "metadata": {},
   "outputs": [],
   "source": [
    "tweets = [{'Author ID:' : tweet.author_id, 'Tweet:' : tweet.text, 'Time Created': tweet.created_at, 'Tweet_ID': tweet.id, 'Auto Context Annotations':tweet.context_annotations, 'Entities': tweet.entities, \n",
    "'Location':tweet.geo, 'Metrics':tweet.public_metrics} for tweet in query.data]\n",
    "\n",
    "tweets_df = pd.DataFrame(tweets)"
   ]
  },
  {
   "cell_type": "code",
   "execution_count": 62,
   "metadata": {},
   "outputs": [],
   "source": [
    "tweets_df['Auto Context Annotations Entity'] = np.empty((len(tweets_df), 0)).tolist()\n",
    "\n",
    "for k, i in enumerate(tweets_df['Auto Context Annotations']):\n",
    "    for j in range(len(i)):\n",
    "        entity = i[j]['entity']['name']\n",
    "        tweets_df.loc[k, 'Auto Context Annotations Entity'].append(entity)"
   ]
  },
  {
   "cell_type": "code",
   "execution_count": 63,
   "metadata": {},
   "outputs": [],
   "source": [
    "entity_types = {'annotations':'normalized_text', 'cashtags': 'tag', 'hashtags': 'tag', 'mentions': 'username', 'urls': 'url'}\n",
    "for i in entity_types.keys():\n",
    "    tweets_df[i] = np.empty((len(tweets_df), 0)).tolist()\n",
    "    entity_list = []\n",
    "    for j, k in enumerate(tweets_df['Entities']):\n",
    "        try:\n",
    "            list_of_dicts = k[i]\n",
    "            entity_list.append([a_dict[entity_types[i]] for a_dict in k[i]])\n",
    "        except KeyError:\n",
    "            entity_list.append([])\n",
    "    tweets_df[i] = entity_list"
   ]
  },
  {
   "cell_type": "code",
   "execution_count": 64,
   "metadata": {},
   "outputs": [],
   "source": [
    "metric_types = [\"retweet_count\", \"reply_count\", \"like_count\", \"quote_count\"]\n",
    "\n",
    "for i in metric_types:\n",
    "    tweets_df[i] = np.empty((len(tweets_df), 0)).tolist()\n",
    "    metric_list = []\n",
    "    for j in (tweets_df['Metrics']):\n",
    "        metric_list.append(j[i])\n",
    "    tweets_df[i] = metric_list"
   ]
  },
  {
   "cell_type": "markdown",
   "metadata": {},
   "source": [
    "## User, Geographical and Reference Tweet"
   ]
  },
  {
   "cell_type": "code",
   "execution_count": 54,
   "metadata": {},
   "outputs": [],
   "source": [
    "user_geo_reftweet = {}\n",
    "for i in ['users','places','tweets']:\n",
    "    try:\n",
    "        parameter = query.includes[i]\n",
    "        user_geo_reftweet[i] = {u for u in parameter}\n",
    "    except KeyError:\n",
    "        continue\n",
    "\n",
    "users_df = pd.DataFrame(user_geo_reftweet['users'])\n",
    "ref_tweet_df = pd.DataFrame(user_geo_reftweet['tweets'])"
   ]
  },
  {
   "cell_type": "code",
   "execution_count": 56,
   "metadata": {},
   "outputs": [
    {
     "data": {
      "text/html": [
       "<div>\n",
       "<style scoped>\n",
       "    .dataframe tbody tr th:only-of-type {\n",
       "        vertical-align: middle;\n",
       "    }\n",
       "\n",
       "    .dataframe tbody tr th {\n",
       "        vertical-align: top;\n",
       "    }\n",
       "\n",
       "    .dataframe thead th {\n",
       "        text-align: right;\n",
       "    }\n",
       "</style>\n",
       "<table border=\"1\" class=\"dataframe\">\n",
       "  <thead>\n",
       "    <tr style=\"text-align: right;\">\n",
       "      <th></th>\n",
       "      <th>id</th>\n",
       "      <th>location</th>\n",
       "      <th>name</th>\n",
       "      <th>public_metrics</th>\n",
       "      <th>username</th>\n",
       "    </tr>\n",
       "  </thead>\n",
       "  <tbody>\n",
       "    <tr>\n",
       "      <th>0</th>\n",
       "      <td>726138001743581184</td>\n",
       "      <td>Birmingham</td>\n",
       "      <td>Mark Hipwell</td>\n",
       "      <td>{'followers_count': 3591, 'following_count': 3...</td>\n",
       "      <td>markhipwell1990</td>\n",
       "    </tr>\n",
       "    <tr>\n",
       "      <th>1</th>\n",
       "      <td>1201589544522522624</td>\n",
       "      <td>NaN</td>\n",
       "      <td>Lucifer’s darker side</td>\n",
       "      <td>{'followers_count': 65, 'following_count': 155...</td>\n",
       "      <td>LuciferSide</td>\n",
       "    </tr>\n",
       "    <tr>\n",
       "      <th>2</th>\n",
       "      <td>1935426432</td>\n",
       "      <td>NaN</td>\n",
       "      <td>MCheshireAgainstHS2</td>\n",
       "      <td>{'followers_count': 2566, 'following_count': 3...</td>\n",
       "      <td>mcahs2</td>\n",
       "    </tr>\n",
       "    <tr>\n",
       "      <th>3</th>\n",
       "      <td>764758972947652609</td>\n",
       "      <td>NaN</td>\n",
       "      <td>Mark Jonathan</td>\n",
       "      <td>{'followers_count': 66, 'following_count': 112...</td>\n",
       "      <td>jonathan640000</td>\n",
       "    </tr>\n",
       "    <tr>\n",
       "      <th>4</th>\n",
       "      <td>1332991729214033921</td>\n",
       "      <td>NaN</td>\n",
       "      <td>Disheartened But Determined💙😷</td>\n",
       "      <td>{'followers_count': 665, 'following_count': 81...</td>\n",
       "      <td>DisheartenedD</td>\n",
       "    </tr>\n",
       "    <tr>\n",
       "      <th>5</th>\n",
       "      <td>14698260</td>\n",
       "      <td>London</td>\n",
       "      <td>Chris Riggs</td>\n",
       "      <td>{'followers_count': 172, 'following_count': 12...</td>\n",
       "      <td>cleuch</td>\n",
       "    </tr>\n",
       "    <tr>\n",
       "      <th>6</th>\n",
       "      <td>14931578</td>\n",
       "      <td>London, Stourbridge, Dundee</td>\n",
       "      <td>K-smudged 🖐💙</td>\n",
       "      <td>{'followers_count': 2338, 'following_count': 5...</td>\n",
       "      <td>smudge1</td>\n",
       "    </tr>\n",
       "    <tr>\n",
       "      <th>7</th>\n",
       "      <td>1886333310</td>\n",
       "      <td>NaN</td>\n",
       "      <td>OutofTweet123</td>\n",
       "      <td>{'followers_count': 1790, 'following_count': 1...</td>\n",
       "      <td>Outoftweet123</td>\n",
       "    </tr>\n",
       "  </tbody>\n",
       "</table>\n",
       "</div>"
      ],
      "text/plain": [
       "                    id                     location  \\\n",
       "0   726138001743581184                   Birmingham   \n",
       "1  1201589544522522624                          NaN   \n",
       "2           1935426432                          NaN   \n",
       "3   764758972947652609                          NaN   \n",
       "4  1332991729214033921                          NaN   \n",
       "5             14698260                       London   \n",
       "6             14931578  London, Stourbridge, Dundee   \n",
       "7           1886333310                          NaN   \n",
       "\n",
       "                            name  \\\n",
       "0                   Mark Hipwell   \n",
       "1          Lucifer’s darker side   \n",
       "2            MCheshireAgainstHS2   \n",
       "3                  Mark Jonathan   \n",
       "4  Disheartened But Determined💙😷   \n",
       "5                    Chris Riggs   \n",
       "6                   K-smudged 🖐💙   \n",
       "7                  OutofTweet123   \n",
       "\n",
       "                                      public_metrics         username  \n",
       "0  {'followers_count': 3591, 'following_count': 3...  markhipwell1990  \n",
       "1  {'followers_count': 65, 'following_count': 155...      LuciferSide  \n",
       "2  {'followers_count': 2566, 'following_count': 3...           mcahs2  \n",
       "3  {'followers_count': 66, 'following_count': 112...   jonathan640000  \n",
       "4  {'followers_count': 665, 'following_count': 81...    DisheartenedD  \n",
       "5  {'followers_count': 172, 'following_count': 12...           cleuch  \n",
       "6  {'followers_count': 2338, 'following_count': 5...          smudge1  \n",
       "7  {'followers_count': 1790, 'following_count': 1...    Outoftweet123  "
      ]
     },
     "execution_count": 56,
     "metadata": {},
     "output_type": "execute_result"
    }
   ],
   "source": [
    "users_df"
   ]
  },
  {
   "cell_type": "code",
   "execution_count": 63,
   "metadata": {},
   "outputs": [],
   "source": [
    "user_geo_reftweet = {}\n",
    "for j in ['users','places','tweets']:\n",
    "    # since we cannot extract geographical location yet, 'places' is unavailable \n",
    "\n",
    "    try:\n",
    "        parameter = query.includes[j]\n",
    "    except:\n",
    "        continue\n",
    "    else:\n",
    "        ref_tweet_df = []\n",
    "        og_author_list = []\n",
    "        for i in range(max_results):\n",
    "            try:\n",
    "                parameter = query.includes[j][i]\n",
    "                ref_tweet_df.append(parameter)\n",
    "            except IndexError:\n",
    "                continue\n",
    "            else:\n",
    "                og_author_list.append(query.data[i]['author_id'])\n",
    "    user_geo_reftweet[j] = [ref_tweet_df, og_author_list]\n",
    "        "
   ]
  },
  {
   "cell_type": "code",
   "execution_count": 68,
   "metadata": {},
   "outputs": [],
   "source": [
    "users_df = pd.DataFrame(user_geo_reftweet['users'][0])\n",
    "users_df['og_author_id'] = user_geo_reftweet['users'][1]\n",
    "\n",
    "ref_tweet_df = pd.DataFrame(user_geo_reftweet['tweets'][0])\n",
    "ref_tweet_df['og_author_id'] = user_geo_reftweet['tweets'][1]"
   ]
  },
  {
   "cell_type": "code",
   "execution_count": 70,
   "metadata": {},
   "outputs": [
    {
     "data": {
      "text/html": [
       "<div>\n",
       "<style scoped>\n",
       "    .dataframe tbody tr th:only-of-type {\n",
       "        vertical-align: middle;\n",
       "    }\n",
       "\n",
       "    .dataframe tbody tr th {\n",
       "        vertical-align: top;\n",
       "    }\n",
       "\n",
       "    .dataframe thead th {\n",
       "        text-align: right;\n",
       "    }\n",
       "</style>\n",
       "<table border=\"1\" class=\"dataframe\">\n",
       "  <thead>\n",
       "    <tr style=\"text-align: right;\">\n",
       "      <th></th>\n",
       "      <th>author_id</th>\n",
       "      <th>context_annotations</th>\n",
       "      <th>created_at</th>\n",
       "      <th>entities</th>\n",
       "      <th>id</th>\n",
       "      <th>public_metrics</th>\n",
       "      <th>referenced_tweets</th>\n",
       "      <th>text</th>\n",
       "      <th>og_author_id</th>\n",
       "    </tr>\n",
       "  </thead>\n",
       "  <tbody>\n",
       "    <tr>\n",
       "      <th>0</th>\n",
       "      <td>723045944644784128</td>\n",
       "      <td>[{'domain': {'id': '67', 'name': 'Interests an...</td>\n",
       "      <td>2021-10-24 18:25:39+00:00</td>\n",
       "      <td>{'mentions': [{'start': 0, 'end': 11, 'usernam...</td>\n",
       "      <td>1452340526028673046</td>\n",
       "      <td>{'retweet_count': 0, 'reply_count': 1, 'like_c...</td>\n",
       "      <td>[(type, id)]</td>\n",
       "      <td>@EmBeck2015 @sarahb711 @BrentPoland1 @RoadsXR ...</td>\n",
       "      <td>1886333310</td>\n",
       "    </tr>\n",
       "    <tr>\n",
       "      <th>1</th>\n",
       "      <td>804162745</td>\n",
       "      <td>[{'domain': {'id': '66', 'name': 'Interests an...</td>\n",
       "      <td>2021-10-24 12:28:45+00:00</td>\n",
       "      <td>{'hashtags': [{'start': 177, 'end': 181, 'tag'...</td>\n",
       "      <td>1452250710934949907</td>\n",
       "      <td>{'retweet_count': 5, 'reply_count': 1, 'like_c...</td>\n",
       "      <td>NaN</td>\n",
       "      <td>Usual bodge. Euston descoped. Eastern leg slow...</td>\n",
       "      <td>14931578</td>\n",
       "    </tr>\n",
       "    <tr>\n",
       "      <th>2</th>\n",
       "      <td>1255546610966302721</td>\n",
       "      <td>NaN</td>\n",
       "      <td>2021-10-24 16:30:59+00:00</td>\n",
       "      <td>{'hashtags': [{'start': 93, 'end': 100, 'tag':...</td>\n",
       "      <td>1452311669238026248</td>\n",
       "      <td>{'retweet_count': 12, 'reply_count': 1, 'like_...</td>\n",
       "      <td>NaN</td>\n",
       "      <td>We're a bit overwhelmed with the number of Gre...</td>\n",
       "      <td>726138001743581184</td>\n",
       "    </tr>\n",
       "    <tr>\n",
       "      <th>3</th>\n",
       "      <td>270869723</td>\n",
       "      <td>[{'domain': {'id': '45', 'name': 'Brand Vertic...</td>\n",
       "      <td>2021-10-24 14:01:01+00:00</td>\n",
       "      <td>{'hashtags': [{'start': 45, 'end': 54, 'tag': ...</td>\n",
       "      <td>1452273928810991624</td>\n",
       "      <td>{'retweet_count': 4, 'reply_count': 0, 'like_c...</td>\n",
       "      <td>NaN</td>\n",
       "      <td>This is the charging cable for the first all #...</td>\n",
       "      <td>1201589544522522624</td>\n",
       "    </tr>\n",
       "    <tr>\n",
       "      <th>4</th>\n",
       "      <td>1151206672527962112</td>\n",
       "      <td>NaN</td>\n",
       "      <td>2021-10-24 13:30:41+00:00</td>\n",
       "      <td>{'hashtags': [{'start': 0, 'end': 4, 'tag': 'h...</td>\n",
       "      <td>1452266295106416644</td>\n",
       "      <td>{'retweet_count': 2, 'reply_count': 1, 'like_c...</td>\n",
       "      <td>NaN</td>\n",
       "      <td>#hs2 is little more than a hugely overpriced b...</td>\n",
       "      <td>14698260</td>\n",
       "    </tr>\n",
       "    <tr>\n",
       "      <th>5</th>\n",
       "      <td>1255546610966302721</td>\n",
       "      <td>NaN</td>\n",
       "      <td>2021-10-24 14:38:04+00:00</td>\n",
       "      <td>{'hashtags': [{'start': 68, 'end': 75, 'tag': ...</td>\n",
       "      <td>1452283255307350024</td>\n",
       "      <td>{'retweet_count': 8, 'reply_count': 6, 'like_c...</td>\n",
       "      <td>[(type, id)]</td>\n",
       "      <td>Both HS2-related motions have fallen off the a...</td>\n",
       "      <td>1935426432</td>\n",
       "    </tr>\n",
       "    <tr>\n",
       "      <th>6</th>\n",
       "      <td>122715343</td>\n",
       "      <td>NaN</td>\n",
       "      <td>2021-10-24 18:03:39+00:00</td>\n",
       "      <td>{'hashtags': [{'start': 50, 'end': 54, 'tag': ...</td>\n",
       "      <td>1452334992370147339</td>\n",
       "      <td>{'retweet_count': 4, 'reply_count': 2, 'like_c...</td>\n",
       "      <td>NaN</td>\n",
       "      <td>The Independent says the Toton hub is dead - w...</td>\n",
       "      <td>1201589544522522624</td>\n",
       "    </tr>\n",
       "    <tr>\n",
       "      <th>7</th>\n",
       "      <td>1310304903471001604</td>\n",
       "      <td>NaN</td>\n",
       "      <td>2021-10-24 17:33:41+00:00</td>\n",
       "      <td>{'mentions': [{'start': 0, 'end': 11, 'usernam...</td>\n",
       "      <td>1452327447685443591</td>\n",
       "      <td>{'retweet_count': 3, 'reply_count': 0, 'like_c...</td>\n",
       "      <td>[(type, id)]</td>\n",
       "      <td>@Greens4HS2 @PaulMBigland @bbcmtd @TheGreenPar...</td>\n",
       "      <td>764758972947652609</td>\n",
       "    </tr>\n",
       "    <tr>\n",
       "      <th>8</th>\n",
       "      <td>906082234490290176</td>\n",
       "      <td>NaN</td>\n",
       "      <td>2021-10-24 10:05:05+00:00</td>\n",
       "      <td>{'hashtags': [{'start': 260, 'end': 264, 'tag'...</td>\n",
       "      <td>1452214556550475777</td>\n",
       "      <td>{'retweet_count': 89, 'reply_count': 12, 'like...</td>\n",
       "      <td>NaN</td>\n",
       "      <td>I don't want high speed rail that will save 15...</td>\n",
       "      <td>1935426432</td>\n",
       "    </tr>\n",
       "  </tbody>\n",
       "</table>\n",
       "</div>"
      ],
      "text/plain": [
       "             author_id                                context_annotations  \\\n",
       "0   723045944644784128  [{'domain': {'id': '67', 'name': 'Interests an...   \n",
       "1            804162745  [{'domain': {'id': '66', 'name': 'Interests an...   \n",
       "2  1255546610966302721                                                NaN   \n",
       "3            270869723  [{'domain': {'id': '45', 'name': 'Brand Vertic...   \n",
       "4  1151206672527962112                                                NaN   \n",
       "5  1255546610966302721                                                NaN   \n",
       "6            122715343                                                NaN   \n",
       "7  1310304903471001604                                                NaN   \n",
       "8   906082234490290176                                                NaN   \n",
       "\n",
       "                 created_at  \\\n",
       "0 2021-10-24 18:25:39+00:00   \n",
       "1 2021-10-24 12:28:45+00:00   \n",
       "2 2021-10-24 16:30:59+00:00   \n",
       "3 2021-10-24 14:01:01+00:00   \n",
       "4 2021-10-24 13:30:41+00:00   \n",
       "5 2021-10-24 14:38:04+00:00   \n",
       "6 2021-10-24 18:03:39+00:00   \n",
       "7 2021-10-24 17:33:41+00:00   \n",
       "8 2021-10-24 10:05:05+00:00   \n",
       "\n",
       "                                            entities                   id  \\\n",
       "0  {'mentions': [{'start': 0, 'end': 11, 'usernam...  1452340526028673046   \n",
       "1  {'hashtags': [{'start': 177, 'end': 181, 'tag'...  1452250710934949907   \n",
       "2  {'hashtags': [{'start': 93, 'end': 100, 'tag':...  1452311669238026248   \n",
       "3  {'hashtags': [{'start': 45, 'end': 54, 'tag': ...  1452273928810991624   \n",
       "4  {'hashtags': [{'start': 0, 'end': 4, 'tag': 'h...  1452266295106416644   \n",
       "5  {'hashtags': [{'start': 68, 'end': 75, 'tag': ...  1452283255307350024   \n",
       "6  {'hashtags': [{'start': 50, 'end': 54, 'tag': ...  1452334992370147339   \n",
       "7  {'mentions': [{'start': 0, 'end': 11, 'usernam...  1452327447685443591   \n",
       "8  {'hashtags': [{'start': 260, 'end': 264, 'tag'...  1452214556550475777   \n",
       "\n",
       "                                      public_metrics referenced_tweets  \\\n",
       "0  {'retweet_count': 0, 'reply_count': 1, 'like_c...      [(type, id)]   \n",
       "1  {'retweet_count': 5, 'reply_count': 1, 'like_c...               NaN   \n",
       "2  {'retweet_count': 12, 'reply_count': 1, 'like_...               NaN   \n",
       "3  {'retweet_count': 4, 'reply_count': 0, 'like_c...               NaN   \n",
       "4  {'retweet_count': 2, 'reply_count': 1, 'like_c...               NaN   \n",
       "5  {'retweet_count': 8, 'reply_count': 6, 'like_c...      [(type, id)]   \n",
       "6  {'retweet_count': 4, 'reply_count': 2, 'like_c...               NaN   \n",
       "7  {'retweet_count': 3, 'reply_count': 0, 'like_c...      [(type, id)]   \n",
       "8  {'retweet_count': 89, 'reply_count': 12, 'like...               NaN   \n",
       "\n",
       "                                                text         og_author_id  \n",
       "0  @EmBeck2015 @sarahb711 @BrentPoland1 @RoadsXR ...           1886333310  \n",
       "1  Usual bodge. Euston descoped. Eastern leg slow...             14931578  \n",
       "2  We're a bit overwhelmed with the number of Gre...   726138001743581184  \n",
       "3  This is the charging cable for the first all #...  1201589544522522624  \n",
       "4  #hs2 is little more than a hugely overpriced b...             14698260  \n",
       "5  Both HS2-related motions have fallen off the a...           1935426432  \n",
       "6  The Independent says the Toton hub is dead - w...  1201589544522522624  \n",
       "7  @Greens4HS2 @PaulMBigland @bbcmtd @TheGreenPar...   764758972947652609  \n",
       "8  I don't want high speed rail that will save 15...           1935426432  "
      ]
     },
     "execution_count": 70,
     "metadata": {},
     "output_type": "execute_result"
    }
   ],
   "source": [
    "ref_tweet_df"
   ]
  },
  {
   "cell_type": "code",
   "execution_count": 23,
   "metadata": {},
   "outputs": [
    {
     "data": {
      "text/html": [
       "<div>\n",
       "<style scoped>\n",
       "    .dataframe tbody tr th:only-of-type {\n",
       "        vertical-align: middle;\n",
       "    }\n",
       "\n",
       "    .dataframe tbody tr th {\n",
       "        vertical-align: top;\n",
       "    }\n",
       "\n",
       "    .dataframe thead th {\n",
       "        text-align: right;\n",
       "    }\n",
       "</style>\n",
       "<table border=\"1\" class=\"dataframe\">\n",
       "  <thead>\n",
       "    <tr style=\"text-align: right;\">\n",
       "      <th></th>\n",
       "      <th>author_id</th>\n",
       "      <th>context_annotations</th>\n",
       "      <th>created_at</th>\n",
       "      <th>entities</th>\n",
       "      <th>id</th>\n",
       "      <th>public_metrics</th>\n",
       "      <th>referenced_tweets</th>\n",
       "      <th>text</th>\n",
       "    </tr>\n",
       "  </thead>\n",
       "  <tbody>\n",
       "    <tr>\n",
       "      <th>0</th>\n",
       "      <td>723045944644784128</td>\n",
       "      <td>[{'domain': {'id': '67', 'name': 'Interests an...</td>\n",
       "      <td>2021-10-24 18:25:39+00:00</td>\n",
       "      <td>{'mentions': [{'start': 0, 'end': 11, 'usernam...</td>\n",
       "      <td>1452340526028673046</td>\n",
       "      <td>{'retweet_count': 0, 'reply_count': 1, 'like_c...</td>\n",
       "      <td>[(type, id)]</td>\n",
       "      <td>@EmBeck2015 @sarahb711 @BrentPoland1 @RoadsXR ...</td>\n",
       "    </tr>\n",
       "    <tr>\n",
       "      <th>1</th>\n",
       "      <td>804162745</td>\n",
       "      <td>[{'domain': {'id': '66', 'name': 'Interests an...</td>\n",
       "      <td>2021-10-24 12:28:45+00:00</td>\n",
       "      <td>{'hashtags': [{'start': 177, 'end': 181, 'tag'...</td>\n",
       "      <td>1452250710934949907</td>\n",
       "      <td>{'retweet_count': 5, 'reply_count': 1, 'like_c...</td>\n",
       "      <td>NaN</td>\n",
       "      <td>Usual bodge. Euston descoped. Eastern leg slow...</td>\n",
       "    </tr>\n",
       "    <tr>\n",
       "      <th>2</th>\n",
       "      <td>1255546610966302721</td>\n",
       "      <td>NaN</td>\n",
       "      <td>2021-10-24 16:30:59+00:00</td>\n",
       "      <td>{'hashtags': [{'start': 93, 'end': 100, 'tag':...</td>\n",
       "      <td>1452311669238026248</td>\n",
       "      <td>{'retweet_count': 12, 'reply_count': 1, 'like_...</td>\n",
       "      <td>NaN</td>\n",
       "      <td>We're a bit overwhelmed with the number of Gre...</td>\n",
       "    </tr>\n",
       "    <tr>\n",
       "      <th>3</th>\n",
       "      <td>270869723</td>\n",
       "      <td>[{'domain': {'id': '45', 'name': 'Brand Vertic...</td>\n",
       "      <td>2021-10-24 14:01:01+00:00</td>\n",
       "      <td>{'hashtags': [{'start': 45, 'end': 54, 'tag': ...</td>\n",
       "      <td>1452273928810991624</td>\n",
       "      <td>{'retweet_count': 4, 'reply_count': 0, 'like_c...</td>\n",
       "      <td>NaN</td>\n",
       "      <td>This is the charging cable for the first all #...</td>\n",
       "    </tr>\n",
       "    <tr>\n",
       "      <th>4</th>\n",
       "      <td>1151206672527962112</td>\n",
       "      <td>NaN</td>\n",
       "      <td>2021-10-24 13:30:41+00:00</td>\n",
       "      <td>{'hashtags': [{'start': 0, 'end': 4, 'tag': 'h...</td>\n",
       "      <td>1452266295106416644</td>\n",
       "      <td>{'retweet_count': 2, 'reply_count': 1, 'like_c...</td>\n",
       "      <td>NaN</td>\n",
       "      <td>#hs2 is little more than a hugely overpriced b...</td>\n",
       "    </tr>\n",
       "    <tr>\n",
       "      <th>5</th>\n",
       "      <td>1255546610966302721</td>\n",
       "      <td>NaN</td>\n",
       "      <td>2021-10-24 14:38:04+00:00</td>\n",
       "      <td>{'hashtags': [{'start': 68, 'end': 75, 'tag': ...</td>\n",
       "      <td>1452283255307350024</td>\n",
       "      <td>{'retweet_count': 8, 'reply_count': 6, 'like_c...</td>\n",
       "      <td>[(type, id)]</td>\n",
       "      <td>Both HS2-related motions have fallen off the a...</td>\n",
       "    </tr>\n",
       "    <tr>\n",
       "      <th>6</th>\n",
       "      <td>122715343</td>\n",
       "      <td>NaN</td>\n",
       "      <td>2021-10-24 18:03:39+00:00</td>\n",
       "      <td>{'hashtags': [{'start': 50, 'end': 54, 'tag': ...</td>\n",
       "      <td>1452334992370147339</td>\n",
       "      <td>{'retweet_count': 4, 'reply_count': 2, 'like_c...</td>\n",
       "      <td>NaN</td>\n",
       "      <td>The Independent says the Toton hub is dead - w...</td>\n",
       "    </tr>\n",
       "    <tr>\n",
       "      <th>7</th>\n",
       "      <td>1310304903471001604</td>\n",
       "      <td>NaN</td>\n",
       "      <td>2021-10-24 17:33:41+00:00</td>\n",
       "      <td>{'mentions': [{'start': 0, 'end': 11, 'usernam...</td>\n",
       "      <td>1452327447685443591</td>\n",
       "      <td>{'retweet_count': 3, 'reply_count': 0, 'like_c...</td>\n",
       "      <td>[(type, id)]</td>\n",
       "      <td>@Greens4HS2 @PaulMBigland @bbcmtd @TheGreenPar...</td>\n",
       "    </tr>\n",
       "    <tr>\n",
       "      <th>8</th>\n",
       "      <td>906082234490290176</td>\n",
       "      <td>NaN</td>\n",
       "      <td>2021-10-24 10:05:05+00:00</td>\n",
       "      <td>{'hashtags': [{'start': 260, 'end': 264, 'tag'...</td>\n",
       "      <td>1452214556550475777</td>\n",
       "      <td>{'retweet_count': 89, 'reply_count': 12, 'like...</td>\n",
       "      <td>NaN</td>\n",
       "      <td>I don't want high speed rail that will save 15...</td>\n",
       "    </tr>\n",
       "  </tbody>\n",
       "</table>\n",
       "</div>"
      ],
      "text/plain": [
       "             author_id                                context_annotations  \\\n",
       "0   723045944644784128  [{'domain': {'id': '67', 'name': 'Interests an...   \n",
       "1            804162745  [{'domain': {'id': '66', 'name': 'Interests an...   \n",
       "2  1255546610966302721                                                NaN   \n",
       "3            270869723  [{'domain': {'id': '45', 'name': 'Brand Vertic...   \n",
       "4  1151206672527962112                                                NaN   \n",
       "5  1255546610966302721                                                NaN   \n",
       "6            122715343                                                NaN   \n",
       "7  1310304903471001604                                                NaN   \n",
       "8   906082234490290176                                                NaN   \n",
       "\n",
       "                 created_at  \\\n",
       "0 2021-10-24 18:25:39+00:00   \n",
       "1 2021-10-24 12:28:45+00:00   \n",
       "2 2021-10-24 16:30:59+00:00   \n",
       "3 2021-10-24 14:01:01+00:00   \n",
       "4 2021-10-24 13:30:41+00:00   \n",
       "5 2021-10-24 14:38:04+00:00   \n",
       "6 2021-10-24 18:03:39+00:00   \n",
       "7 2021-10-24 17:33:41+00:00   \n",
       "8 2021-10-24 10:05:05+00:00   \n",
       "\n",
       "                                            entities                   id  \\\n",
       "0  {'mentions': [{'start': 0, 'end': 11, 'usernam...  1452340526028673046   \n",
       "1  {'hashtags': [{'start': 177, 'end': 181, 'tag'...  1452250710934949907   \n",
       "2  {'hashtags': [{'start': 93, 'end': 100, 'tag':...  1452311669238026248   \n",
       "3  {'hashtags': [{'start': 45, 'end': 54, 'tag': ...  1452273928810991624   \n",
       "4  {'hashtags': [{'start': 0, 'end': 4, 'tag': 'h...  1452266295106416644   \n",
       "5  {'hashtags': [{'start': 68, 'end': 75, 'tag': ...  1452283255307350024   \n",
       "6  {'hashtags': [{'start': 50, 'end': 54, 'tag': ...  1452334992370147339   \n",
       "7  {'mentions': [{'start': 0, 'end': 11, 'usernam...  1452327447685443591   \n",
       "8  {'hashtags': [{'start': 260, 'end': 264, 'tag'...  1452214556550475777   \n",
       "\n",
       "                                      public_metrics referenced_tweets  \\\n",
       "0  {'retweet_count': 0, 'reply_count': 1, 'like_c...      [(type, id)]   \n",
       "1  {'retweet_count': 5, 'reply_count': 1, 'like_c...               NaN   \n",
       "2  {'retweet_count': 12, 'reply_count': 1, 'like_...               NaN   \n",
       "3  {'retweet_count': 4, 'reply_count': 0, 'like_c...               NaN   \n",
       "4  {'retweet_count': 2, 'reply_count': 1, 'like_c...               NaN   \n",
       "5  {'retweet_count': 8, 'reply_count': 6, 'like_c...      [(type, id)]   \n",
       "6  {'retweet_count': 4, 'reply_count': 2, 'like_c...               NaN   \n",
       "7  {'retweet_count': 3, 'reply_count': 0, 'like_c...      [(type, id)]   \n",
       "8  {'retweet_count': 89, 'reply_count': 12, 'like...               NaN   \n",
       "\n",
       "                                                text  \n",
       "0  @EmBeck2015 @sarahb711 @BrentPoland1 @RoadsXR ...  \n",
       "1  Usual bodge. Euston descoped. Eastern leg slow...  \n",
       "2  We're a bit overwhelmed with the number of Gre...  \n",
       "3  This is the charging cable for the first all #...  \n",
       "4  #hs2 is little more than a hugely overpriced b...  \n",
       "5  Both HS2-related motions have fallen off the a...  \n",
       "6  The Independent says the Toton hub is dead - w...  \n",
       "7  @Greens4HS2 @PaulMBigland @bbcmtd @TheGreenPar...  \n",
       "8  I don't want high speed rail that will save 15...  "
      ]
     },
     "execution_count": 23,
     "metadata": {},
     "output_type": "execute_result"
    }
   ],
   "source": [
    "pd.DataFrame(ref_tweet_df)"
   ]
  },
  {
   "cell_type": "markdown",
   "metadata": {},
   "source": [
    "### User Information"
   ]
  },
  {
   "cell_type": "code",
   "execution_count": 70,
   "metadata": {},
   "outputs": [],
   "source": [
    "users_pub_metrics = [\"followers_count\",\"following_count\",\"tweet_count\",\"listed_count\"]\n",
    "\n",
    "for i in users_pub_metrics:\n",
    "    users_df[i] = np.empty((len(users_df), 0)).tolist()\n",
    "    metric_list = []\n",
    "    for j in (users_df['public_metrics']):\n",
    "        metric_list.append(j[i])\n",
    "    users_df[i] = metric_list"
   ]
  },
  {
   "cell_type": "markdown",
   "metadata": {},
   "source": [
    "### Referenced Tweet Information"
   ]
  },
  {
   "cell_type": "code",
   "execution_count": 73,
   "metadata": {},
   "outputs": [],
   "source": [
    "entity_types = {'annotations':'normalized_text', 'cashtags': 'tag', 'hashtags': 'tag', 'mentions': 'username', 'urls': 'url'}\n",
    "for i in entity_types.keys():\n",
    "    ref_tweet_df[i] = np.empty((len(ref_tweet_df), 0)).tolist()\n",
    "    entity_list = []\n",
    "    for j, k in enumerate(ref_tweet_df['entities']):\n",
    "        try:\n",
    "            list_of_dicts = k[i]\n",
    "            entity_list.append([a_dict[entity_types[i]] for a_dict in k[i]])\n",
    "        except KeyError:\n",
    "            entity_list.append([])\n",
    "    ref_tweet_df[i] = entity_list"
   ]
  },
  {
   "cell_type": "code",
   "execution_count": 75,
   "metadata": {},
   "outputs": [],
   "source": [
    "metric_types = [\"retweet_count\", \"reply_count\", \"like_count\", \"quote_count\"]\n",
    "\n",
    "for i in metric_types:\n",
    "    ref_tweet_df[i] = np.empty((len(ref_tweet_df), 0)).tolist()\n",
    "    metric_list = []\n",
    "    for j in (ref_tweet_df['public_metrics']):\n",
    "        metric_list.append(j[i])\n",
    "    ref_tweet_df[i] = metric_list"
   ]
  },
  {
   "cell_type": "code",
   "execution_count": 117,
   "metadata": {},
   "outputs": [],
   "source": [
    "id_list = []\n",
    "for i, j in enumerate(ref_tweet_df['referenced_tweets']):\n",
    "    ref_tweet_df['ref_id'] = np.empty((len(ref_tweet_df), 0)).tolist()\n",
    "    try:\n",
    "        id_list.append(j[0].id)\n",
    "    except TypeError:\n",
    "        id_list.append(0)\n",
    "ref_tweet_df['ref_id'] = id_list"
   ]
  },
  {
   "cell_type": "markdown",
   "metadata": {},
   "source": [
    "### Tweet, User, Geography and Referenced Tweet Information Merged"
   ]
  },
  {
   "cell_type": "code",
   "execution_count": 126,
   "metadata": {},
   "outputs": [],
   "source": [
    "tweets_users_df = tweets_df.merge(users_df, left_on = 'Author ID:', right_on = 'id')\n",
    "tweets_users_data = tweets_users_df.drop(columns = ['Auto Context Annotations', 'Entities', 'Metrics', 'public_metrics', 'id'])"
   ]
  },
  {
   "cell_type": "markdown",
   "metadata": {},
   "source": [
    "### Text Preprocessing"
   ]
  },
  {
   "cell_type": "code",
   "execution_count": 152,
   "metadata": {},
   "outputs": [],
   "source": [
    "stop_words = stopwords.words('english')\n",
    "other_words = ['rt']\n",
    "stop_words.extend(other_words)\n",
    "tokenizer = RegexpTokenizer(r'\\w+')"
   ]
  },
  {
   "cell_type": "code",
   "execution_count": 155,
   "metadata": {},
   "outputs": [],
   "source": [
    "def deEmojify(text):\n",
    "    regrex_pattern = re.compile(pattern = \"[\"\n",
    "                                u\"\\U0001F1E0-\\U0001F1FF\"  # flags (iOS)\n",
    "                                u\"\\U0001F300-\\U0001F5FF\"  # symbols & pictographs\n",
    "                                u\"\\U0001F600-\\U0001F64F\"  # emoticons\n",
    "                                u\"\\U0001F680-\\U0001F6FF\"  # transport & map symbols\n",
    "                                u\"\\U0001F700-\\U0001F77F\"  # alchemical symbols\n",
    "                                u\"\\U0001F780-\\U0001F7FF\"  # Geometric Shapes Extended\n",
    "                                u\"\\U0001F800-\\U0001F8FF\"  # Supplemental Arrows-C\n",
    "                                u\"\\U0001F900-\\U0001F9FF\"  # Supplemental Symbols and Pictographs\n",
    "                                u\"\\U0001FA00-\\U0001FA6F\"  # Chess Symbols\n",
    "                                u\"\\U0001FA70-\\U0001FAFF\"  # Symbols and Pictographs Extended-A\n",
    "                                u\"\\U00002702-\\U000027B0\"  # Dingbats\n",
    "                                u\"\\U000024C2-\\U0001F251\" \n",
    "                                \"]+\" , flags = re.UNICODE)\n",
    "    return regrex_pattern.sub(r'', text)"
   ]
  },
  {
   "cell_type": "code",
   "execution_count": 165,
   "metadata": {},
   "outputs": [],
   "source": [
    "def preprocessing_tweets(tweets):\n",
    "    processed_tweets = []\n",
    "    for i in tweets:\n",
    "\n",
    "        #removing all emojis\n",
    "        deemojified = deEmojify(i)\n",
    "        \n",
    "        # splitting with spaces\n",
    "        tokenized = deemojified.split()\n",
    "        each_tweet = []\n",
    "        for i in tokenized:\n",
    "            #lowercase all words\n",
    "            lowered = i.lower()\n",
    "            \n",
    "            #removing all non-word characters\n",
    "            lowered = re.sub('[^\\w\\@\\']', '', lowered)\n",
    "            \n",
    "            #remove all links, stopwords and retweet handles\n",
    "            # lemmatize all values\n",
    "            if not('http' in lowered) and not(lowered in stop_words) and not('@' in lowered) and not ('nauguration' in lowered):\n",
    "                each_tweet.append(Word(lowered).lemmatize())\n",
    "                \n",
    "        processed_tweets.append(\" \".join(each_tweet))\n",
    "    return(processed_tweets)\n",
    "\n",
    "def hashtag(tweets):\n",
    "    hashtags = [re.sub('#', '', j) for i in tweets for j in i.split() if (('#' in j) and ('HS2' not in j) and ('hs2' not in j))]\n",
    "    return(hashtags)"
   ]
  },
  {
   "cell_type": "code",
   "execution_count": 168,
   "metadata": {},
   "outputs": [],
   "source": [
    "polarity = []\n",
    "subjectivity = []\n",
    "for i in preprocessing_tweets(list(tweets_df['Tweet:'])):\n",
    "    polarity.append(TextBlob(i).sentiment[0])\n",
    "    subjectivity.append(TextBlob(i).sentiment[1])"
   ]
  },
  {
   "cell_type": "code",
   "execution_count": 171,
   "metadata": {},
   "outputs": [
    {
     "name": "stdout",
     "output_type": "stream",
     "text": [
      "Polarity of Hashtags: 0.0\n",
      "Subjectivity of Hashtags: 0.0\n"
     ]
    }
   ],
   "source": [
    "hashtag_polarity = np.mean([TextBlob(i).sentiment[0] for i in hashtag(list(tweets_df['Tweet:']))])\n",
    "hashtag_subjectivity = np.mean([TextBlob(i).sentiment[1] for i in hashtag(list(tweets_df['Tweet:']))])\n",
    "\n",
    "print(\"Polarity of Hashtags: \" + str(round(hashtag_polarity, 4)))\n",
    "print(\"Subjectivity of Hashtags: \" + str(round(hashtag_subjectivity,4)))"
   ]
  },
  {
   "cell_type": "code",
   "execution_count": null,
   "metadata": {},
   "outputs": [],
   "source": [
    "# Polarity of 1 means positive, -1 means negative\n",
    "# Subjectivity of 1 means very subjective, 0 means non-subjective\n",
    "\n",
    "polarity = []\n",
    "subjectivity = []\n",
    "for i in preprocessing_tweets(list(tweets_df['Tweet:'])):\n",
    "    polarity.append(TextBlob(i).sentiment[0])\n",
    "    subjectivity.append(TextBlob(i).sentiment[1])\n",
    "\n",
    "hashtag_polarity = np.mean([TextBlob(i).sentiment[0] for i in hashtag(tweets)])\n",
    "hashtag_subjectivity = np.mean([TextBlob(i).sentiment[1] for i in hashtag(tweets)])\n",
    "\n",
    "print(\"Polarity of Hashtags: \" + str(round(hashtag_polarity, 4)))\n",
    "print(\"Subjectivity of Hashtags: \" + str(round(hashtag_subjectivity,4)))"
   ]
  },
  {
   "cell_type": "code",
   "execution_count": 177,
   "metadata": {},
   "outputs": [
    {
     "data": {
      "text/html": [
       "\n",
       "    <div class=\"bk-root\">\n",
       "        <a href=\"https://bokeh.org\" target=\"_blank\" class=\"bk-logo bk-logo-small bk-logo-notebook\"></a>\n",
       "        <span id=\"1149\">Loading BokehJS ...</span>\n",
       "    </div>"
      ]
     },
     "metadata": {},
     "output_type": "display_data"
    },
    {
     "data": {
      "application/javascript": "\n(function(root) {\n  function now() {\n    return new Date();\n  }\n\n  var force = true;\n\n  if (typeof root._bokeh_onload_callbacks === \"undefined\" || force === true) {\n    root._bokeh_onload_callbacks = [];\n    root._bokeh_is_loading = undefined;\n  }\n\n  var JS_MIME_TYPE = 'application/javascript';\n  var HTML_MIME_TYPE = 'text/html';\n  var EXEC_MIME_TYPE = 'application/vnd.bokehjs_exec.v0+json';\n  var CLASS_NAME = 'output_bokeh rendered_html';\n\n  /**\n   * Render data to the DOM node\n   */\n  function render(props, node) {\n    var script = document.createElement(\"script\");\n    node.appendChild(script);\n  }\n\n  /**\n   * Handle when an output is cleared or removed\n   */\n  function handleClearOutput(event, handle) {\n    var cell = handle.cell;\n\n    var id = cell.output_area._bokeh_element_id;\n    var server_id = cell.output_area._bokeh_server_id;\n    // Clean up Bokeh references\n    if (id != null && id in Bokeh.index) {\n      Bokeh.index[id].model.document.clear();\n      delete Bokeh.index[id];\n    }\n\n    if (server_id !== undefined) {\n      // Clean up Bokeh references\n      var cmd = \"from bokeh.io.state import curstate; print(curstate().uuid_to_server['\" + server_id + \"'].get_sessions()[0].document.roots[0]._id)\";\n      cell.notebook.kernel.execute(cmd, {\n        iopub: {\n          output: function(msg) {\n            var id = msg.content.text.trim();\n            if (id in Bokeh.index) {\n              Bokeh.index[id].model.document.clear();\n              delete Bokeh.index[id];\n            }\n          }\n        }\n      });\n      // Destroy server and session\n      var cmd = \"import bokeh.io.notebook as ion; ion.destroy_server('\" + server_id + \"')\";\n      cell.notebook.kernel.execute(cmd);\n    }\n  }\n\n  /**\n   * Handle when a new output is added\n   */\n  function handleAddOutput(event, handle) {\n    var output_area = handle.output_area;\n    var output = handle.output;\n\n    // limit handleAddOutput to display_data with EXEC_MIME_TYPE content only\n    if ((output.output_type != \"display_data\") || (!output.data.hasOwnProperty(EXEC_MIME_TYPE))) {\n      return\n    }\n\n    var toinsert = output_area.element.find(\".\" + CLASS_NAME.split(' ')[0]);\n\n    if (output.metadata[EXEC_MIME_TYPE][\"id\"] !== undefined) {\n      toinsert[toinsert.length - 1].firstChild.textContent = output.data[JS_MIME_TYPE];\n      // store reference to embed id on output_area\n      output_area._bokeh_element_id = output.metadata[EXEC_MIME_TYPE][\"id\"];\n    }\n    if (output.metadata[EXEC_MIME_TYPE][\"server_id\"] !== undefined) {\n      var bk_div = document.createElement(\"div\");\n      bk_div.innerHTML = output.data[HTML_MIME_TYPE];\n      var script_attrs = bk_div.children[0].attributes;\n      for (var i = 0; i < script_attrs.length; i++) {\n        toinsert[toinsert.length - 1].firstChild.setAttribute(script_attrs[i].name, script_attrs[i].value);\n      }\n      // store reference to server id on output_area\n      output_area._bokeh_server_id = output.metadata[EXEC_MIME_TYPE][\"server_id\"];\n    }\n  }\n\n  function register_renderer(events, OutputArea) {\n\n    function append_mime(data, metadata, element) {\n      // create a DOM node to render to\n      var toinsert = this.create_output_subarea(\n        metadata,\n        CLASS_NAME,\n        EXEC_MIME_TYPE\n      );\n      this.keyboard_manager.register_events(toinsert);\n      // Render to node\n      var props = {data: data, metadata: metadata[EXEC_MIME_TYPE]};\n      render(props, toinsert[toinsert.length - 1]);\n      element.append(toinsert);\n      return toinsert\n    }\n\n    /* Handle when an output is cleared or removed */\n    events.on('clear_output.CodeCell', handleClearOutput);\n    events.on('delete.Cell', handleClearOutput);\n\n    /* Handle when a new output is added */\n    events.on('output_added.OutputArea', handleAddOutput);\n\n    /**\n     * Register the mime type and append_mime function with output_area\n     */\n    OutputArea.prototype.register_mime_type(EXEC_MIME_TYPE, append_mime, {\n      /* Is output safe? */\n      safe: true,\n      /* Index of renderer in `output_area.display_order` */\n      index: 0\n    });\n  }\n\n  // register the mime type if in Jupyter Notebook environment and previously unregistered\n  if (root.Jupyter !== undefined) {\n    var events = require('base/js/events');\n    var OutputArea = require('notebook/js/outputarea').OutputArea;\n\n    if (OutputArea.prototype.mime_types().indexOf(EXEC_MIME_TYPE) == -1) {\n      register_renderer(events, OutputArea);\n    }\n  }\n\n  \n  if (typeof (root._bokeh_timeout) === \"undefined\" || force === true) {\n    root._bokeh_timeout = Date.now() + 5000;\n    root._bokeh_failed_load = false;\n  }\n\n  var NB_LOAD_WARNING = {'data': {'text/html':\n     \"<div style='background-color: #fdd'>\\n\"+\n     \"<p>\\n\"+\n     \"BokehJS does not appear to have successfully loaded. If loading BokehJS from CDN, this \\n\"+\n     \"may be due to a slow or bad network connection. Possible fixes:\\n\"+\n     \"</p>\\n\"+\n     \"<ul>\\n\"+\n     \"<li>re-rerun `output_notebook()` to attempt to load from CDN again, or</li>\\n\"+\n     \"<li>use INLINE resources instead, as so:</li>\\n\"+\n     \"</ul>\\n\"+\n     \"<code>\\n\"+\n     \"from bokeh.resources import INLINE\\n\"+\n     \"output_notebook(resources=INLINE)\\n\"+\n     \"</code>\\n\"+\n     \"</div>\"}};\n\n  function display_loaded() {\n    var el = document.getElementById(\"1149\");\n    if (el != null) {\n      el.textContent = \"BokehJS is loading...\";\n    }\n    if (root.Bokeh !== undefined) {\n      if (el != null) {\n        el.textContent = \"BokehJS \" + root.Bokeh.version + \" successfully loaded.\";\n      }\n    } else if (Date.now() < root._bokeh_timeout) {\n      setTimeout(display_loaded, 100)\n    }\n  }\n\n\n  function run_callbacks() {\n    try {\n      root._bokeh_onload_callbacks.forEach(function(callback) {\n        if (callback != null)\n          callback();\n      });\n    } finally {\n      delete root._bokeh_onload_callbacks\n    }\n    console.debug(\"Bokeh: all callbacks have finished\");\n  }\n\n  function load_libs(css_urls, js_urls, callback) {\n    if (css_urls == null) css_urls = [];\n    if (js_urls == null) js_urls = [];\n\n    root._bokeh_onload_callbacks.push(callback);\n    if (root._bokeh_is_loading > 0) {\n      console.debug(\"Bokeh: BokehJS is being loaded, scheduling callback at\", now());\n      return null;\n    }\n    if (js_urls == null || js_urls.length === 0) {\n      run_callbacks();\n      return null;\n    }\n    console.debug(\"Bokeh: BokehJS not loaded, scheduling load and callback at\", now());\n    root._bokeh_is_loading = css_urls.length + js_urls.length;\n\n    function on_load() {\n      root._bokeh_is_loading--;\n      if (root._bokeh_is_loading === 0) {\n        console.debug(\"Bokeh: all BokehJS libraries/stylesheets loaded\");\n        run_callbacks()\n      }\n    }\n\n    function on_error() {\n      console.error(\"failed to load \" + url);\n    }\n\n    for (var i = 0; i < css_urls.length; i++) {\n      var url = css_urls[i];\n      const element = document.createElement(\"link\");\n      element.onload = on_load;\n      element.onerror = on_error;\n      element.rel = \"stylesheet\";\n      element.type = \"text/css\";\n      element.href = url;\n      console.debug(\"Bokeh: injecting link tag for BokehJS stylesheet: \", url);\n      document.body.appendChild(element);\n    }\n\n    for (var i = 0; i < js_urls.length; i++) {\n      var url = js_urls[i];\n      var element = document.createElement('script');\n      element.onload = on_load;\n      element.onerror = on_error;\n      element.async = false;\n      element.src = url;\n      console.debug(\"Bokeh: injecting script tag for BokehJS library: \", url);\n      document.head.appendChild(element);\n    }\n  };var element = document.getElementById(\"1149\");\n  if (element == null) {\n    console.error(\"Bokeh: ERROR: autoload.js configured with elementid '1149' but no matching script tag was found. \")\n    return false;\n  }\n\n  function inject_raw_css(css) {\n    const element = document.createElement(\"style\");\n    element.appendChild(document.createTextNode(css));\n    document.body.appendChild(element);\n  }\n\n  \n  var js_urls = [\"https://cdn.pydata.org/bokeh/release/bokeh-1.4.0.min.js\", \"https://cdn.pydata.org/bokeh/release/bokeh-widgets-1.4.0.min.js\", \"https://cdn.pydata.org/bokeh/release/bokeh-tables-1.4.0.min.js\", \"https://cdn.pydata.org/bokeh/release/bokeh-gl-1.4.0.min.js\"];\n  var css_urls = [];\n  \n\n  var inline_js = [\n    function(Bokeh) {\n      Bokeh.set_log_level(\"info\");\n    },\n    function(Bokeh) {\n    \n    \n    }\n  ];\n\n  function run_inline_js() {\n    \n    if (root.Bokeh !== undefined || force === true) {\n      \n    for (var i = 0; i < inline_js.length; i++) {\n      inline_js[i].call(root, root.Bokeh);\n    }\n    if (force === true) {\n        display_loaded();\n      }} else if (Date.now() < root._bokeh_timeout) {\n      setTimeout(run_inline_js, 100);\n    } else if (!root._bokeh_failed_load) {\n      console.log(\"Bokeh: BokehJS failed to load within specified timeout.\");\n      root._bokeh_failed_load = true;\n    } else if (force !== true) {\n      var cell = $(document.getElementById(\"1149\")).parents('.cell').data().cell;\n      cell.output_area.append_execute_result(NB_LOAD_WARNING)\n    }\n\n  }\n\n  if (root._bokeh_is_loading === 0) {\n    console.debug(\"Bokeh: BokehJS loaded, going straight to plotting\");\n    run_inline_js();\n  } else {\n    load_libs(css_urls, js_urls, function() {\n      console.debug(\"Bokeh: BokehJS plotting callback run at\", now());\n      run_inline_js();\n    });\n  }\n}(window));",
      "application/vnd.bokehjs_load.v0+json": ""
     },
     "metadata": {},
     "output_type": "display_data"
    },
    {
     "data": {
      "text/html": [
       "\n",
       "\n",
       "\n",
       "\n",
       "\n",
       "\n",
       "  <div class=\"bk-root\" id=\"c927e714-d125-4138-ac0f-d53cbb223db6\" data-root-id=\"1150\"></div>\n"
      ]
     },
     "metadata": {},
     "output_type": "display_data"
    },
    {
     "data": {
      "application/javascript": "(function(root) {\n  function embed_document(root) {\n    \n  var docs_json = {\"7038bd74-af43-4a3f-b52a-45d80aa712a5\":{\"roots\":{\"references\":[{\"attributes\":{\"below\":[{\"id\":\"1159\",\"type\":\"LinearAxis\"}],\"center\":[{\"id\":\"1163\",\"type\":\"Grid\"},{\"id\":\"1168\",\"type\":\"Grid\"}],\"left\":[{\"id\":\"1164\",\"type\":\"LinearAxis\"}],\"plot_height\":300,\"plot_width\":500,\"renderers\":[{\"id\":\"1185\",\"type\":\"GlyphRenderer\"}],\"title\":{\"id\":\"1189\",\"type\":\"Title\"},\"toolbar\":{\"id\":\"1175\",\"type\":\"Toolbar\"},\"x_range\":{\"id\":\"1151\",\"type\":\"DataRange1d\"},\"x_scale\":{\"id\":\"1155\",\"type\":\"LinearScale\"},\"y_range\":{\"id\":\"1153\",\"type\":\"DataRange1d\"},\"y_scale\":{\"id\":\"1157\",\"type\":\"LinearScale\"}},\"id\":\"1150\",\"subtype\":\"Figure\",\"type\":\"Plot\"},{\"attributes\":{},\"id\":\"1165\",\"type\":\"BasicTicker\"},{\"attributes\":{},\"id\":\"1174\",\"type\":\"HelpTool\"},{\"attributes\":{\"dimension\":1,\"ticker\":{\"id\":\"1165\",\"type\":\"BasicTicker\"}},\"id\":\"1168\",\"type\":\"Grid\"},{\"attributes\":{\"source\":{\"id\":\"1182\",\"type\":\"ColumnDataSource\"}},\"id\":\"1186\",\"type\":\"CDSView\"},{\"attributes\":{\"callback\":null,\"data\":{\"x\":[-0.010714285714285718,0.0,0.0,0.0,0.24,1.0,0.1380952380952381,-0.010714285714285718,0.275,0.0],\"y\":[0.5928571428571429,0.0,0.0,0.0,0.4553846153846154,1.0,0.4089285714285714,0.5928571428571429,0.41250000000000003,0.0]},\"selected\":{\"id\":\"1195\",\"type\":\"Selection\"},\"selection_policy\":{\"id\":\"1196\",\"type\":\"UnionRenderers\"}},\"id\":\"1182\",\"type\":\"ColumnDataSource\"},{\"attributes\":{\"fill_alpha\":{\"value\":0.1},\"fill_color\":{\"value\":\"#1f77b4\"},\"line_alpha\":{\"value\":0.1},\"line_color\":{\"value\":\"#1f77b4\"},\"size\":{\"units\":\"screen\",\"value\":5},\"x\":{\"field\":\"x\"},\"y\":{\"field\":\"y\"}},\"id\":\"1184\",\"type\":\"Circle\"},{\"attributes\":{},\"id\":\"1170\",\"type\":\"WheelZoomTool\"},{\"attributes\":{},\"id\":\"1157\",\"type\":\"LinearScale\"},{\"attributes\":{\"active_drag\":\"auto\",\"active_inspect\":\"auto\",\"active_multi\":null,\"active_scroll\":\"auto\",\"active_tap\":\"auto\",\"tools\":[{\"id\":\"1169\",\"type\":\"PanTool\"},{\"id\":\"1170\",\"type\":\"WheelZoomTool\"},{\"id\":\"1171\",\"type\":\"BoxZoomTool\"},{\"id\":\"1172\",\"type\":\"SaveTool\"},{\"id\":\"1173\",\"type\":\"ResetTool\"},{\"id\":\"1174\",\"type\":\"HelpTool\"},{\"id\":\"1187\",\"type\":\"HoverTool\"}]},\"id\":\"1175\",\"type\":\"Toolbar\"},{\"attributes\":{},\"id\":\"1169\",\"type\":\"PanTool\"},{\"attributes\":{},\"id\":\"1195\",\"type\":\"Selection\"},{\"attributes\":{\"bottom_units\":\"screen\",\"fill_alpha\":{\"value\":0.5},\"fill_color\":{\"value\":\"lightgrey\"},\"left_units\":\"screen\",\"level\":\"overlay\",\"line_alpha\":{\"value\":1.0},\"line_color\":{\"value\":\"black\"},\"line_dash\":[4,4],\"line_width\":{\"value\":2},\"render_mode\":\"css\",\"right_units\":\"screen\",\"top_units\":\"screen\"},\"id\":\"1197\",\"type\":\"BoxAnnotation\"},{\"attributes\":{},\"id\":\"1196\",\"type\":\"UnionRenderers\"},{\"attributes\":{\"overlay\":{\"id\":\"1197\",\"type\":\"BoxAnnotation\"}},\"id\":\"1171\",\"type\":\"BoxZoomTool\"},{\"attributes\":{\"text\":\"\"},\"id\":\"1189\",\"type\":\"Title\"},{\"attributes\":{\"axis_label\":\"Polarity\",\"formatter\":{\"id\":\"1192\",\"type\":\"BasicTickFormatter\"},\"ticker\":{\"id\":\"1160\",\"type\":\"BasicTicker\"}},\"id\":\"1159\",\"type\":\"LinearAxis\"},{\"attributes\":{},\"id\":\"1172\",\"type\":\"SaveTool\"},{\"attributes\":{},\"id\":\"1194\",\"type\":\"BasicTickFormatter\"},{\"attributes\":{},\"id\":\"1173\",\"type\":\"ResetTool\"},{\"attributes\":{},\"id\":\"1192\",\"type\":\"BasicTickFormatter\"},{\"attributes\":{\"ticker\":{\"id\":\"1160\",\"type\":\"BasicTicker\"}},\"id\":\"1163\",\"type\":\"Grid\"},{\"attributes\":{\"data_source\":{\"id\":\"1182\",\"type\":\"ColumnDataSource\"},\"glyph\":{\"id\":\"1183\",\"type\":\"Circle\"},\"hover_glyph\":null,\"muted_glyph\":null,\"nonselection_glyph\":{\"id\":\"1184\",\"type\":\"Circle\"},\"selection_glyph\":null,\"view\":{\"id\":\"1186\",\"type\":\"CDSView\"}},\"id\":\"1185\",\"type\":\"GlyphRenderer\"},{\"attributes\":{},\"id\":\"1160\",\"type\":\"BasicTicker\"},{\"attributes\":{\"callback\":null},\"id\":\"1151\",\"type\":\"DataRange1d\"},{\"attributes\":{\"callback\":null},\"id\":\"1187\",\"type\":\"HoverTool\"},{\"attributes\":{},\"id\":\"1155\",\"type\":\"LinearScale\"},{\"attributes\":{\"callback\":null},\"id\":\"1153\",\"type\":\"DataRange1d\"},{\"attributes\":{\"fill_alpha\":{\"value\":0.5},\"line_color\":{\"value\":\"navy\"},\"size\":{\"units\":\"screen\",\"value\":5},\"x\":{\"field\":\"x\"},\"y\":{\"field\":\"y\"}},\"id\":\"1183\",\"type\":\"Circle\"},{\"attributes\":{\"axis_label\":\"Subjectivity\",\"formatter\":{\"id\":\"1194\",\"type\":\"BasicTickFormatter\"},\"ticker\":{\"id\":\"1165\",\"type\":\"BasicTicker\"}},\"id\":\"1164\",\"type\":\"LinearAxis\"}],\"root_ids\":[\"1150\"]},\"title\":\"Bokeh Application\",\"version\":\"1.4.0\"}};\n  var render_items = [{\"docid\":\"7038bd74-af43-4a3f-b52a-45d80aa712a5\",\"roots\":{\"1150\":\"c927e714-d125-4138-ac0f-d53cbb223db6\"}}];\n  root.Bokeh.embed.embed_items_notebook(docs_json, render_items);\n\n  }\n  if (root.Bokeh !== undefined) {\n    embed_document(root);\n  } else {\n    var attempts = 0;\n    var timer = setInterval(function(root) {\n      if (root.Bokeh !== undefined) {\n        clearInterval(timer);\n        embed_document(root);\n      } else {\n        attempts++;\n        if (attempts > 100) {\n          clearInterval(timer);\n          console.log(\"Bokeh: ERROR: Unable to run BokehJS code because BokehJS library is missing\");\n        }\n      }\n    }, 10, root)\n  }\n})(window);",
      "application/vnd.bokehjs_exec.v0+json": ""
     },
     "metadata": {
      "application/vnd.bokehjs_exec.v0+json": {
       "id": "1150"
      }
     },
     "output_type": "display_data"
    }
   ],
   "source": [
    "output_notebook()\n",
    "\n",
    "x_scatter = polarity\n",
    "y_scatter = subjectivity\n",
    "\n",
    "# plot \n",
    "scatter_plot = figure(plot_width=500, plot_height=300, x_axis_label='Polarity', y_axis_label='Subjectivity')\n",
    "scatter_plot.circle(x_scatter, y_scatter, size=5, line_color='navy', fill_color='gray', fill_alpha=0.5)\n",
    "scatter_plot.add_tools(HoverTool())\n",
    "show(scatter_plot)"
   ]
  },
  {
   "cell_type": "code",
   "execution_count": 1,
   "metadata": {},
   "outputs": [
    {
     "ename": "NameError",
     "evalue": "name 'preprocessing_tweets' is not defined",
     "output_type": "error",
     "traceback": [
      "\u001b[1;31m---------------------------------------------------------------------------\u001b[0m",
      "\u001b[1;31mNameError\u001b[0m                                 Traceback (most recent call last)",
      "\u001b[1;32m<ipython-input-1-b45ec131e2c7>\u001b[0m in \u001b[0;36m<module>\u001b[1;34m\u001b[0m\n\u001b[0;32m      1\u001b[0m \u001b[0mwords\u001b[0m \u001b[1;33m=\u001b[0m \u001b[1;33m[\u001b[0m\u001b[1;33m]\u001b[0m\u001b[1;33m\u001b[0m\u001b[1;33m\u001b[0m\u001b[0m\n\u001b[1;32m----> 2\u001b[1;33m \u001b[1;32mfor\u001b[0m \u001b[0mi\u001b[0m \u001b[1;32min\u001b[0m \u001b[0mpreprocessing_tweets\u001b[0m\u001b[1;33m(\u001b[0m\u001b[0mtweets\u001b[0m\u001b[1;33m)\u001b[0m\u001b[1;33m:\u001b[0m\u001b[1;33m\u001b[0m\u001b[1;33m\u001b[0m\u001b[0m\n\u001b[0m\u001b[0;32m      3\u001b[0m     \u001b[0mwords\u001b[0m\u001b[1;33m.\u001b[0m\u001b[0mextend\u001b[0m\u001b[1;33m(\u001b[0m\u001b[0mi\u001b[0m\u001b[1;33m.\u001b[0m\u001b[0msplit\u001b[0m\u001b[1;33m(\u001b[0m\u001b[1;33m)\u001b[0m\u001b[1;33m)\u001b[0m\u001b[1;33m\u001b[0m\u001b[1;33m\u001b[0m\u001b[0m\n\u001b[0;32m      4\u001b[0m \u001b[1;33m\u001b[0m\u001b[0m\n\u001b[0;32m      5\u001b[0m \u001b[0mwords_df\u001b[0m \u001b[1;33m=\u001b[0m \u001b[0mpd\u001b[0m\u001b[1;33m.\u001b[0m\u001b[0mDataFrame\u001b[0m\u001b[1;33m(\u001b[0m\u001b[1;33m)\u001b[0m\u001b[1;33m\u001b[0m\u001b[1;33m\u001b[0m\u001b[0m\n",
      "\u001b[1;31mNameError\u001b[0m: name 'preprocessing_tweets' is not defined"
     ]
    }
   ],
   "source": [
    "words = []\n",
    "for i in preprocessing_tweets(tweets):\n",
    "    words.extend(i.split())\n",
    "    \n",
    "words_df = pd.DataFrame()\n",
    "words_df['word'] = list(dict(Counter(words)).keys())\n",
    "words_df['count'] = list(dict(Counter(words)).values())\n",
    "words_df = words_df.sort_values(by=['count'], ascending = False)"
   ]
  },
  {
   "cell_type": "code",
   "execution_count": 132,
   "metadata": {},
   "outputs": [
    {
     "data": {
      "text/plain": [
       "'RT @Greens4HS2: What a day at #GPConf! 🎉\\n\\nIt was great to see (and actually speak to!) so many open-minded Greens who listened to the argum…'"
      ]
     },
     "execution_count": 132,
     "metadata": {},
     "output_type": "execute_result"
    }
   ],
   "source": [
    "p = figure(x_range=list(words_df.head(30)['word']), plot_height=350)\n",
    "\n",
    "p.vbar(x =words_df['word'].head(30), top=words_df['count'].head(30), \\\n",
    "       width=0.9, line_color='white', \\\n",
    "       fill_color = random.sample(Plasma256,30))\n",
    "\n",
    "p.xaxis.major_label_orientation = \"vertical\"\n",
    "p.add_tools(HoverTool())\n",
    "p.y_range=Range1d(0, 170)\n",
    "p.title.text=\"Word Counts\"\n",
    "p.title.text_font_size = \"25px\"\n",
    "p.title.align = 'center'\n",
    "p.xaxis.axis_label = 'Word'\n",
    "p.yaxis.axis_label = 'Count'\n",
    "\n",
    "show(p)"
   ]
  },
  {
   "cell_type": "markdown",
   "metadata": {},
   "source": [
    "# Resources\n",
    "https://dev.to/twitterdev/a-comprehensive-guide-for-using-the-twitter-api-v2-using-tweepy-in-python-15d9"
   ]
  }
 ],
 "metadata": {
  "interpreter": {
   "hash": "b3ba2566441a7c06988d0923437866b63cedc61552a5af99d1f4fb67d367b25f"
  },
  "kernelspec": {
   "display_name": "Python 3.7.6 64-bit ('base': conda)",
   "name": "python3"
  },
  "language_info": {
   "codemirror_mode": {
    "name": "ipython",
    "version": 3
   },
   "file_extension": ".py",
   "mimetype": "text/x-python",
   "name": "python",
   "nbconvert_exporter": "python",
   "pygments_lexer": "ipython3",
   "version": "3.7.6"
  },
  "orig_nbformat": 4
 },
 "nbformat": 4,
 "nbformat_minor": 2
}
