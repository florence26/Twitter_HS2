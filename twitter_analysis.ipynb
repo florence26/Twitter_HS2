{
 "cells": [
  {
   "cell_type": "markdown",
   "metadata": {},
   "source": [
    "# HS2 Tweets\n",
    "### Importing Packages"
   ]
  },
  {
   "cell_type": "code",
   "execution_count": 222,
   "metadata": {},
   "outputs": [],
   "source": [
    "import tweepy as tw\n",
    "import pprint\n",
    "import numpy as np\n",
    "import nltk\n",
    "import bokeh\n",
    "import pandas as pd\n",
    "import matplotlib.pyplot as plt\n",
    "import seaborn as sns\n",
    "import random\n",
    "\n",
    "from collections import Counter\n",
    "\n",
    "from wordcloud import WordCloud\n",
    "\n",
    "from bokeh.io import output_notebook, show, reset_output\n",
    "from bokeh.plotting import figure\n",
    "from bokeh.models import HoverTool\n",
    "from bokeh.models import ColumnDataSource\n",
    "from bokeh.palettes import Plasma256\n",
    "from bokeh.models import Range1d\n",
    "\n",
    "from nltk.corpus import stopwords\n",
    "from nltk.stem import WordNetLemmatizer\n",
    "from nltk.tokenize import RegexpTokenizer\n",
    "from nltk.tokenize import word_tokenize\n",
    "\n",
    "from textblob import Word, TextBlob"
   ]
  },
  {
   "cell_type": "markdown",
   "metadata": {},
   "source": [
    "### Twitter API Access & Set-Up"
   ]
  },
  {
   "cell_type": "code",
   "execution_count": 223,
   "metadata": {},
   "outputs": [],
   "source": [
    "file = open(r\"C:\\Users\\yeungf8452\\OneDrive - ARCADIS\\HS2 (Data Science)\\HS2 Twitter\\twitter_api.txt\", \"r\").readlines()\n",
    "\n",
    "api = file[0].strip('\\n')\n",
    "api_secret = file[1].strip('\\n')\n",
    "bearer_token = file[2].strip('\\n')\n",
    "access_token = file[3].strip('\\n')\n",
    "access_token_secret = file[4].strip('\\n')"
   ]
  },
  {
   "cell_type": "code",
   "execution_count": 224,
   "metadata": {},
   "outputs": [],
   "source": [
    "auth = tw.OAuthHandler(api, api_secret)\n",
    "auth.set_access_token(access_token, access_token_secret)\n",
    "api_app = tw.API(auth, wait_on_rate_limit = True)"
   ]
  },
  {
   "cell_type": "markdown",
   "metadata": {},
   "source": [
    "### Query"
   ]
  },
  {
   "cell_type": "code",
   "execution_count": 460,
   "metadata": {},
   "outputs": [],
   "source": [
    "client = tw.Client(bearer_token)\n",
    "\n",
    "hashtag = \"HS2 OR hs2 lang:en\"\n",
    "tweet_fields=['context_annotations', 'created_at', 'entities', 'geo', 'public_metrics']\n",
    "user_fields = ['location', 'public_metrics']\n",
    "# user fields: https://developer.twitter.com/en/docs/twitter-api/data-dictionary/object-model/user\n",
    "expansions=['geo.place_id', 'author_id']\n",
    "place_fields=['name', 'geo']\n",
    "max_results = 10\n",
    "# place fields: https://developer.twitter.com/en/docs/twitter-api/data-dictionary/object-model/place\n",
    "\n",
    "# For search options: https://developer.twitter.com/en/docs/twitter-api/tweets/search/integrate/build-a-query\n",
    "# Only can use operators that are \"core\"\n",
    "# More examples: https://github.com/twitterdev/getting-started-with-the-twitter-api-v2-for-academic-research/blob/main/modules/5-how-to-write-search-queries.md\n",
    "\n",
    "# Use pagination if need more than 100 tweets\n",
    "# query = tw.Paginator(client.search_recent_tweets, \"HS2\", max_results=10, limit=3)\n",
    "# Use .flatten when looking through data if using paginator\n",
    "# https://docs.tweepy.org/en/stable/pagination.html\n",
    "# https://developer.twitter.com/en/docs/twitter-api/pagination\n",
    "\n",
    "query = client.search_recent_tweets(query=hashtag, tweet_fields = tweet_fields, user_fields = user_fields, expansions = expansions, place_fields = place_fields, max_results=max_results)\n",
    "\n",
    "# fields are necessary in queries to get details"
   ]
  },
  {
   "cell_type": "code",
   "execution_count": 461,
   "metadata": {},
   "outputs": [],
   "source": [
    "tweets = [{'Author ID:' : tweet.author_id, 'Tweet:' : tweet.text, 'Time Created': tweet.created_at, 'Tweet_ID': tweet.id, 'Auto Context Annotations':tweet.context_annotations, 'Entities': tweet.entities, \n",
    "'Location':tweet.geo, 'Metrics':tweet.public_metrics} for tweet in query.data]\n",
    "\n",
    "tweets_df = pd.DataFrame(tweets)"
   ]
  },
  {
   "cell_type": "code",
   "execution_count": 467,
   "metadata": {},
   "outputs": [],
   "source": [
    "tweets_df_copy = tweets_df.copy()"
   ]
  },
  {
   "cell_type": "code",
   "execution_count": 403,
   "metadata": {},
   "outputs": [
    {
     "data": {
      "text/plain": [
       "[{'domain': {'id': '10',\n",
       "   'name': 'Person',\n",
       "   'description': 'Named people in the world like Nelson Mandela'},\n",
       "  'entity': {'id': '1070735198331912192',\n",
       "   'name': 'Jim McMahon',\n",
       "   'description': 'British Labour Party politician'}},\n",
       " {'domain': {'id': '35',\n",
       "   'name': 'Politician',\n",
       "   'description': 'Politicians in the world, like Joe Biden'},\n",
       "  'entity': {'id': '1070735198331912192',\n",
       "   'name': 'Jim McMahon',\n",
       "   'description': 'British Labour Party politician'}}]"
      ]
     },
     "execution_count": 403,
     "metadata": {},
     "output_type": "execute_result"
    }
   ],
   "source": [
    "tweets_df['Auto Context Annotations'][3]"
   ]
  },
  {
   "cell_type": "code",
   "execution_count": 369,
   "metadata": {},
   "outputs": [
    {
     "name": "stdout",
     "output_type": "stream",
     "text": [
      "Andy Burnham\n",
      "Andy Burnham\n"
     ]
    },
    {
     "ename": "TypeError",
     "evalue": "string indices must be integers",
     "output_type": "error",
     "traceback": [
      "\u001b[1;31m---------------------------------------------------------------------------\u001b[0m",
      "\u001b[1;31mTypeError\u001b[0m                                 Traceback (most recent call last)",
      "\u001b[1;32m<ipython-input-369-df87cf33e09a>\u001b[0m in \u001b[0;36m<module>\u001b[1;34m\u001b[0m\n\u001b[0;32m      6\u001b[0m     \u001b[1;32mfor\u001b[0m \u001b[0mj\u001b[0m \u001b[1;32min\u001b[0m \u001b[0mrange\u001b[0m\u001b[1;33m(\u001b[0m\u001b[0mlen\u001b[0m\u001b[1;33m(\u001b[0m\u001b[0mi\u001b[0m\u001b[1;33m)\u001b[0m\u001b[1;33m)\u001b[0m\u001b[1;33m:\u001b[0m\u001b[1;33m\u001b[0m\u001b[1;33m\u001b[0m\u001b[0m\n\u001b[0;32m      7\u001b[0m         \u001b[1;31m#print(i[j]['entity'])\u001b[0m\u001b[1;33m\u001b[0m\u001b[1;33m\u001b[0m\u001b[1;33m\u001b[0m\u001b[0m\n\u001b[1;32m----> 8\u001b[1;33m         \u001b[0mentity\u001b[0m \u001b[1;33m=\u001b[0m \u001b[0mi\u001b[0m\u001b[1;33m[\u001b[0m\u001b[0mj\u001b[0m\u001b[1;33m]\u001b[0m\u001b[1;33m[\u001b[0m\u001b[1;34m'entity'\u001b[0m\u001b[1;33m]\u001b[0m\u001b[1;33m[\u001b[0m\u001b[1;34m'name'\u001b[0m\u001b[1;33m]\u001b[0m\u001b[1;33m\u001b[0m\u001b[1;33m\u001b[0m\u001b[0m\n\u001b[0m\u001b[0;32m      9\u001b[0m         \u001b[0mprint\u001b[0m\u001b[1;33m(\u001b[0m\u001b[0mentity\u001b[0m\u001b[1;33m)\u001b[0m\u001b[1;33m\u001b[0m\u001b[1;33m\u001b[0m\u001b[0m\n\u001b[0;32m     10\u001b[0m         \u001b[0mtweets_df\u001b[0m\u001b[1;33m.\u001b[0m\u001b[0mloc\u001b[0m\u001b[1;33m[\u001b[0m\u001b[0mk\u001b[0m\u001b[1;33m,\u001b[0m \u001b[1;34m'Auto Context Annotations Entity'\u001b[0m\u001b[1;33m]\u001b[0m\u001b[1;33m.\u001b[0m\u001b[0mappend\u001b[0m\u001b[1;33m(\u001b[0m\u001b[0mentity\u001b[0m\u001b[1;33m)\u001b[0m\u001b[1;33m\u001b[0m\u001b[1;33m\u001b[0m\u001b[0m\n",
      "\u001b[1;31mTypeError\u001b[0m: string indices must be integers"
     ]
    }
   ],
   "source": [
    "# make sure it is a deep copy\n",
    "tweets_df = pd.DataFrame(tweets, copy = True)\n",
    "tweets_df['Auto Context Annotations Entity'] = np.empty((len(tweets_df), 0)).tolist()\n",
    "\n",
    "for k, i in enumerate(tweets_df['Auto Context Annotations']):\n",
    "    for j in range(len(i)):\n",
    "        #print(i[j]['entity'])\n",
    "        entity = i[j]['entity']['name']\n",
    "        print(entity)\n",
    "        tweets_df.loc[k, 'Auto Context Annotations Entity'].append(entity)\n",
    "        #entities.append(i[j]['entity']['name'])\n",
    "    #tweets_df.loc[k, 'Auto Context Annotations'] = entities"
   ]
  },
  {
   "cell_type": "code",
   "execution_count": 347,
   "metadata": {},
   "outputs": [
    {
     "data": {
      "text/html": [
       "<div>\n",
       "<style scoped>\n",
       "    .dataframe tbody tr th:only-of-type {\n",
       "        vertical-align: middle;\n",
       "    }\n",
       "\n",
       "    .dataframe tbody tr th {\n",
       "        vertical-align: top;\n",
       "    }\n",
       "\n",
       "    .dataframe thead th {\n",
       "        text-align: right;\n",
       "    }\n",
       "</style>\n",
       "<table border=\"1\" class=\"dataframe\">\n",
       "  <thead>\n",
       "    <tr style=\"text-align: right;\">\n",
       "      <th></th>\n",
       "      <th>Author ID:</th>\n",
       "      <th>Tweet:</th>\n",
       "      <th>Time Created</th>\n",
       "      <th>Tweet_ID</th>\n",
       "      <th>Auto Context Annotations</th>\n",
       "      <th>Entities</th>\n",
       "      <th>Location</th>\n",
       "      <th>Metrics</th>\n",
       "    </tr>\n",
       "  </thead>\n",
       "  <tbody>\n",
       "    <tr>\n",
       "      <th>0</th>\n",
       "      <td>507795477</td>\n",
       "      <td>@bucks_herald Along with HS2</td>\n",
       "      <td>2021-10-21 16:26:29+00:00</td>\n",
       "      <td>1451223372378091532</td>\n",
       "      <td>[]</td>\n",
       "      <td>{'mentions': [{'start': 0, 'end': 13, 'usernam...</td>\n",
       "      <td>None</td>\n",
       "      <td>{'retweet_count': 0, 'reply_count': 0, 'like_c...</td>\n",
       "    </tr>\n",
       "    <tr>\n",
       "      <th>1</th>\n",
       "      <td>1162278542891053057</td>\n",
       "      <td>RT @RHarrabin: It is remarkable they are willi...</td>\n",
       "      <td>2021-10-21 16:26:17+00:00</td>\n",
       "      <td>1451223322189049869</td>\n",
       "      <td>[]</td>\n",
       "      <td>{'mentions': [{'start': 3, 'end': 13, 'usernam...</td>\n",
       "      <td>None</td>\n",
       "      <td>{'retweet_count': 67, 'reply_count': 0, 'like_...</td>\n",
       "    </tr>\n",
       "    <tr>\n",
       "      <th>2</th>\n",
       "      <td>910229480328892416</td>\n",
       "      <td>RT @OwsWills: @AndyBurnhamGM For what it's wor...</td>\n",
       "      <td>2021-10-21 16:24:56+00:00</td>\n",
       "      <td>1451222985587793927</td>\n",
       "      <td>[{'domain': {'id': '10', 'name': 'Person', 'de...</td>\n",
       "      <td>{'mentions': [{'start': 3, 'end': 12, 'usernam...</td>\n",
       "      <td>None</td>\n",
       "      <td>{'retweet_count': 1, 'reply_count': 0, 'like_c...</td>\n",
       "    </tr>\n",
       "    <tr>\n",
       "      <th>3</th>\n",
       "      <td>910229480328892416</td>\n",
       "      <td>RT @OwsWills: @AndyBurnhamGM See this image? T...</td>\n",
       "      <td>2021-10-21 16:24:40+00:00</td>\n",
       "      <td>1451222918441144320</td>\n",
       "      <td>[{'domain': {'id': '10', 'name': 'Person', 'de...</td>\n",
       "      <td>{'mentions': [{'start': 3, 'end': 12, 'usernam...</td>\n",
       "      <td>None</td>\n",
       "      <td>{'retweet_count': 2, 'reply_count': 0, 'like_c...</td>\n",
       "    </tr>\n",
       "    <tr>\n",
       "      <th>4</th>\n",
       "      <td>1667387035</td>\n",
       "      <td>RT @mcahs2: No blank cheque for #HS2 they said...</td>\n",
       "      <td>2021-10-21 16:24:03+00:00</td>\n",
       "      <td>1451222763373477897</td>\n",
       "      <td>[]</td>\n",
       "      <td>{'mentions': [{'start': 3, 'end': 10, 'usernam...</td>\n",
       "      <td>None</td>\n",
       "      <td>{'retweet_count': 12, 'reply_count': 0, 'like_...</td>\n",
       "    </tr>\n",
       "    <tr>\n",
       "      <th>5</th>\n",
       "      <td>317950583</td>\n",
       "      <td>RT @OwsWills: @AndyBurnhamGM See this image? T...</td>\n",
       "      <td>2021-10-21 16:23:06+00:00</td>\n",
       "      <td>1451222521676771340</td>\n",
       "      <td>[{'domain': {'id': '10', 'name': 'Person', 'de...</td>\n",
       "      <td>{'mentions': [{'start': 3, 'end': 12, 'usernam...</td>\n",
       "      <td>None</td>\n",
       "      <td>{'retweet_count': 2, 'reply_count': 0, 'like_c...</td>\n",
       "    </tr>\n",
       "    <tr>\n",
       "      <th>6</th>\n",
       "      <td>754369335993524225</td>\n",
       "      <td>RT @ITVCentral: HS2 protests cost high-speed r...</td>\n",
       "      <td>2021-10-21 16:22:46+00:00</td>\n",
       "      <td>1451222438084218886</td>\n",
       "      <td>[]</td>\n",
       "      <td>{'urls': [{'start': 101, 'end': 124, 'url': 'h...</td>\n",
       "      <td>None</td>\n",
       "      <td>{'retweet_count': 3, 'reply_count': 0, 'like_c...</td>\n",
       "    </tr>\n",
       "    <tr>\n",
       "      <th>7</th>\n",
       "      <td>2267795582</td>\n",
       "      <td>RT @EKsaysYES: BBC\\nthe news they forgot\\n\\nBr...</td>\n",
       "      <td>2021-10-21 16:22:19+00:00</td>\n",
       "      <td>1451222325404131330</td>\n",
       "      <td>[{'domain': {'id': '45', 'name': 'Brand Vertic...</td>\n",
       "      <td>{'mentions': [{'start': 3, 'end': 13, 'usernam...</td>\n",
       "      <td>None</td>\n",
       "      <td>{'retweet_count': 221, 'reply_count': 0, 'like...</td>\n",
       "    </tr>\n",
       "    <tr>\n",
       "      <th>8</th>\n",
       "      <td>1074657601214910464</td>\n",
       "      <td>RT @AJPhillipsEsq: @mcahs2 General Irrelevance...</td>\n",
       "      <td>2021-10-21 16:22:14+00:00</td>\n",
       "      <td>1451222305942691849</td>\n",
       "      <td>[]</td>\n",
       "      <td>{'mentions': [{'start': 3, 'end': 17, 'usernam...</td>\n",
       "      <td>None</td>\n",
       "      <td>{'retweet_count': 3, 'reply_count': 0, 'like_c...</td>\n",
       "    </tr>\n",
       "    <tr>\n",
       "      <th>9</th>\n",
       "      <td>585857264</td>\n",
       "      <td>RT @EKsaysYES: BBC\\nthe news they forgot\\n\\nBr...</td>\n",
       "      <td>2021-10-21 16:22:13+00:00</td>\n",
       "      <td>1451222299563208706</td>\n",
       "      <td>[{'domain': {'id': '45', 'name': 'Brand Vertic...</td>\n",
       "      <td>{'mentions': [{'start': 3, 'end': 13, 'usernam...</td>\n",
       "      <td>None</td>\n",
       "      <td>{'retweet_count': 221, 'reply_count': 0, 'like...</td>\n",
       "    </tr>\n",
       "  </tbody>\n",
       "</table>\n",
       "</div>"
      ],
      "text/plain": [
       "            Author ID:                                             Tweet:  \\\n",
       "0            507795477                       @bucks_herald Along with HS2   \n",
       "1  1162278542891053057  RT @RHarrabin: It is remarkable they are willi...   \n",
       "2   910229480328892416  RT @OwsWills: @AndyBurnhamGM For what it's wor...   \n",
       "3   910229480328892416  RT @OwsWills: @AndyBurnhamGM See this image? T...   \n",
       "4           1667387035  RT @mcahs2: No blank cheque for #HS2 they said...   \n",
       "5            317950583  RT @OwsWills: @AndyBurnhamGM See this image? T...   \n",
       "6   754369335993524225  RT @ITVCentral: HS2 protests cost high-speed r...   \n",
       "7           2267795582  RT @EKsaysYES: BBC\\nthe news they forgot\\n\\nBr...   \n",
       "8  1074657601214910464  RT @AJPhillipsEsq: @mcahs2 General Irrelevance...   \n",
       "9            585857264  RT @EKsaysYES: BBC\\nthe news they forgot\\n\\nBr...   \n",
       "\n",
       "               Time Created             Tweet_ID  \\\n",
       "0 2021-10-21 16:26:29+00:00  1451223372378091532   \n",
       "1 2021-10-21 16:26:17+00:00  1451223322189049869   \n",
       "2 2021-10-21 16:24:56+00:00  1451222985587793927   \n",
       "3 2021-10-21 16:24:40+00:00  1451222918441144320   \n",
       "4 2021-10-21 16:24:03+00:00  1451222763373477897   \n",
       "5 2021-10-21 16:23:06+00:00  1451222521676771340   \n",
       "6 2021-10-21 16:22:46+00:00  1451222438084218886   \n",
       "7 2021-10-21 16:22:19+00:00  1451222325404131330   \n",
       "8 2021-10-21 16:22:14+00:00  1451222305942691849   \n",
       "9 2021-10-21 16:22:13+00:00  1451222299563208706   \n",
       "\n",
       "                            Auto Context Annotations  \\\n",
       "0                                                 []   \n",
       "1                                                 []   \n",
       "2  [{'domain': {'id': '10', 'name': 'Person', 'de...   \n",
       "3  [{'domain': {'id': '10', 'name': 'Person', 'de...   \n",
       "4                                                 []   \n",
       "5  [{'domain': {'id': '10', 'name': 'Person', 'de...   \n",
       "6                                                 []   \n",
       "7  [{'domain': {'id': '45', 'name': 'Brand Vertic...   \n",
       "8                                                 []   \n",
       "9  [{'domain': {'id': '45', 'name': 'Brand Vertic...   \n",
       "\n",
       "                                            Entities Location  \\\n",
       "0  {'mentions': [{'start': 0, 'end': 13, 'usernam...     None   \n",
       "1  {'mentions': [{'start': 3, 'end': 13, 'usernam...     None   \n",
       "2  {'mentions': [{'start': 3, 'end': 12, 'usernam...     None   \n",
       "3  {'mentions': [{'start': 3, 'end': 12, 'usernam...     None   \n",
       "4  {'mentions': [{'start': 3, 'end': 10, 'usernam...     None   \n",
       "5  {'mentions': [{'start': 3, 'end': 12, 'usernam...     None   \n",
       "6  {'urls': [{'start': 101, 'end': 124, 'url': 'h...     None   \n",
       "7  {'mentions': [{'start': 3, 'end': 13, 'usernam...     None   \n",
       "8  {'mentions': [{'start': 3, 'end': 17, 'usernam...     None   \n",
       "9  {'mentions': [{'start': 3, 'end': 13, 'usernam...     None   \n",
       "\n",
       "                                             Metrics  \n",
       "0  {'retweet_count': 0, 'reply_count': 0, 'like_c...  \n",
       "1  {'retweet_count': 67, 'reply_count': 0, 'like_...  \n",
       "2  {'retweet_count': 1, 'reply_count': 0, 'like_c...  \n",
       "3  {'retweet_count': 2, 'reply_count': 0, 'like_c...  \n",
       "4  {'retweet_count': 12, 'reply_count': 0, 'like_...  \n",
       "5  {'retweet_count': 2, 'reply_count': 0, 'like_c...  \n",
       "6  {'retweet_count': 3, 'reply_count': 0, 'like_c...  \n",
       "7  {'retweet_count': 221, 'reply_count': 0, 'like...  \n",
       "8  {'retweet_count': 3, 'reply_count': 0, 'like_c...  \n",
       "9  {'retweet_count': 221, 'reply_count': 0, 'like...  "
      ]
     },
     "execution_count": 347,
     "metadata": {},
     "output_type": "execute_result"
    }
   ],
   "source": [
    "tweets_df"
   ]
  },
  {
   "cell_type": "code",
   "execution_count": 270,
   "metadata": {},
   "outputs": [
    {
     "data": {
      "text/plain": [
       "[]"
      ]
     },
     "execution_count": 270,
     "metadata": {},
     "output_type": "execute_result"
    }
   ],
   "source": [
    "np.empty((0,0)).tolist()"
   ]
  },
  {
   "cell_type": "code",
   "execution_count": 228,
   "metadata": {},
   "outputs": [],
   "source": [
    "user_geo = {}\n",
    "for i in ['users','places']:\n",
    "    try:\n",
    "        parameter = query.includes[i]\n",
    "        user_geo[i] = {u for u in parameter}\n",
    "    except KeyError:\n",
    "        continue\n",
    "\n",
    "# since we cannot extract geographical location yet\n",
    "users_df = pd.DataFrame(user_geo['users'])\n"
   ]
  },
  {
   "cell_type": "code",
   "execution_count": 262,
   "metadata": {},
   "outputs": [
    {
     "data": {
      "text/plain": [
       "[{'domain': {'id': '47',\n",
       "   'name': 'Brand',\n",
       "   'description': 'Brands and Companies'},\n",
       "  'entity': {'id': '968089839210872833',\n",
       "   'name': 'Heathrow Airport',\n",
       "   'description': 'Heathrow Airport'}},\n",
       " {'domain': {'id': '65',\n",
       "   'name': 'Interests and Hobbies Vertical',\n",
       "   'description': 'Top level interests and hobbies groupings, like Food or Travel'},\n",
       "  'entity': {'id': '839159814991167489',\n",
       "   'name': 'Travel',\n",
       "   'description': 'Travel'}},\n",
       " 'Heathrow Airport',\n",
       " 'Travel']"
      ]
     },
     "execution_count": 262,
     "metadata": {},
     "output_type": "execute_result"
    }
   ],
   "source": []
  },
  {
   "cell_type": "code",
   "execution_count": 236,
   "metadata": {},
   "outputs": [
    {
     "data": {
      "text/plain": [
       "[{'domain': {'id': '47',\n",
       "   'name': 'Brand',\n",
       "   'description': 'Brands and Companies'},\n",
       "  'entity': {'id': '968089839210872833',\n",
       "   'name': 'Heathrow Airport',\n",
       "   'description': 'Heathrow Airport'}},\n",
       " {'domain': {'id': '65',\n",
       "   'name': 'Interests and Hobbies Vertical',\n",
       "   'description': 'Top level interests and hobbies groupings, like Food or Travel'},\n",
       "  'entity': {'id': '839159814991167489',\n",
       "   'name': 'Travel',\n",
       "   'description': 'Travel'}}]"
      ]
     },
     "execution_count": 236,
     "metadata": {},
     "output_type": "execute_result"
    }
   ],
   "source": [
    "tweets_df['Auto Context Annotations'][3]"
   ]
  },
  {
   "cell_type": "code",
   "execution_count": 234,
   "metadata": {},
   "outputs": [
    {
     "data": {
      "text/plain": [
       "{'mentions': [{'start': 0,\n",
       "   'end': 11,\n",
       "   'username': 'HuygensKen',\n",
       "   'id': '3290378591'}]}"
      ]
     },
     "execution_count": 234,
     "metadata": {},
     "output_type": "execute_result"
    }
   ],
   "source": [
    "tweets_df['Entities'][0]"
   ]
  },
  {
   "cell_type": "code",
   "execution_count": 231,
   "metadata": {},
   "outputs": [
    {
     "data": {
      "text/plain": [
       "{'users': {<User id=540672851 name=Laz, Lazarou Monkiest of Terrors 3.5%🏳️‍🌈💙🚀 username=FrancisMaudeAdv>,\n",
       "  <User id=1187038420645924866 name=George Nugent Travels username=GeorgeNTravels>,\n",
       "  <User id=2198370810 name=Jane Braybrook 🦊🌳🌱 username=JaneBraybrook1>,\n",
       "  <User id=848996189584449537 name=Margaret username=Margaretb2107>,\n",
       "  <User id=103576640 name=Carol H Scott username=MsCarolHScott>,\n",
       "  <User id=1283540598427983872 name=Richard Blaber username=RMBlaber56>,\n",
       "  <User id=1402276468013608963 name=Robert James 7.0👌🇬🇧🇬🇬⚒️👌 username=RobertJ52942435>,\n",
       "  <User id=88545686 name=Pop Quiz! 👻🕸️📝 username=SeriousBismuth>,\n",
       "  <User id=1422975858797465603 name=moiibnkknub username=moibnkjaaaa>}}"
      ]
     },
     "execution_count": 231,
     "metadata": {},
     "output_type": "execute_result"
    }
   ],
   "source": [
    "user_geo"
   ]
  },
  {
   "cell_type": "code",
   "execution_count": 217,
   "metadata": {},
   "outputs": [
    {
     "data": {
      "text/plain": [
       "{<User id=1131876443539902464 name=ขนิฏฐา username=KiN49NMOQOdEyws>,\n",
       " <User id=228385326 name=WORLIFTS                             #thinksafety username=Lifting_Equip>,\n",
       " <User id=1300924825905451008 name=หมดศรัทธา username=PCock45555111>,\n",
       " <User id=284162333 name=Rob Horgan username=Robbiehorgs>,\n",
       " <User id=377957668 name=Sarah Burgess username=SarahABurgess>,\n",
       " <User id=1411965418298920964 name=Yet Another Ban 2 username=YetAnotherBan21>,\n",
       " <User id=391081429 name=alicia pivaro username=aliciapivaro>,\n",
       " <User id=1231173747308138496 name=bryan mclean username=bryanmc75292461>,\n",
       " <User id=804162745 name=Frances Cutler username=frances_cutler>,\n",
       " <User id=3363298269 name=viv holliday ✉ username=holliday_viv>}"
      ]
     },
     "execution_count": 217,
     "metadata": {},
     "output_type": "execute_result"
    }
   ],
   "source": [
    "users = {u for u in query.includes[\"users\"]}\n",
    "#places = {p[\"id\"]: p for p in query.includes[\"places\"]}\n",
    "users"
   ]
  },
  {
   "cell_type": "code",
   "execution_count": 207,
   "metadata": {},
   "outputs": [
    {
     "data": {
      "text/plain": [
       "[<User id=284162333 name=Rob Horgan username=Robbiehorgs>,\n",
       " <User id=3363298269 name=viv holliday ✉ username=holliday_viv>,\n",
       " <User id=391081429 name=alicia pivaro username=aliciapivaro>,\n",
       " <User id=1300924825905451008 name=หมดศรัทธา username=PCock45555111>,\n",
       " <User id=228385326 name=WORLIFTS                             #thinksafety username=Lifting_Equip>,\n",
       " <User id=804162745 name=Frances Cutler username=frances_cutler>,\n",
       " <User id=377957668 name=Sarah Burgess username=SarahABurgess>,\n",
       " <User id=1231173747308138496 name=bryan mclean username=bryanmc75292461>,\n",
       " <User id=1131876443539902464 name=ขนิฏฐา username=KiN49NMOQOdEyws>,\n",
       " <User id=1411965418298920964 name=Yet Another Ban 2 username=YetAnotherBan21>]"
      ]
     },
     "execution_count": 207,
     "metadata": {},
     "output_type": "execute_result"
    }
   ],
   "source": [
    "query.includes[\"users\"]"
   ]
  },
  {
   "cell_type": "code",
   "execution_count": 195,
   "metadata": {},
   "outputs": [
    {
     "name": "stdout",
     "output_type": "stream",
     "text": [
      "284162333\n",
      "London\n",
      "3363298269\n",
      "Can sometimes be found indoors. Yorkshire\n",
      "391081429\n",
      "London\n",
      "1300924825905451008\n",
      "Thailand\n",
      "228385326\n",
      "Wildmoor, Worcs.  B61 0QU\n",
      "804162745\n",
      "None\n",
      "377957668\n",
      "sotogrande, spain\n",
      "1231173747308138496\n",
      "None\n",
      "1131876443539902464\n",
      "จ.นนทบุรี, ประเทศไทย\n",
      "1411965418298920964\n",
      "None\n"
     ]
    }
   ],
   "source": [
    "for tweet in query.data:\n",
    "    if users[tweet.author_id]:\n",
    "        print(tweet.author_id)\n",
    "        user = users[tweet.author_id]\n",
    "        print(user.location)"
   ]
  },
  {
   "cell_type": "markdown",
   "metadata": {},
   "source": [
    "# Resources\n",
    "https://dev.to/twitterdev/a-comprehensive-guide-for-using-the-twitter-api-v2-using-tweepy-in-python-15d9"
   ]
  }
 ],
 "metadata": {
  "interpreter": {
   "hash": "b3ba2566441a7c06988d0923437866b63cedc61552a5af99d1f4fb67d367b25f"
  },
  "kernelspec": {
   "display_name": "Python 3.7.6 64-bit ('base': conda)",
   "name": "python3"
  },
  "language_info": {
   "codemirror_mode": {
    "name": "ipython",
    "version": 3
   },
   "file_extension": ".py",
   "mimetype": "text/x-python",
   "name": "python",
   "nbconvert_exporter": "python",
   "pygments_lexer": "ipython3",
   "version": "3.7.6"
  },
  "orig_nbformat": 4
 },
 "nbformat": 4,
 "nbformat_minor": 2
}
